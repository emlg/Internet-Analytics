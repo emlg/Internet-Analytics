{
 "cells": [
  {
   "cell_type": "markdown",
   "metadata": {},
   "source": [
    "# Networks: structure, evolution & processes\n",
    "**Internet Analytics - Lab 2**\n",
    "\n",
    "---\n",
    "\n",
    "**Group:** *D*\n",
    "\n",
    "**Names:**\n",
    "\n",
    "* *Marc Bickel*\n",
    "* *Cyril Cadoux*\n",
    "* *Emma Lejal Glaude*\n",
    "\n",
    "---\n",
    "\n",
    "#### Instructions\n",
    "\n",
    "*This is a template for part 1 of the lab. Clearly write your answers, comments and interpretations in Markodown cells. Don't forget that you can add $\\LaTeX$ equations in these cells. Feel free to add or remove any cell.*\n",
    "\n",
    "*Please properly comment your code. Code readability will be considered for grading. To avoid long cells of codes in the notebook, you can also embed long python functions and classes in a separate module. Don’t forget to hand in your module if that is the case. In multiple exercises, you are required to come up with your own method to solve various problems. Be creative and clearly motivate and explain your methods. Creativity and clarity will be considered for grading.*"
   ]
  },
  {
   "cell_type": "markdown",
   "metadata": {},
   "source": [
    "---\n",
    "\n",
    "## 2.1 Exploration of real networks\n",
    "\n",
    "#### Exercise 2.1"
   ]
  },
  {
   "cell_type": "code",
   "execution_count": 1,
   "metadata": {
    "collapsed": false
   },
   "outputs": [
    {
     "name": "stdout",
     "output_type": "stream",
     "text": [
      "The number of edges in this graph is  18584\n",
      "The number of nodes in this graph is  13033\n"
     ]
    }
   ],
   "source": [
    "import networkx as nx\n",
    "import numpy as np\n",
    "import matplotlib.pyplot as plt\n",
    "%matplotlib inline\n",
    "\n",
    "G = nx.Graph()\n",
    "\n",
    "file = open('../data/network1.csv','r')\n",
    "for row in file:\n",
    "    if (row[0] != '#') : \n",
    "        indexes  = row.split(',')\n",
    "        indexes[1] = (indexes[1].split('\\n'))[0]\n",
    "        G.add_edge(indexes[0],indexes[1])\n",
    "\n",
    "print('The number of edges in this graph is ', len(G.edges()))\n",
    "print('The number of nodes in this graph is ', len(G.nodes()))"
   ]
  },
  {
   "cell_type": "markdown",
   "metadata": {},
   "source": [
    "#### Exercise 2.2:  Node degree distribution"
   ]
  },
  {
   "cell_type": "code",
   "execution_count": 2,
   "metadata": {
    "collapsed": false
   },
   "outputs": [
    {
     "data": {
      "text/plain": [
       "(array([  1.26210000e+04,   2.01000000e+02,   7.70000000e+01,\n",
       "          4.00000000e+01,   2.00000000e+01,   9.00000000e+00,\n",
       "          1.00000000e+01,   1.10000000e+01,   5.00000000e+00,\n",
       "          6.00000000e+00,   3.00000000e+00,   1.00000000e+00,\n",
       "          2.00000000e+00,   0.00000000e+00,   1.00000000e+00,\n",
       "          2.00000000e+00,   1.00000000e+00,   4.00000000e+00,\n",
       "          1.00000000e+00,   1.00000000e+00,   1.00000000e+00,\n",
       "          1.00000000e+00,   1.00000000e+00,   0.00000000e+00,\n",
       "          0.00000000e+00,   0.00000000e+00,   1.00000000e+00,\n",
       "          1.00000000e+00,   0.00000000e+00,   1.00000000e+00,\n",
       "          1.00000000e+00,   0.00000000e+00,   0.00000000e+00,\n",
       "          1.00000000e+00,   0.00000000e+00,   0.00000000e+00,\n",
       "          0.00000000e+00,   0.00000000e+00,   0.00000000e+00,\n",
       "          1.00000000e+00,   1.00000000e+00,   0.00000000e+00,\n",
       "          0.00000000e+00,   0.00000000e+00,   0.00000000e+00,\n",
       "          0.00000000e+00,   0.00000000e+00,   0.00000000e+00,\n",
       "          0.00000000e+00,   0.00000000e+00,   0.00000000e+00,\n",
       "          1.00000000e+00,   0.00000000e+00,   0.00000000e+00,\n",
       "          0.00000000e+00,   0.00000000e+00,   0.00000000e+00,\n",
       "          0.00000000e+00,   0.00000000e+00,   0.00000000e+00,\n",
       "          0.00000000e+00,   1.00000000e+00,   1.00000000e+00,\n",
       "          0.00000000e+00,   0.00000000e+00,   0.00000000e+00,\n",
       "          0.00000000e+00,   0.00000000e+00,   0.00000000e+00,\n",
       "          0.00000000e+00,   0.00000000e+00,   0.00000000e+00,\n",
       "          0.00000000e+00,   0.00000000e+00,   0.00000000e+00,\n",
       "          0.00000000e+00,   0.00000000e+00,   0.00000000e+00,\n",
       "          0.00000000e+00,   0.00000000e+00,   0.00000000e+00,\n",
       "          0.00000000e+00,   0.00000000e+00,   1.00000000e+00,\n",
       "          0.00000000e+00,   0.00000000e+00,   0.00000000e+00,\n",
       "          0.00000000e+00,   0.00000000e+00,   0.00000000e+00,\n",
       "          0.00000000e+00,   0.00000000e+00,   0.00000000e+00,\n",
       "          1.00000000e+00,   0.00000000e+00,   0.00000000e+00,\n",
       "          0.00000000e+00,   0.00000000e+00,   0.00000000e+00,\n",
       "          0.00000000e+00,   0.00000000e+00,   0.00000000e+00,\n",
       "          0.00000000e+00,   0.00000000e+00,   0.00000000e+00,\n",
       "          0.00000000e+00,   0.00000000e+00,   0.00000000e+00,\n",
       "          0.00000000e+00,   0.00000000e+00,   0.00000000e+00,\n",
       "          0.00000000e+00,   0.00000000e+00,   0.00000000e+00,\n",
       "          0.00000000e+00,   0.00000000e+00,   0.00000000e+00,\n",
       "          0.00000000e+00,   0.00000000e+00,   0.00000000e+00,\n",
       "          0.00000000e+00,   0.00000000e+00,   0.00000000e+00,\n",
       "          0.00000000e+00,   0.00000000e+00,   0.00000000e+00,\n",
       "          0.00000000e+00,   0.00000000e+00,   0.00000000e+00,\n",
       "          0.00000000e+00,   0.00000000e+00,   0.00000000e+00,\n",
       "          0.00000000e+00,   0.00000000e+00,   0.00000000e+00,\n",
       "          0.00000000e+00,   0.00000000e+00,   0.00000000e+00,\n",
       "          0.00000000e+00,   0.00000000e+00,   0.00000000e+00,\n",
       "          0.00000000e+00,   0.00000000e+00,   0.00000000e+00,\n",
       "          0.00000000e+00,   0.00000000e+00,   1.00000000e+00,\n",
       "          0.00000000e+00,   0.00000000e+00,   0.00000000e+00,\n",
       "          0.00000000e+00,   0.00000000e+00,   0.00000000e+00,\n",
       "          0.00000000e+00,   0.00000000e+00,   0.00000000e+00,\n",
       "          0.00000000e+00,   0.00000000e+00,   0.00000000e+00,\n",
       "          0.00000000e+00,   0.00000000e+00,   0.00000000e+00,\n",
       "          0.00000000e+00,   0.00000000e+00,   0.00000000e+00,\n",
       "          0.00000000e+00,   0.00000000e+00,   0.00000000e+00,\n",
       "          0.00000000e+00,   0.00000000e+00,   0.00000000e+00,\n",
       "          0.00000000e+00,   0.00000000e+00,   0.00000000e+00,\n",
       "          0.00000000e+00,   0.00000000e+00,   0.00000000e+00,\n",
       "          0.00000000e+00,   0.00000000e+00,   0.00000000e+00,\n",
       "          0.00000000e+00,   0.00000000e+00,   0.00000000e+00,\n",
       "          0.00000000e+00,   0.00000000e+00,   0.00000000e+00,\n",
       "          0.00000000e+00,   0.00000000e+00,   0.00000000e+00,\n",
       "          0.00000000e+00,   0.00000000e+00,   0.00000000e+00,\n",
       "          0.00000000e+00,   0.00000000e+00,   0.00000000e+00,\n",
       "          0.00000000e+00,   0.00000000e+00,   0.00000000e+00,\n",
       "          0.00000000e+00,   1.00000000e+00]),\n",
       " array([  1.00000000e+00,   8.40500000e+00,   1.58100000e+01,\n",
       "          2.32150000e+01,   3.06200000e+01,   3.80250000e+01,\n",
       "          4.54300000e+01,   5.28350000e+01,   6.02400000e+01,\n",
       "          6.76450000e+01,   7.50500000e+01,   8.24550000e+01,\n",
       "          8.98600000e+01,   9.72650000e+01,   1.04670000e+02,\n",
       "          1.12075000e+02,   1.19480000e+02,   1.26885000e+02,\n",
       "          1.34290000e+02,   1.41695000e+02,   1.49100000e+02,\n",
       "          1.56505000e+02,   1.63910000e+02,   1.71315000e+02,\n",
       "          1.78720000e+02,   1.86125000e+02,   1.93530000e+02,\n",
       "          2.00935000e+02,   2.08340000e+02,   2.15745000e+02,\n",
       "          2.23150000e+02,   2.30555000e+02,   2.37960000e+02,\n",
       "          2.45365000e+02,   2.52770000e+02,   2.60175000e+02,\n",
       "          2.67580000e+02,   2.74985000e+02,   2.82390000e+02,\n",
       "          2.89795000e+02,   2.97200000e+02,   3.04605000e+02,\n",
       "          3.12010000e+02,   3.19415000e+02,   3.26820000e+02,\n",
       "          3.34225000e+02,   3.41630000e+02,   3.49035000e+02,\n",
       "          3.56440000e+02,   3.63845000e+02,   3.71250000e+02,\n",
       "          3.78655000e+02,   3.86060000e+02,   3.93465000e+02,\n",
       "          4.00870000e+02,   4.08275000e+02,   4.15680000e+02,\n",
       "          4.23085000e+02,   4.30490000e+02,   4.37895000e+02,\n",
       "          4.45300000e+02,   4.52705000e+02,   4.60110000e+02,\n",
       "          4.67515000e+02,   4.74920000e+02,   4.82325000e+02,\n",
       "          4.89730000e+02,   4.97135000e+02,   5.04540000e+02,\n",
       "          5.11945000e+02,   5.19350000e+02,   5.26755000e+02,\n",
       "          5.34160000e+02,   5.41565000e+02,   5.48970000e+02,\n",
       "          5.56375000e+02,   5.63780000e+02,   5.71185000e+02,\n",
       "          5.78590000e+02,   5.85995000e+02,   5.93400000e+02,\n",
       "          6.00805000e+02,   6.08210000e+02,   6.15615000e+02,\n",
       "          6.23020000e+02,   6.30425000e+02,   6.37830000e+02,\n",
       "          6.45235000e+02,   6.52640000e+02,   6.60045000e+02,\n",
       "          6.67450000e+02,   6.74855000e+02,   6.82260000e+02,\n",
       "          6.89665000e+02,   6.97070000e+02,   7.04475000e+02,\n",
       "          7.11880000e+02,   7.19285000e+02,   7.26690000e+02,\n",
       "          7.34095000e+02,   7.41500000e+02,   7.48905000e+02,\n",
       "          7.56310000e+02,   7.63715000e+02,   7.71120000e+02,\n",
       "          7.78525000e+02,   7.85930000e+02,   7.93335000e+02,\n",
       "          8.00740000e+02,   8.08145000e+02,   8.15550000e+02,\n",
       "          8.22955000e+02,   8.30360000e+02,   8.37765000e+02,\n",
       "          8.45170000e+02,   8.52575000e+02,   8.59980000e+02,\n",
       "          8.67385000e+02,   8.74790000e+02,   8.82195000e+02,\n",
       "          8.89600000e+02,   8.97005000e+02,   9.04410000e+02,\n",
       "          9.11815000e+02,   9.19220000e+02,   9.26625000e+02,\n",
       "          9.34030000e+02,   9.41435000e+02,   9.48840000e+02,\n",
       "          9.56245000e+02,   9.63650000e+02,   9.71055000e+02,\n",
       "          9.78460000e+02,   9.85865000e+02,   9.93270000e+02,\n",
       "          1.00067500e+03,   1.00808000e+03,   1.01548500e+03,\n",
       "          1.02289000e+03,   1.03029500e+03,   1.03770000e+03,\n",
       "          1.04510500e+03,   1.05251000e+03,   1.05991500e+03,\n",
       "          1.06732000e+03,   1.07472500e+03,   1.08213000e+03,\n",
       "          1.08953500e+03,   1.09694000e+03,   1.10434500e+03,\n",
       "          1.11175000e+03,   1.11915500e+03,   1.12656000e+03,\n",
       "          1.13396500e+03,   1.14137000e+03,   1.14877500e+03,\n",
       "          1.15618000e+03,   1.16358500e+03,   1.17099000e+03,\n",
       "          1.17839500e+03,   1.18580000e+03,   1.19320500e+03,\n",
       "          1.20061000e+03,   1.20801500e+03,   1.21542000e+03,\n",
       "          1.22282500e+03,   1.23023000e+03,   1.23763500e+03,\n",
       "          1.24504000e+03,   1.25244500e+03,   1.25985000e+03,\n",
       "          1.26725500e+03,   1.27466000e+03,   1.28206500e+03,\n",
       "          1.28947000e+03,   1.29687500e+03,   1.30428000e+03,\n",
       "          1.31168500e+03,   1.31909000e+03,   1.32649500e+03,\n",
       "          1.33390000e+03,   1.34130500e+03,   1.34871000e+03,\n",
       "          1.35611500e+03,   1.36352000e+03,   1.37092500e+03,\n",
       "          1.37833000e+03,   1.38573500e+03,   1.39314000e+03,\n",
       "          1.40054500e+03,   1.40795000e+03,   1.41535500e+03,\n",
       "          1.42276000e+03,   1.43016500e+03,   1.43757000e+03,\n",
       "          1.44497500e+03,   1.45238000e+03,   1.45978500e+03,\n",
       "          1.46719000e+03,   1.47459500e+03,   1.48200000e+03]),\n",
       " <a list of 200 Patch objects>)"
      ]
     },
     "execution_count": 2,
     "metadata": {},
     "output_type": "execute_result"
    },
    {
     "data": {
      "image/png": "[encoded data removed]",
      "text/plain": [
       "<matplotlib.figure.Figure at 0x7f28100886d8>"
      ]
     },
     "metadata": {},
     "output_type": "display_data"
    }
   ],
   "source": [
    "degrees = nx.degree(G)\n",
    "plt.hist(list(degrees.values()), bins= 200, log = True)"
   ]
  },
  {
   "cell_type": "markdown",
   "metadata": {},
   "source": [
    "#### Exercise 2.3: Giant component"
   ]
  },
  {
   "cell_type": "code",
   "execution_count": 3,
   "metadata": {
    "collapsed": false
   },
   "outputs": [
    {
     "name": "stdout",
     "output_type": "stream",
     "text": [
      "Number of connected components  192\n",
      "We can see that there is a giant component as the biggest component has size 12576\n",
      "The second largest component has size 16\n"
     ]
    }
   ],
   "source": [
    "sorted_components = sorted(nx.connected_components(G), key = len, reverse=True)\n",
    "print('Number of connected components ', len(sorted_components))\n",
    "sizes = list()\n",
    "for comp in sorted_components:\n",
    "    sizes.append(len(comp))\n",
    "\n",
    "print('We can see that there is a giant component as the biggest component has size', sizes[0])\n",
    "print('The second largest component has size', sizes[1])"
   ]
  },
  {
   "cell_type": "markdown",
   "metadata": {},
   "source": [
    "#### Exercise 2.4: Short paths & Small-worlds"
   ]
  },
  {
   "cell_type": "code",
   "execution_count": 6,
   "metadata": {
    "collapsed": false
   },
   "outputs": [],
   "source": [
    "#Run this cell only once !\n",
    "shortest_paths_lengths = nx.all_pairs_shortest_path_length(G)"
   ]
  },
  {
   "cell_type": "code",
   "execution_count": 7,
   "metadata": {
    "collapsed": false
   },
   "outputs": [
    {
     "name": "stdout",
     "output_type": "stream",
     "text": [
      "The mean of all connections between two nodes is 4.175127915959493\n"
     ]
    }
   ],
   "source": [
    "items = list(shortest_paths_lengths.items())\n",
    "#items is a list of tuples, each tuple is define like this\n",
    "#items[0] is a tuple (starting_node, dict(key= ending_node, val=number of connections needed to reach starting_node))\n",
    "\n",
    "number_of_values = 0\n",
    "sum = 0\n",
    "for e in items:\n",
    "    partial_vals = list(e[1].values())\n",
    "    sum += np.sum(partial_vals)\n",
    "    #e_th elem of the list, second elem of the tuples, values of this second elem\n",
    "    number_of_values += len(partial_vals)\n",
    "    \n",
    "print('The mean of all connections between two nodes is', float(sum/number_of_values))\n",
    "print('As the average distance between two nodes is 4.17 we can say that this graph is a small world')"
   ]
  },
  {
   "cell_type": "markdown",
   "metadata": {},
   "source": [
    "#### Exercise 2.5: Network comparison"
   ]
  },
  {
   "cell_type": "code",
   "execution_count": 12,
   "metadata": {
    "collapsed": false
   },
   "outputs": [
    {
     "name": "stdout",
     "output_type": "stream",
     "text": [
      "The number of edges in this second graph is  43516\n",
      "The number of nodes in this second graph is  26542\n",
      "Number of connected components in second graph  5\n",
      "We can see that there is a giant component as the biggest component has size 26481\n",
      "The second largest component has size 30\n"
     ]
    },
    {
     "data": {
      "image/png": "[encoded data removed]",
      "text/plain": [
       "<matplotlib.figure.Figure at 0x7f27d28e6c88>"
      ]
     },
     "metadata": {},
     "output_type": "display_data"
    }
   ],
   "source": [
    "H = nx.Graph()\n",
    "file_2 = open('../data/network2.csv','r')\n",
    "for row in file_2:\n",
    "    if (row[0] != '#') : \n",
    "        indexes  = row.split(',')\n",
    "        indexes[1] = (indexes[1].split('\\n'))[0]\n",
    "        H.add_edge(indexes[0],indexes[1])\n",
    "\n",
    "print('The number of edges in this second graph is ', len(H.edges()))\n",
    "print('The number of nodes in this second graph is ', len(H.nodes()))\n",
    "degrees_2 = nx.degree(H)\n",
    "plt.hist(list(degrees_2.values()), bins= 200, log = True)\n",
    "sorted_components_2 = sorted(nx.connected_components(H), key = len, reverse=True)\n",
    "print('Number of connected components in second graph ', len(sorted_components_2))\n",
    "sizes_2 = list()\n",
    "for comp in sorted_components_2:\n",
    "    sizes_2.append(len(comp))\n",
    "\n",
    "print('We can see that there is a giant component as the biggest component has size', sizes_2[0])\n",
    "print('The second largest component has size', sizes_2[1])"
   ]
  },
  {
   "cell_type": "code",
   "execution_count": 13,
   "metadata": {
    "collapsed": true
   },
   "outputs": [],
   "source": [
    "#Run this cell only once !!\n",
    "shortest_paths_lengths_H = nx.all_pairs_shortest_path_length(H)"
   ]
  },
  {
   "cell_type": "code",
   "execution_count": 17,
   "metadata": {
    "collapsed": false
   },
   "outputs": [
    {
     "name": "stdout",
     "output_type": "stream",
     "text": [
      "The mean of all connections between two nodes is 97.55320155456225\n"
     ]
    }
   ],
   "source": [
    "items_2 = list(shortest_paths_lengths_H.items())\n",
    "\n",
    "number_of_values_2 = 0\n",
    "sum_2 = 0\n",
    "for e in items_2:\n",
    "    partial_vals_2 = list(e[1].values())\n",
    "    sum_2 += np.sum(partial_vals_2)\n",
    "    #e_th elem of the list, second elem of the tuples, values of this second elem\n",
    "    number_of_values_2 += len(partial_vals_2)\n",
    "    \n",
    "print('The mean of all connections between two nodes is', float(sum_2/number_of_values_2))"
   ]
  },
  {
   "cell_type": "markdown",
   "metadata": {},
   "source": [
    "This second network is really different from the first one.\n",
    "The first one has 18000 links and 13000 nodes and the second one has 43000 and 26000, we are in order of magnitude talking about a twice as big network.\n",
    "However the second graph which is bigger only has 5 components against almost 200 for the first one. \n",
    "We can see that bigger the graph is the more it is connected and looks like a Giant Component.\n",
    "Regarding the degrees of the nodes, the two graphs have a completely different distribution, what we approximated as a decreasing exponential with graph one is more of a gaussian on a very limited number of values of degrees.\n",
    "Indeed the maximum degree of the first graph is over 1400 whereas the maximum degree of the second graph is 8.\n",
    "In regards of the \"small world\" property, the second graph doesn't not meet the condition to be one. Indeed the the average number of connexions to join any 2 points of the graph is 97.55 which is way above the criteria of 6."
   ]
  },
  {
   "cell_type": "markdown",
   "metadata": {},
   "source": [
    "#### Exercise 2.6: Network identification"
   ]
  },
  {
   "cell_type": "markdown",
   "metadata": {
    "collapsed": true
   },
   "source": [
    "Our guess is that the first graph represents the subgraph of the routers as it is possible to have one central router with more than a thousand connexions.\n",
    "Following the argument of the degree of a node, considering intersections of roads, we can hardly imagine 2 intersections with more than 8 roads in common, so the second graph has to be the one of the roads of New York"
   ]
  }
 ],
 "metadata": {
  "anaconda-cloud": {},
  "kernelspec": {
   "display_name": "Python 3",
   "language": "python",
   "name": "python3"
  },
  "language_info": {
   "codemirror_mode": {
    "name": "ipython",
    "version": 3
   },
   "file_extension": ".py",
   "mimetype": "text/x-python",
   "name": "python",
   "nbconvert_exporter": "python",
   "pygments_lexer": "ipython3",
   "version": "3.5.2"
  }
 },
 "nbformat": 4,
 "nbformat_minor": 2
}
