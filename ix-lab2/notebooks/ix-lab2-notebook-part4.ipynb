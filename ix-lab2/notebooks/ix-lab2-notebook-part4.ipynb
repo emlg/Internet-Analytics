{
 "cells": [
  {
   "cell_type": "markdown",
   "metadata": {},
   "source": [
    "# Networks: structure, evolution & processes\n",
    "**Internet Analytics - Lab 2**\n",
    "\n",
    "---\n",
    "\n",
    "**Group:** *D*\n",
    "\n",
    "**Names:**\n",
    "\n",
    "* Lejal Glaude Emma\n",
    "* Bickel Marc\n",
    "* Cadoux Cyril\n",
    "\n",
    "---\n",
    "\n",
    "#### Instructions\n",
    "\n",
    "*This is a template for part 4 of the lab. Clearly write your answers, comments and interpretations in Markodown cells. Don't forget that you can add $\\LaTeX$ equations in these cells. Feel free to add or remove any cell.*\n",
    "\n",
    "*Please properly comment your code. Code readability will be considered for grading. To avoid long cells of codes in the notebook, you can also embed long python functions and classes in a separate module. Don’t forget to hand in your module if that is the case. In multiple exercises, you are required to come up with your own method to solve various problems. Be creative and clearly motivate and explain your methods. Creativity and clarity will be considered for grading.*"
   ]
  },
  {
   "cell_type": "markdown",
   "metadata": {},
   "source": [
    "---\n",
    "\n",
    "## 2.4 PageRank\n",
    "\n",
    "### 2.4.1 Random Surfer Model\n",
    "\n",
    "#### Exercise 2.12"
   ]
  },
  {
   "cell_type": "code",
   "execution_count": 6,
   "metadata": {
    "collapsed": true
   },
   "outputs": [],
   "source": [
    "# Basic libs\n",
    "import networkx as nx\n",
    "import numpy as np\n",
    "import matplotlib.pyplot as plt\n",
    "%matplotlib inline"
   ]
  },
  {
   "cell_type": "markdown",
   "metadata": {},
   "source": [
    "##### First we write a function that reads a .graph file and extracts a graph from it :"
   ]
  },
  {
   "cell_type": "code",
   "execution_count": 7,
   "metadata": {
    "collapsed": false
   },
   "outputs": [],
   "source": [
    "# Important : Here we parse the nodes from string (file reading) to int  => easier manipulations \n",
    "\n",
    "'''This function reads and returns a graph read from a .graph file'''\n",
    "\n",
    "def read_g (location):\n",
    "    \n",
    "    # We use directed graphs here\n",
    "    G = nx.DiGraph()\n",
    "\n",
    "    file = open(location, 'r')\n",
    "\n",
    "\n",
    "    for line in file:\n",
    "\n",
    "        # Split the file's line into 'words'\n",
    "        nodes = line.split()\n",
    "\n",
    "        # The first word is the starting node\n",
    "        G.add_node(int(nodes[0]))\n",
    "\n",
    "        # If the starting point has outgoing edges\n",
    "        if (len(nodes) > 1):\n",
    "            for i in range (1, len(nodes)):\n",
    "\n",
    "                # Add those edges\n",
    "                G.add_edge(int(nodes[0]), int(nodes[i]))  \n",
    "\n",
    "    file.close()\n",
    "    \n",
    "    return G"
   ]
  },
  {
   "cell_type": "markdown",
   "metadata": {},
   "source": [
    "##### We also define this basic function :"
   ]
  },
  {
   "cell_type": "code",
   "execution_count": 8,
   "metadata": {
    "collapsed": true
   },
   "outputs": [],
   "source": [
    "'''The restart function just returns a uniformly chosen node from the graph'''\n",
    "\n",
    "def restart(G):\n",
    "    return np.random.choice(G.nodes())"
   ]
  },
  {
   "cell_type": "markdown",
   "metadata": {},
   "source": [
    "##### We can now define the function that exectutes the random surf on a graph with a certain number of iterations. "
   ]
  },
  {
   "cell_type": "code",
   "execution_count": 12,
   "metadata": {
    "collapsed": false
   },
   "outputs": [],
   "source": [
    "'''Our implementation takes a graph G,\n",
    "    a number of iterations default=100,\n",
    "    the version (False(default)/True)\n",
    "    and a boolean to enable the result printing\n",
    "    in arguments.\n",
    "    '''\n",
    "    \n",
    "\n",
    "def random_surf(G, iterations=100, enhanced=False):\n",
    "    \n",
    "    \n",
    "    # ======== Init ========\n",
    "    \n",
    "    result = np.zeros(G.order())\n",
    "    damping = 0.15\n",
    "    \n",
    "    # The first node chosen at random\n",
    "    actual_page = restart(G)\n",
    "    \n",
    "    # ======== Processing ========\n",
    "    \n",
    "    for i in range (iterations):\n",
    "        \n",
    "        # Increase the actual_page score by 1\n",
    "        result[actual_page] += 1\n",
    "        \n",
    "        # In enhanced version : apply the random restart with proba 'damping'\n",
    "        if(enhanced and np.random.uniform() < damping):\n",
    "            actual_page = restart(G)\n",
    "        \n",
    "        else :            \n",
    "        \n",
    "            nei = G.neighbors(actual_page)\n",
    "            dangling = (len(nei) == 0)\n",
    "\n",
    "            if(dangling and enhanced):            \n",
    "                actual_page = restart(G)\n",
    "                \n",
    "            elif (not(dangling)):\n",
    "                actual_page = np.random.choice(nei)\n",
    "            \n",
    "            # Else we use the naive version and we are on a dangling node => do nothing (see below)\n",
    "    \n",
    "    \n",
    "    # ======== Print ========\n",
    "    \n",
    "    for i in range (len(result)):\n",
    "        print(\"Node \", i, \" has a score of \", result[i])\n"
   ]
  },
  {
   "cell_type": "markdown",
   "metadata": {},
   "source": [
    "##### Now we can apply our functions\n",
    "\n",
    "First We create Ga and Gc from file :"
   ]
  },
  {
   "cell_type": "code",
   "execution_count": 13,
   "metadata": {
    "collapsed": false
   },
   "outputs": [],
   "source": [
    "Ga = read_g('../data/absorbing.graph')\n",
    "Gc = read_g('../data/components.graph')"
   ]
  },
  {
   "cell_type": "code",
   "execution_count": 14,
   "metadata": {
    "collapsed": false
   },
   "outputs": [
    {
     "name": "stdout",
     "output_type": "stream",
     "text": [
      "Node  0  has a score of  1.0\n",
      "Node  1  has a score of  94.0\n",
      "Node  2  has a score of  2.0\n",
      "Node  3  has a score of  2.0\n",
      "Node  4  has a score of  1.0\n"
     ]
    }
   ],
   "source": [
    "random_surf(Ga)"
   ]
  },
  {
   "cell_type": "markdown",
   "metadata": {},
   "source": [
    "By running the above cell several times, we see that node 1 has in average a very large score. This indicates that this is a dangling node. Indeed, if we ask the length of the neighbors list of node 1, we get : "
   ]
  },
  {
   "cell_type": "code",
   "execution_count": 15,
   "metadata": {
    "collapsed": false
   },
   "outputs": [
    {
     "name": "stdout",
     "output_type": "stream",
     "text": [
      "0\n"
     ]
    }
   ],
   "source": [
    "print(len(Ga.neighbors(1)))"
   ]
  },
  {
   "cell_type": "markdown",
   "metadata": {},
   "source": [
    "_______"
   ]
  },
  {
   "cell_type": "code",
   "execution_count": 16,
   "metadata": {
    "collapsed": false
   },
   "outputs": [
    {
     "name": "stdout",
     "output_type": "stream",
     "text": [
      "Node  0  has a score of  27.0\n",
      "Node  1  has a score of  27.0\n",
      "Node  2  has a score of  27.0\n",
      "Node  3  has a score of  19.0\n",
      "Node  4  has a score of  0.0\n",
      "Node  5  has a score of  0.0\n",
      "Node  6  has a score of  0.0\n",
      "Node  7  has a score of  0.0\n"
     ]
    }
   ],
   "source": [
    "random_surf(Gc)"
   ]
  },
  {
   "cell_type": "markdown",
   "metadata": {},
   "source": [
    "By running the above cell several times, we always see that there are only 4 out of 8 nodes that have a non-null score.\n",
    "This indicated that the graph contains 2 disconnected subgraphs. This is clear if we plot the graph :"
   ]
  },
  {
   "cell_type": "code",
   "execution_count": 26,
   "metadata": {
    "collapsed": false
   },
   "outputs": [
    {
     "data": {
      "image/png": "[encoded data removed]",
      "text/plain": [
       "<matplotlib.figure.Figure at 0x7f6f42e99b00>"
      ]
     },
     "metadata": {},
     "output_type": "display_data"
    }
   ],
   "source": [
    "plt.axis('off')\n",
    "plt.title(\"Graph Components\")\n",
    "nx.draw_networkx(Gc)"
   ]
  },
  {
   "cell_type": "markdown",
   "metadata": {},
   "source": [
    "#### Exercise 2.13\n",
    "\n",
    "##### Now we try the enhanced version of our algorithm"
   ]
  },
  {
   "cell_type": "code",
   "execution_count": 33,
   "metadata": {
    "collapsed": false
   },
   "outputs": [
    {
     "name": "stdout",
     "output_type": "stream",
     "text": [
      "Node  0  has a score of  12.0\n",
      "Node  1  has a score of  35.0\n",
      "Node  2  has a score of  14.0\n",
      "Node  3  has a score of  25.0\n",
      "Node  4  has a score of  14.0\n"
     ]
    }
   ],
   "source": [
    "random_surf(Ga,enhanced=True)"
   ]
  },
  {
   "cell_type": "code",
   "execution_count": 37,
   "metadata": {
    "collapsed": false
   },
   "outputs": [
    {
     "name": "stdout",
     "output_type": "stream",
     "text": [
      "Node  0  has a score of  10.0\n",
      "Node  1  has a score of  10.0\n",
      "Node  2  has a score of  13.0\n",
      "Node  3  has a score of  6.0\n",
      "Node  4  has a score of  17.0\n",
      "Node  5  has a score of  9.0\n",
      "Node  6  has a score of  19.0\n",
      "Node  7  has a score of  16.0\n"
     ]
    }
   ],
   "source": [
    "random_surf(Gc, enhanced=True)"
   ]
  },
  {
   "cell_type": "markdown",
   "metadata": {},
   "source": [
    "These scores make sense because the random walk is mathematically more likely to reach nodes that have a lot of 'incoming edges'.\n",
    "\n",
    "In Ga we see that even after the enhancement, node 1 has the best score. This is because 3 other nodes have a hyperlink 'toward' it.\n",
    "\n",
    "In Gc, we can see that the 2 subgraphs have the same shape : 5<->3, 6<->2, 4<->1 and 7<->0.\n",
    "\n",
    "And in facts if we run the cell several times, we see that those pairs of nodes have approximately the same PageRank score (eg nodes 5 and 3 often have the lower score)."
   ]
  },
  {
   "cell_type": "markdown",
   "metadata": {},
   "source": [
    "---\n",
    "\n",
    "### 2.4.2 Power Iteration Method\n",
    "\n",
    "#### Exercise 2.14: Power Iteration method"
   ]
  },
  {
   "cell_type": "code",
   "execution_count": 38,
   "metadata": {
    "collapsed": true
   },
   "outputs": [],
   "source": [
    "# ======== Initialization cell ========\n",
    "\n",
    "theta = 0.85\n",
    "\n",
    "#Our graph\n",
    "Gw = read_g('../data/wikipedia.graph')\n",
    "\n",
    "#Our matrices\n",
    "N = Gw.order()\n",
    "H = np.zeros((N, N))"
   ]
  },
  {
   "cell_type": "code",
   "execution_count": 39,
   "metadata": {
    "collapsed": false
   },
   "outputs": [],
   "source": [
    "# ======== Fill our matrices ========\n",
    "\n",
    "for node in Gw.nodes() :\n",
    "    \n",
    "    neighbors = Gw.neighbors(node)\n",
    "    odeg = len(neighbors)\n",
    "    \n",
    "    #In case of a dangling node\n",
    "    if odeg == 0:\n",
    "        for index in range(N):\n",
    "            H[node][index] = 1.0/N\n",
    "            \n",
    "    #In case thera are neighbors\n",
    "    else :\n",
    "        for nei in neighbors:\n",
    "            H[node][nei] = 1.0/odeg\n",
    "            \n",
    "G = theta*H + (1-theta)/N"
   ]
  },
  {
   "cell_type": "code",
   "execution_count": 40,
   "metadata": {
    "collapsed": false
   },
   "outputs": [
    {
     "name": "stdout",
     "output_type": "stream",
     "text": [
      "Number of iteration :  41\n",
      "\n"
     ]
    }
   ],
   "source": [
    "# ====== Computation of the stationnary distribution using the power method ======\n",
    "\n",
    "# Matrices\n",
    "pi = np.zeros((N))\n",
    "newPi = np.zeros((N))\n",
    "newPi = newPi + 1/N\n",
    "\n",
    "# Counter\n",
    "count = 0\n",
    "\n",
    "# Threshold\n",
    "espilon = 0.00000000005\n",
    "\n",
    "\n",
    "# The power method\n",
    "while( np.linalg.norm(newPi-pi) > espilon):\n",
    "    \n",
    "    pi = newPi\n",
    "    newPi = pi @ G\n",
    "    \n",
    "    count += 1\n",
    "    print(\"\\rNumber of iteration : \", count , end = '')\n",
    "    \n",
    "    \n",
    "print(\"\\n\")"
   ]
  },
  {
   "cell_type": "code",
   "execution_count": 45,
   "metadata": {
    "collapsed": false
   },
   "outputs": [
    {
     "name": "stdout",
     "output_type": "stream",
     "text": [
      "The ten best referenced nodes are :\n",
      "191\n",
      "244\n",
      "279\n",
      "306\n",
      "315\n",
      "332\n",
      "373\n",
      "378\n",
      "382\n",
      "384\n"
     ]
    }
   ],
   "source": [
    "# ====== Extraction of the index of the best referenced nodes ======\n",
    "\n",
    "\n",
    "#List of tuple that is easy to sort\n",
    "tuples = list(zip(range(N), newPi))\n",
    "\n",
    "# Assigning type to tuples\n",
    "dtype = [('node', int), ('score', float)]\n",
    "\n",
    "# Assigning this list to nparray with desired dtype\n",
    "a = np.array(tuples, dtype = dtype)\n",
    "\n",
    "# Sort in function of the score\n",
    "tenBest = np.sort(a, order = 'score')[0:10]\n",
    "\n",
    "# Get the associated id\n",
    "print(\"The ten best referenced nodes are :\")\n",
    "for i in range(10):\n",
    "    print(tenBest[i][0])"
   ]
  },
  {
   "cell_type": "markdown",
   "metadata": {},
   "source": [
    "---\n",
    "\n",
    "### 2.4.3 Gaming the system *(Bonus)*\n",
    "\n",
    "#### Exercise 2.15 *(Bonus)*"
   ]
  },
  {
   "cell_type": "code",
   "execution_count": null,
   "metadata": {
    "collapsed": true
   },
   "outputs": [],
   "source": []
  }
 ],
 "metadata": {
  "anaconda-cloud": {},
  "kernelspec": {
   "display_name": "Python 3",
   "language": "python",
   "name": "python3"
  },
  "language_info": {
   "codemirror_mode": {
    "name": "ipython",
    "version": 3
   },
   "file_extension": ".py",
   "mimetype": "text/x-python",
   "name": "python",
   "nbconvert_exporter": "python",
   "pygments_lexer": "ipython3",
   "version": "3.5.2"
  }
 },
 "nbformat": 4,
 "nbformat_minor": 2
}
