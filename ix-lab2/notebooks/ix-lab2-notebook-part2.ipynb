{
 "cells": [
  {
   "cell_type": "markdown",
   "metadata": {},
   "source": [
    "# Networks: structure, evolution & processes\n",
    "**Internet Analytics - Lab 2**\n",
    "\n",
    "---\n",
    "\n",
    "**Group:** *D*\n",
    "\n",
    "**Names:**\n",
    "\n",
    "* Lejal Glaude Emma\n",
    "* Bickel Marc\n",
    "* Cadoux Cyril\n",
    "\n",
    "---\n",
    "\n",
    "#### Instructions\n",
    "\n",
    "*This is a template for part 2 of the lab. Clearly write your answers, comments and interpretations in Markodown cells. Don't forget that you can add $\\LaTeX$ equations in these cells. Feel free to add or remove any cell.*\n",
    "\n",
    "*Please properly comment your code. Code readability will be considered for grading. To avoid long cells of codes in the notebook, you can also embed long python functions and classes in a separate module. Don’t forget to hand in your module if that is the case. In multiple exercises, you are required to come up with your own method to solve various problems. Be creative and clearly motivate and explain your methods. Creativity and clarity will be considered for grading.*"
   ]
  },
  {
   "cell_type": "markdown",
   "metadata": {},
   "source": [
    "---\n",
    "\n",
    "## 2.2 Network sampling\n",
    "\n",
    "#### Exercise 2.7: Random walk on the Facebook network"
   ]
  },
  {
   "cell_type": "code",
   "execution_count": 2,
   "metadata": {
    "collapsed": true
   },
   "outputs": [],
   "source": [
    "import requests\n",
    "import random # To chose a user's random friend\n",
    "import math"
   ]
  },
  {
   "cell_type": "markdown",
   "metadata": {},
   "source": [
    "##### Reasoning\n",
    "\n",
    "Here we study a part of the facebook network using a Random Walk.\n",
    "We begin with a precise user, we take his age and then we continue the walk with one of his friends randomly chosen."
   ]
  },
  {
   "cell_type": "code",
   "execution_count": 3,
   "metadata": {
    "collapsed": false
   },
   "outputs": [],
   "source": [
    "def get_Age_Friend_And_NbFriends(id) :\n",
    "    \n",
    "\n",
    "    # Base url of the API\n",
    "    URL_TEMPLATE = 'http://iccluster118.iccluster.epfl.ch:5050/v1.0/facebook?user={user_id}'\n",
    "    # The actual url to call \n",
    "    port = 5051\n",
    "    url = URL_TEMPLATE.format(user_id=id, p=port)\n",
    "    # Execute the HTTP Get request\n",
    "    response = requests.get(url)\n",
    "    # Format the json response as a Python dict\n",
    "    data = response.json()\n",
    "    \n",
    "    # Return the age of the user and one of his friends to continue the 'random walk'  \n",
    "    return data['age'], random.choice(data['friends']), len(data['friends'])\n",
    "\n",
    "\n",
    "def mean_age(start_id, number_iterations) :\n",
    "    \n",
    "    cumul = 0\n",
    "    actual_id = start_id\n",
    "    \n",
    "    for k in range (0, number_iterations):\n",
    "        \n",
    "        age, new_id, weight =  get_Age_Friend_And_NbFriends(actual_id)        \n",
    "        cumul += age\n",
    "        actual_id = new_id # Continue the random walk on a random friend\n",
    "        \n",
    "        # Print the state\n",
    "        if (k%47 == 0) :\n",
    "            print (\"\\r\", 100*float(k)/number_iterations, \" %\", end='')\n",
    "    \n",
    "    print(\"\\r100 %\")\n",
    "    \n",
    "    return float(cumul)/number_iterations # Returns the mean age\n"
   ]
  },
  {
   "cell_type": "code",
   "execution_count": 4,
   "metadata": {
    "collapsed": true
   },
   "outputs": [],
   "source": [
    "def print_converted(decimal_age):\n",
    "    \n",
    "    n_years = math.floor(decimal_age)\n",
    "    \n",
    "    # Get the integer number of months\n",
    "    decimal_months = (decimal_age - n_years)*12\n",
    "    n_months = math.floor(decimal_months)\n",
    "    \n",
    "    #Get the integer number of days\n",
    "    decimal_days = (decimal_months - n_months)*30 # We make the approximation that there are 30 days in a month\n",
    "    n_days = math.floor(decimal_days)\n",
    "    \n",
    "    print(\"The mean age that we computed is \", decimal_age, \" which is roughly \", n_years, \" years, \",\n",
    "          n_months, \" months and \",\n",
    "          n_days, \" days.\")\n"
   ]
  },
  {
   "cell_type": "markdown",
   "metadata": {},
   "source": [
    "Here we try to get the mean age with 5000 iterations."
   ]
  },
  {
   "cell_type": "code",
   "execution_count": 5,
   "metadata": {
    "collapsed": false
   },
   "outputs": [
    {
     "name": "stdout",
     "output_type": "stream",
     "text": [
      "100 %\n"
     ]
    }
   ],
   "source": [
    "meanAge = mean_age(\"f30ff3966f16ed62f5165a229a19b319\", 5000)"
   ]
  },
  {
   "cell_type": "code",
   "execution_count": 6,
   "metadata": {
    "collapsed": false
   },
   "outputs": [
    {
     "name": "stdout",
     "output_type": "stream",
     "text": [
      "The mean age that we computed is  24.2778  which is roughly  24  years,  3  months and  10  days.\n"
     ]
    }
   ],
   "source": [
    "print_converted(meanAge)"
   ]
  },
  {
   "cell_type": "markdown",
   "metadata": {},
   "source": [
    "#### Exercise 2.8"
   ]
  },
  {
   "cell_type": "markdown",
   "metadata": {
    "collapsed": true
   },
   "source": [
    "1. Comparing to the facebook study, we are really far from the real average age. This is surely because the starting user is"
   ]
  },
  {
   "cell_type": "code",
   "execution_count": 7,
   "metadata": {
    "collapsed": false
   },
   "outputs": [
    {
     "name": "stdout",
     "output_type": "stream",
     "text": [
      "19\n"
     ]
    }
   ],
   "source": [
    "print(get_Age_Friend_And_NbFriends(\"f30ff3966f16ed62f5165a229a19b319\")[0])"
   ]
  },
  {
   "cell_type": "markdown",
   "metadata": {},
   "source": [
    "years old. It seems logical that his friends-network contains mostly young persons. In other words, our first approach is naive, and is sensitive to 'local values'. So here we have a biais that we have to \"erase\".\n",
    "\n",
    "\n",
    "\n",
    "To do this, we can apply a de-biaising formula from the slide 11 of lecture 4, and we obtain the desired result.\n"
   ]
  },
  {
   "cell_type": "code",
   "execution_count": 9,
   "metadata": {
    "collapsed": true
   },
   "outputs": [],
   "source": [
    "def mean_age_unbiaised(start_id, number_iterations) :\n",
    "    \n",
    "    cumul = 0\n",
    "    sum_one_over_weight = 0\n",
    "    actual_id = start_id\n",
    "    \n",
    "    for k in range (0, number_iterations):\n",
    "        \n",
    "        # Init\n",
    "        age, new_id, weight =  get_Age_Friend_And_NbFriends(actual_id)\n",
    "             \n",
    "        # Computation\n",
    "        sum_one_over_weight += 1.0/weight\n",
    "        cumul += (float(age)/weight)\n",
    "        \n",
    "        # Continue the random walk on a random friend\n",
    "        actual_id = new_id\n",
    "        \n",
    "        # Print the state\n",
    "        if (k%47 == 0) :\n",
    "            print (\"\\r\", 100*float(k)/number_iterations, \" %\", end='')\n",
    "    \n",
    "    print(\"\\r100 %\")\n",
    "    \n",
    "    return cumul/sum_one_over_weight # Returns the mean age\n"
   ]
  },
  {
   "cell_type": "code",
   "execution_count": 18,
   "metadata": {
    "collapsed": false
   },
   "outputs": [
    {
     "name": "stdout",
     "output_type": "stream",
     "text": [
      "100 %\n"
     ]
    }
   ],
   "source": [
    "unbiased_age = mean_age_unbiaised(\"f30ff3966f16ed62f5165a229a19b319\",5000)"
   ]
  },
  {
   "cell_type": "code",
   "execution_count": 19,
   "metadata": {
    "collapsed": false
   },
   "outputs": [
    {
     "name": "stdout",
     "output_type": "stream",
     "text": [
      "The mean age that we computed is  42.897942526318666  which is roughly  42  years,  10  months and  23  days.\n"
     ]
    }
   ],
   "source": [
    "print_converted(unbiased_age)"
   ]
  },
  {
   "cell_type": "markdown",
   "metadata": {},
   "source": [
    "This result is much closer to the value announced by facebook !"
   ]
  },
  {
   "cell_type": "code",
   "execution_count": null,
   "metadata": {
    "collapsed": true
   },
   "outputs": [],
   "source": []
  }
 ],
 "metadata": {
  "anaconda-cloud": {},
  "kernelspec": {
   "display_name": "Python 3",
   "language": "python",
   "name": "python3"
  },
  "language_info": {
   "codemirror_mode": {
    "name": "ipython",
    "version": 3
   },
   "file_extension": ".py",
   "mimetype": "text/x-python",
   "name": "python",
   "nbconvert_exporter": "python",
   "pygments_lexer": "ipython3",
   "version": "3.5.2"
  }
 },
 "nbformat": 4,
 "nbformat_minor": 2
}
