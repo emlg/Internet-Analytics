{
 "cells": [
  {
   "cell_type": "markdown",
   "metadata": {},
   "source": [
    "# Text 2: Latent semantic indexing\n",
    "**Internet Analytics - Lab 4**\n",
    "\n",
    "---\n",
    "\n",
    "**Group:** *D*\n",
    "\n",
    "**Names:**\n",
    "\n",
    "* *Cyril Cadoux*\n",
    "* *Marc Bickel*\n",
    "* *Emma Lejal*\n",
    "\n",
    "---\n",
    "\n",
    "#### Instructions\n",
    "\n",
    "*This is a template for part 2 of the lab. Clearly write your answers, comments and interpretations in Markodown cells. Don't forget that you can add $\\LaTeX$ equations in these cells. Feel free to add or remove any cell.*\n",
    "\n",
    "*Please properly comment your code. Code readability will be considered for grading. To avoid long cells of codes in the notebook, you can also embed long python functions and classes in a separate module. Don’t forget to hand in your module if that is the case. In multiple exercises, you are required to come up with your own method to solve various problems. Be creative and clearly motivate and explain your methods. Creativity and clarity will be considered for grading.*"
   ]
  },
  {
   "cell_type": "code",
   "execution_count": 31,
   "metadata": {
    "collapsed": false
   },
   "outputs": [],
   "source": [
    "import pickle\n",
    "import numpy as np\n",
    "from scipy.sparse.linalg import svds"
   ]
  },
  {
   "cell_type": "markdown",
   "metadata": {},
   "source": [
    "## Exercise 4.4: Latent semantic indexing"
   ]
  },
  {
   "cell_type": "code",
   "execution_count": 32,
   "metadata": {
    "collapsed": false
   },
   "outputs": [],
   "source": [
    "from utils import load_pkl"
   ]
  },
  {
   "cell_type": "code",
   "execution_count": 33,
   "metadata": {
    "collapsed": true
   },
   "outputs": [],
   "source": [
    "TFIDF = load_pkl('data/tfidf.pkl')"
   ]
  },
  {
   "cell_type": "code",
   "execution_count": 34,
   "metadata": {
    "collapsed": true
   },
   "outputs": [],
   "source": [
    "words = load_pkl('data/words.pkl')"
   ]
  },
  {
   "cell_type": "code",
   "execution_count": 35,
   "metadata": {
    "collapsed": false
   },
   "outputs": [
    {
     "data": {
      "text/plain": [
       "['data',\n",
       " 'comput',\n",
       " 'engin',\n",
       " 'energi',\n",
       " 'physic',\n",
       " 'mechan',\n",
       " 'optim',\n",
       " 'recommend',\n",
       " 'research',\n",
       " 'transvers']"
      ]
     },
     "execution_count": 35,
     "metadata": {},
     "output_type": "execute_result"
    }
   ],
   "source": [
    "words[:10]"
   ]
  },
  {
   "cell_type": "code",
   "execution_count": 36,
   "metadata": {
    "collapsed": true
   },
   "outputs": [],
   "source": [
    "docs = load_pkl('data/docs.pkl')"
   ]
  },
  {
   "cell_type": "code",
   "execution_count": 37,
   "metadata": {
    "collapsed": true
   },
   "outputs": [],
   "source": [
    "def indexOf(w):\n",
    "    for i in range(len(words)):\n",
    "        if(words[i] == w):\n",
    "            return i"
   ]
  },
  {
   "cell_type": "code",
   "execution_count": 38,
   "metadata": {
    "collapsed": false
   },
   "outputs": [],
   "source": [
    "U, S, Vt = svds(TFIDF, 300)"
   ]
  },
  {
   "cell_type": "markdown",
   "metadata": {},
   "source": [
    "#### Top 20 eigenvalues : "
   ]
  },
  {
   "cell_type": "code",
   "execution_count": 39,
   "metadata": {
    "collapsed": false
   },
   "outputs": [
    {
     "data": {
      "text/plain": [
       "array([ 38.00094938,  27.33947905,  24.28309272,  23.37363376,\n",
       "        22.71773375,  22.45765828,  21.75387861,  21.62794474,\n",
       "        21.19462941,  20.77585478,  20.35596681,  20.26458478,\n",
       "        20.11926194,  19.91355462,  19.80452182,  19.65565104,\n",
       "        19.62574102,  19.38970516,  19.33123254,  19.2341546 ])"
      ]
     },
     "execution_count": 39,
     "metadata": {},
     "output_type": "execute_result"
    }
   ],
   "source": [
    "S[-20:][::-1]"
   ]
  },
  {
   "cell_type": "markdown",
   "metadata": {},
   "source": [
    "## Exercise 4.5: Topic extraction"
   ]
  },
  {
   "cell_type": "code",
   "execution_count": 43,
   "metadata": {
    "collapsed": false,
    "scrolled": true
   },
   "outputs": [],
   "source": [
    "topTenTerms = U[:,-10:]\n",
    "topTenDocs = Vt[-10:, :]"
   ]
  },
  {
   "cell_type": "code",
   "execution_count": 45,
   "metadata": {
    "collapsed": false
   },
   "outputs": [
    {
     "name": "stdout",
     "output_type": "stream",
     "text": [
      "\n",
      "Topic  0\n",
      "Words : \n",
      " + ena * 0.142 + multidisciplinari * 0.129 + mountain * 0.114 + landscap * 0.101 + interdisciplinari * 0.096 + sustain * 0.094 + renew * 0.092 + environ * 0.091 + situat * 0.081 + wetlab * 0.079\n",
      "Docs : \n",
      " + Renewable energy and solar architecture in Davos * 0.434 + Théorie et critique du projet MA1 (Gugger) * 0.145 + Interdisciplinary / disciplinary project for chemical master * 0.126 + Lab immersion III * 0.123 + Théorie et critique du projet MA2 (Gugger) * 0.118 + Lab immersion I * 0.092 + Lab immersion II * 0.074 + Principles of finance * 0.073 + Hydrogeophysics * 0.058 + Introduction to finance (IF master and minor only) * 0.058\n",
      "\n",
      "Topic  1\n",
      "Words : \n",
      " + guidanc * 0.213 + theme * 0.204 + professor * 0.147 + chosen * 0.135 + subject * 0.096 + artist * 0.092 + ena * 0.086 + individu * 0.084 + multidisciplinari * 0.078 + assist * 0.075\n",
      "Docs : \n",
      " + Renewable energy and solar architecture in Davos * 0.276 + Difficult Double Double Histories * 0.265 + Project in computer science II * 0.258 + Optional project in computer science * 0.207 + Optional project in communication systems * 0.18 + Scientific programming for Engineers * 0.123 + Philosophy of life sciences I * 0.071 + Recent Events in Energy-1 * 0.062 + Recent Events in Energy-2 * 0.058 + Philosophy, epistemology and history of science II * 0.052\n",
      "\n",
      "Topic  2\n",
      "Words : \n",
      " + solar * 0.096 + spectroscopi * 0.095 + semiconductor * 0.081 + guidanc * 0.077 + chemistri * 0.075 + sensit * 0.075 + nanostructur * 0.072 + chosen * 0.07 + inorgan * 0.069 + quantum * 0.067\n",
      "Docs : \n",
      " + Interdisciplinary / disciplinary project for chemical master * 0.256 + Analysis of ancient materials and their degradation * 0.105 + Project in computer science II * 0.102 + Photochemistry II * 0.098 + Difficult Double Double Histories * 0.086 + Advanced materials for photovoltaics and lighting * 0.085 + Nanobiotechnology and biophysics * 0.083 + Physics of photonic semiconductor devices * 0.082 + Inorganic chemistry \"Applications and spin-offs\" * 0.082 + Scientific programming for Engineers * 0.079\n",
      "\n",
      "Topic  3\n",
      "Words : \n",
      " + financi * 0.171 + concis * 0.153 + price * 0.14 + react * 0.131 + market * 0.131 + encount * 0.123 + asset * 0.121 + deform * 0.117 + framework * 0.117 + stress * 0.117\n",
      "Docs : \n",
      " + Structural mechanics (for SV) * 0.371 + Asset Pricing * 0.322 + Introduction to finance (IF master and minor only) * 0.175 + Principles of finance * 0.169 + Investments * 0.149 + Energy Regulation (2016) * 0.144 + Martingales in financial mathematics * 0.114 + Advanced topics in financial econometrics * 0.107 + Quantitative methods in finance * 0.106 + Interdisciplinary / disciplinary project for chemical master * 0.106\n",
      "\n",
      "Topic  4\n",
      "Words : \n",
      " + concis * 0.138 + react * 0.125 + deform * 0.119 + stress * 0.119 + encount * 0.109 + strain * 0.109 + tailor * 0.105 + architectur * 0.099 + micro * 0.093 + detail * 0.091\n",
      "Docs : \n",
      " + Structural mechanics (for SV) * 0.345 + Studio MA2 (Escher et GuneWardena) * 0.184 + Studio MA1 (Escher et GuneWardena) * 0.142 + Renewable energy and solar architecture in Davos * 0.142 + Experimental Geomechanics * 0.115 + Théorie et critique du projet MA1 (Gugger) * 0.109 + Geomechanics * 0.104 + Théorie et critique du projet MA2 (Gugger) * 0.095 + Structural mechanics (for MT) * 0.092 + Difficult Double Double Histories * 0.084\n",
      "\n",
      "Topic  5\n",
      "Words : \n",
      " + bioprocess * 0.253 + bioreactor * 0.189 + batch * 0.17 + downstream * 0.143 + adsorpt * 0.136 + precipit * 0.134 + feed * 0.132 + kinet * 0.121 + chromatographi * 0.119 + financi * 0.105\n",
      "Docs : \n",
      " + Bioprocesses and downstream processing * 0.558 + Biochemical engineering * 0.464 + Asset Pricing * 0.162 + CCMX Advanced Course - Inorganic Particle Synthesis by Precipitation: From Nanoparticles to Self-organised  Mesocrystals and from Theory to Practice * 0.114 + Investments * 0.112 + Introduction to finance (IF master and minor only) * 0.112 + Principles of finance * 0.112 + Bioreactor modeling and simulation * 0.091 + Advanced topics in financial econometrics * 0.078 + Quantitative methods in finance * 0.078\n",
      "\n",
      "Topic  6\n",
      "Words : \n",
      " + linear * 0.122 + algorithm * 0.099 + regress * 0.098 + numer * 0.087 + stochast * 0.086 + random * 0.082 + propag * 0.081 + statist * 0.079 + gradient * 0.078 + financi * 0.077\n",
      "Docs : \n",
      " + Scientific programming for Engineers * 0.22 + Machine Learning for Engineers * 0.139 + Pattern classification and machine learning * 0.106 + Sparse stochastic processes * 0.096 + Probabilities and statistics * 0.095 + Numerical approximation of PDE's II * 0.093 + Lab immersion academic (outside EPFL) A * 0.092 + Lab immersion academic (outside EPFL) B * 0.092 + Structural mechanics (for SV) * 0.089 + Quantitative methods in finance * 0.088\n",
      "\n",
      "Topic  7\n",
      "Words : \n",
      " + financi * 0.105 + architectur * 0.102 + theme * 0.1 + market * 0.092 + price * 0.09 + histor * 0.084 + spatial * 0.083 + financ * 0.082 + econom * 0.081 + ena * 0.08\n",
      "Docs : \n",
      " + Renewable energy and solar architecture in Davos * 0.266 + Studio MA2 (Escher et GuneWardena) * 0.182 + Studio MA1 (Escher et GuneWardena) * 0.143 + Théorie et critique du projet MA1 (Gugger) * 0.139 + Asset Pricing * 0.136 + Principles of finance * 0.127 + Introduction to finance (IF master and minor only) * 0.113 + Théorie et critique du projet MA2 (Gugger) * 0.112 + Difficult Double Double Histories * 0.102 + Studio BA5 (Fröhlich M. & A.) * 0.094\n",
      "\n",
      "Topic  8\n",
      "Words : \n",
      " + obtain * 0.205 + professor * 0.195 + host * 0.191 + submit * 0.166 + immers * 0.162 + wet * 0.155 + head * 0.155 + wetlab * 0.146 + progress * 0.139 + submiss * 0.132\n",
      "Docs : \n",
      " + Lab immersion academic (outside EPFL) A * 0.356 + Lab immersion academic (outside EPFL) B * 0.354 + Lab immersion in industry B * 0.333 + Lab immersion in industry A * 0.329 + Lab immersion III * 0.294 + Lab immersion I * 0.213 + Lab immersion II * 0.158 + Project in bioengineering and biosciences * 0.149 + Semester project in Bioengineering * 0.142 + Project in computer science II * 0.106\n",
      "\n",
      "Topic  9\n",
      "Words : \n",
      " + examincore * 0.0 + forumuser * 0.0 + goalcover * 0.0 + recommenddirect * 0.0 + resourctheoret * 0.0 + functionmicrobiolog * 0.0 + writtenbroaden * 0.0 + pricecomprehens * 0.0 + examinvoltammetri * 0.0 + writtenaim * 0.0\n",
      "Docs : \n",
      " + Project 1 (EDIC) * -0.0 + Project 2 (EDIC) * -0.0 + Training Rotation (EDNE) * -0.006 + Laser microprocessing * -0.006 + Medicinal chemistry * -0.007 + Physics and hydrology of snow * -0.007 + Optical fibers and fiber devices * -0.007 + Lasers: theory and modern applications * -0.007 + Additive Combinatorics * -0.007 + Energy systems engineering * -0.008\n"
     ]
    }
   ],
   "source": [
    "for i in range(10):\n",
    "    topTenIndexesTerms = np.argsort(topTenTerms[:,i])[::-1]\n",
    "    topTenIndexesDocs = np.argsort(topTenDocs[i,:])[::-1]\n",
    "    topicTerms = ''\n",
    "    topicDocs = ''\n",
    "    for j in range(10):\n",
    "        topicTerms += ' + ' + words[topTenIndexesTerms[j]] + ' * ' + str(np.round(topTenTerms[topTenIndexesTerms[j], i], 3))\n",
    "        topicDocs += ' + ' + docs[topTenIndexesDocs[j]] + ' * ' + str(np.round(topTenDocs[i, topTenIndexesDocs[j]], 3))\n",
    "        \n",
    "    print(\"\\nTopic \", i)\n",
    "    print(\"Words : \")\n",
    "    print(topicTerms)\n",
    "    print(\"Docs : \")\n",
    "    print(topicDocs)"
   ]
  },
  {
   "cell_type": "markdown",
   "metadata": {},
   "source": [
    "## Exercise 4.6: Document similarity search in concept-space"
   ]
  },
  {
   "cell_type": "code",
   "execution_count": null,
   "metadata": {
    "collapsed": false
   },
   "outputs": [],
   "source": [
    "def sim(t, d):\n",
    "    return (U[:t] @ S @ Vt[:d])/(la.norm(U[:t])*la.norm(S @ Vt[:d]))"
   ]
  },
  {
   "cell_type": "code",
   "execution_count": null,
   "metadata": {
    "collapsed": true
   },
   "outputs": [],
   "source": []
  },
  {
   "cell_type": "markdown",
   "metadata": {},
   "source": [
    "## Exercise 4.7: Document-document similarity"
   ]
  },
  {
   "cell_type": "code",
   "execution_count": null,
   "metadata": {
    "collapsed": false
   },
   "outputs": [],
   "source": []
  }
 ],
 "metadata": {
  "anaconda-cloud": {},
  "kernelspec": {
   "display_name": "Python [Root]",
   "language": "python",
   "name": "Python [Root]"
  },
  "language_info": {
   "codemirror_mode": {
    "name": "ipython",
    "version": 3
   },
   "file_extension": ".py",
   "mimetype": "text/x-python",
   "name": "python",
   "nbconvert_exporter": "python",
   "pygments_lexer": "ipython3",
   "version": "3.5.2"
  }
 },
 "nbformat": 4,
 "nbformat_minor": 2
}
