{
 "cells": [
  {
   "cell_type": "markdown",
   "metadata": {},
   "source": [
    "# Text 2: Latent semantic indexing\n",
    "**Internet Analytics - Lab 4**\n",
    "\n",
    "---\n",
    "\n",
    "**Group:** *D*\n",
    "\n",
    "**Names:**\n",
    "\n",
    "* *Cyril Cadoux*\n",
    "* *Marc Bickel*\n",
    "* *Emma Lejal*\n",
    "\n",
    "---\n",
    "\n",
    "#### Instructions\n",
    "\n",
    "*This is a template for part 2 of the lab. Clearly write your answers, comments and interpretations in Markodown cells. Don't forget that you can add $\\LaTeX$ equations in these cells. Feel free to add or remove any cell.*\n",
    "\n",
    "*Please properly comment your code. Code readability will be considered for grading. To avoid long cells of codes in the notebook, you can also embed long python functions and classes in a separate module. Don’t forget to hand in your module if that is the case. In multiple exercises, you are required to come up with your own method to solve various problems. Be creative and clearly motivate and explain your methods. Creativity and clarity will be considered for grading.*"
   ]
  },
  {
   "cell_type": "code",
   "execution_count": 1,
   "metadata": {
    "collapsed": false
   },
   "outputs": [],
   "source": [
    "import pickle\n",
    "import numpy as np\n",
    "from scipy.sparse.linalg import svds"
   ]
  },
  {
   "cell_type": "markdown",
   "metadata": {},
   "source": [
    "## Exercise 4.4: Latent semantic indexing"
   ]
  },
  {
   "cell_type": "code",
   "execution_count": 2,
   "metadata": {
    "collapsed": false
   },
   "outputs": [],
   "source": [
    "from utils import load_pkl"
   ]
  },
  {
   "cell_type": "code",
   "execution_count": 3,
   "metadata": {
    "collapsed": true
   },
   "outputs": [],
   "source": [
    "TFIDF = load_pkl('data/tfidf')"
   ]
  },
  {
   "cell_type": "code",
   "execution_count": 32,
   "metadata": {
    "collapsed": true
   },
   "outputs": [],
   "source": [
    "words = load_pkl('data/words.pkl')"
   ]
  },
  {
   "cell_type": "code",
   "execution_count": 40,
   "metadata": {
    "collapsed": true
   },
   "outputs": [],
   "source": [
    "docs = load_pkl('data/docs.pkl')"
   ]
  },
  {
   "cell_type": "code",
   "execution_count": 33,
   "metadata": {
    "collapsed": true
   },
   "outputs": [],
   "source": [
    "def indexOf(w):\n",
    "    for i in range(len(words)):\n",
    "        if(words[i] == w):\n",
    "            return i"
   ]
  },
  {
   "cell_type": "code",
   "execution_count": 7,
   "metadata": {
    "collapsed": false
   },
   "outputs": [],
   "source": [
    "U, S, Vt = svds(TFIDF, 300)"
   ]
  },
  {
   "cell_type": "markdown",
   "metadata": {},
   "source": [
    "#### Top 20 eigenvalues : "
   ]
  },
  {
   "cell_type": "code",
   "execution_count": 15,
   "metadata": {
    "collapsed": false
   },
   "outputs": [
    {
     "data": {
      "text/plain": [
       "array([ 40.89973753,  26.32003373,  24.37240873,  23.54893491,\n",
       "        23.29566155,  22.49805973,  21.79373163,  21.64769042,\n",
       "        21.42968893,  21.10269244,  20.99867966,  20.79085078,\n",
       "        20.60585187,  20.33094968,  20.11457544,  19.91588152,\n",
       "        19.64853489,  19.40089965,  19.30711652,  18.99628973])"
      ]
     },
     "execution_count": 15,
     "metadata": {},
     "output_type": "execute_result"
    }
   ],
   "source": [
    "S[-20:][::-1]"
   ]
  },
  {
   "cell_type": "markdown",
   "metadata": {},
   "source": [
    "## Exercise 4.5: Topic extraction"
   ]
  },
  {
   "cell_type": "code",
   "execution_count": 29,
   "metadata": {
    "collapsed": false,
    "scrolled": true
   },
   "outputs": [],
   "source": [
    "topTenTerms = U[:,-10:][::-1]\n",
    "topTenDocs = Vt[-10:, :][::-1]"
   ]
  },
  {
   "cell_type": "code",
   "execution_count": 44,
   "metadata": {
    "collapsed": false
   },
   "outputs": [
    {
     "name": "stdout",
     "output_type": "stream",
     "text": [
      "\n",
      "Topic  0\n",
      "Words : \n",
      " + icon * 0.185 + heritag * 0.185 + laba * -0.162 + adequ * 0.147 + american * 0.135 + intervent * 0.134 + histor * 0.129 + site * 0.125 + agricultur * -0.125 + cultur * 0.113\n",
      "Docs : \n",
      " + Image Processing for Life Science * -0.002 + Mass spectrometry * -0.007 + Electrochemical nano-bio-sensing and bio/CMOS interfaces * 0.002 + Global business environment * -0.007 + Principles of digital communications * -0.007 + Théorie et critique du projet MA2 (Boltshauser) * 0.024 + Advanced principles and applications of systems biology * 0.001 + Structural mechanics (for MT) * -0.007 + Composites technology * 0.003 + Hardware systems modeling I * 0.007\n",
      "\n",
      "Topic  1\n",
      "Words : \n",
      " + sem * 0.237 + fib * 0.162 + nanophys * 0.162 + microscop * 0.147 + ebsd * 0.144 + scan * 0.144 + front * 0.122 + microscopi * 0.122 + beam * 0.117 + edg * 0.115\n",
      "Docs : \n",
      " + Composites technology * -0.004 + Electrochemical nano-bio-sensing and bio/CMOS interfaces * 0.006 + Mass spectrometry * 0.005 + Principles of digital communications * -0.002 + Advanced principles and applications of systems biology * -0.003 + Théorie et critique du projet MA2 (Boltshauser) * 0.004 + Structural mechanics (for MT) * -0.029 + Global business environment * -0.001 + Image Processing for Life Science * 0.014 + Hardware systems modeling I * -0.001\n",
      "\n",
      "Topic  2\n",
      "Words : \n",
      " + solar * -0.149 + financ * -0.141 + valuat * -0.137 + financi * -0.134 + dyesensit * -0.134 + junction * -0.131 + bbl * -0.126 + price * -0.117 + biomechan * 0.116 + capit * -0.104\n",
      "Docs : \n",
      " + Mass spectrometry * 0.004 + Global business environment * -0.031 + Electrochemical nano-bio-sensing and bio/CMOS interfaces * 0.004 + Composites technology * -0.002 + Principles of digital communications * 0.024 + Image Processing for Life Science * 0.008 + Advanced principles and applications of systems biology * 0.01 + Structural mechanics (for MT) * -0.017 + Théorie et critique du projet MA2 (Boltshauser) * -0.001 + Hardware systems modeling I * 0.009\n",
      "\n",
      "Topic  3\n",
      "Words : \n",
      " + bioprocess * -0.18 + precipit * -0.173 + semiconductor * 0.153 + transistor * 0.146 + kinet * -0.14 + junction * 0.136 + devic * 0.135 + growth * -0.13 + bioreactor * -0.113 + downstream * -0.111\n",
      "Docs : \n",
      " + Structural mechanics (for MT) * 0.008 + Advanced principles and applications of systems biology * 0.003 + Principles of digital communications * 0.012 + Composites technology * -0.003 + Global business environment * -0.01 + Image Processing for Life Science * -0.002 + Théorie et critique du projet MA2 (Boltshauser) * -0.003 + Hardware systems modeling I * 0.008 + Electrochemical nano-bio-sensing and bio/CMOS interfaces * 0.038 + Mass spectrometry * -0.01\n",
      "\n",
      "Topic  4\n",
      "Words : \n",
      " + drug * 0.141 + laba * -0.139 + diseas * 0.135 + architectur * -0.124 + concis * 0.116 + semiconductor * -0.114 + agricultur * -0.106 + transistor * -0.104 + pharmacolog * 0.104 + react * 0.103\n",
      "Docs : \n",
      " + Théorie et critique du projet MA2 (Boltshauser) * -0.029 + Image Processing for Life Science * 0.003 + Global business environment * 0.013 + Composites technology * 0.002 + Principles of digital communications * 0.0 + Electrochemical nano-bio-sensing and bio/CMOS interfaces * -0.024 + Mass spectrometry * -0.0 + Hardware systems modeling I * -0.003 + Structural mechanics (for MT) * 0.059 + Advanced principles and applications of systems biology * 0.009\n",
      "\n",
      "Topic  5\n",
      "Words : \n",
      " + concis * -0.27 + react * -0.24 + encount * -0.213 + microengin * -0.21 + tailor * -0.205 + multi * -0.194 + strain * -0.188 + stress * -0.186 + deform * -0.185 + dimens * -0.151\n",
      "Docs : \n",
      " + Mass spectrometry * 0.003 + Théorie et critique du projet MA2 (Boltshauser) * -0.029 + Structural mechanics (for MT) * -0.159 + Advanced principles and applications of systems biology * 0.006 + Principles of digital communications * 0.018 + Electrochemical nano-bio-sensing and bio/CMOS interfaces * 0.006 + Global business environment * 0.022 + Image Processing for Life Science * 0.001 + Composites technology * 0.001 + Hardware systems modeling I * 0.011\n",
      "\n",
      "Topic  6\n",
      "Words : \n",
      " + concis * 0.18 + react * 0.159 + deform * 0.144 + encount * 0.144 + microengin * 0.14 + stress * 0.139 + multi * 0.137 + tailor * 0.136 + strain * 0.132 + criterion * 0.11\n",
      "Docs : \n",
      " + Advanced principles and applications of systems biology * -0.003 + Mass spectrometry * -0.001 + Image Processing for Life Science * -0.001 + Principles of digital communications * 0.017 + Composites technology * 0.002 + Electrochemical nano-bio-sensing and bio/CMOS interfaces * -0.002 + Théorie et critique du projet MA2 (Boltshauser) * -0.028 + Structural mechanics (for MT) * 0.12 + Global business environment * 0.012 + Hardware systems modeling I * 0.007\n",
      "\n",
      "Topic  7\n",
      "Words : \n",
      " + solar * 0.112 + semiconductor * 0.1 + nanostructur * 0.098 + junction * 0.097 + financ * -0.092 + spectroscopi * 0.092 + molecul * 0.091 + laba * -0.091 + financi * -0.09 + dyesensit * 0.086\n",
      "Docs : \n",
      " + Electrochemical nano-bio-sensing and bio/CMOS interfaces * 0.047 + Composites technology * -0.003 + Advanced principles and applications of systems biology * -0.003 + Structural mechanics (for MT) * 0.019 + Principles of digital communications * -0.01 + Théorie et critique du projet MA2 (Boltshauser) * -0.042 + Global business environment * -0.037 + Image Processing for Life Science * -0.002 + Hardware systems modeling I * -0.012 + Mass spectrometry * 0.016\n",
      "\n",
      "Topic  8\n",
      "Words : \n",
      " + burn * 0.287 + star * 0.273 + stellar * 0.255 + nucleosynthesisstudi * 0.181 + pulsationshelioseismolog * 0.181 + transfernuclear * 0.181 + equilibriumtherm * 0.181 + phasehelium * 0.181 + reactionsnumer * 0.181 + supernova * 0.181\n",
      "Docs : \n",
      " + Mass spectrometry * 0.0 + Composites technology * -0.002 + Principles of digital communications * -0.004 + Image Processing for Life Science * -0.001 + Structural mechanics (for MT) * 0.002 + Electrochemical nano-bio-sensing and bio/CMOS interfaces * 0.0 + Advanced principles and applications of systems biology * -0.002 + Théorie et critique du projet MA2 (Boltshauser) * -0.006 + Hardware systems modeling I * -0.003 + Global business environment * -0.006\n",
      "\n",
      "Topic  9\n",
      "Words : \n",
      " + student * -0.286 + method * -0.201 + learn * -0.155 + provid * 0.062 + semest * 0.059 + oral * 0.058 + knowledg * 0.058 + scientif * 0.056 + research * 0.056 + physic * 0.055\n",
      "Docs : \n",
      " + Mass spectrometry * 0.015 + Structural mechanics (for MT) * 0.026 + Principles of digital communications * 0.023 + Image Processing for Life Science * 0.022 + Advanced principles and applications of systems biology * 0.02 + Composites technology * 0.016 + Electrochemical nano-bio-sensing and bio/CMOS interfaces * 0.026 + Global business environment * 0.039 + Théorie et critique du projet MA2 (Boltshauser) * 0.043 + Hardware systems modeling I * 0.023\n"
     ]
    }
   ],
   "source": [
    "for i in range(10):\n",
    "    topTenIndexes = np.argsort(np.abs(topTenTerms[:,i]))[::-1]\n",
    "    topTenIndexesDocs = np.argsort(topTenDocs[:,i])\n",
    "    topic = ''\n",
    "    topicDocs = ''\n",
    "    for j in range(10):\n",
    "        topic += ' + ' + words[topTenIndexes[j]] + ' * ' + str(np.round(topTenTerms[topTenIndexes[j], i], 3))\n",
    "        topicDocs += ' + ' + docs[topTenIndexesDocs[j]] + ' * ' + str(np.round(topTenDocs[i, topTenIndexesDocs[j]], 3))\n",
    "        \n",
    "    print(\"\\nTopic \", i)\n",
    "    print(\"Words : \")\n",
    "    print(topic)\n",
    "    print(\"Docs : \")\n",
    "    print(topicDocs)"
   ]
  },
  {
   "cell_type": "markdown",
   "metadata": {},
   "source": [
    "## Exercise 4.6: Document similarity search in concept-space"
   ]
  },
  {
   "cell_type": "code",
   "execution_count": 16,
   "metadata": {
    "collapsed": false
   },
   "outputs": [],
   "source": [
    "def sim(t, d):\n",
    "    return (U[:t] @ S @ Vt[:d])/(la.norm(U[:t])*la.norm(S @ Vt[:d]))"
   ]
  },
  {
   "cell_type": "code",
   "execution_count": null,
   "metadata": {
    "collapsed": true
   },
   "outputs": [],
   "source": []
  },
  {
   "cell_type": "markdown",
   "metadata": {},
   "source": [
    "## Exercise 4.7: Document-document similarity"
   ]
  },
  {
   "cell_type": "code",
   "execution_count": null,
   "metadata": {
    "collapsed": false
   },
   "outputs": [],
   "source": []
  }
 ],
 "metadata": {
  "anaconda-cloud": {},
  "kernelspec": {
   "display_name": "Python [Root]",
   "language": "python",
   "name": "Python [Root]"
  },
  "language_info": {
   "codemirror_mode": {
    "name": "ipython",
    "version": 3
   },
   "file_extension": ".py",
   "mimetype": "text/x-python",
   "name": "python",
   "nbconvert_exporter": "python",
   "pygments_lexer": "ipython3",
   "version": "3.5.2"
  }
 },
 "nbformat": 4,
 "nbformat_minor": 2
}
