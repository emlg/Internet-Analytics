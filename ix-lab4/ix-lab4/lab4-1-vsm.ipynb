{
 "cells": [
  {
   "cell_type": "markdown",
   "metadata": {},
   "source": [
    "# Text 1: Vector space models\n",
    "**Internet Analytics - Lab 4**\n",
    "\n",
    "---\n",
    "\n",
    "**Group:** *D*\n",
    "\n",
    "**Names:**\n",
    "\n",
    "* *Marc Bickel*\n",
    "* *Cyril Cadoux*\n",
    "* *Emma Lejal*\n",
    "\n",
    "---\n",
    "\n",
    "#### Instructions\n",
    "\n",
    "*This is a template for part 1 of the lab. Clearly write your answers, comments and interpretations in Markodown cells. Don't forget that you can add $\\LaTeX$ equations in these cells. Feel free to add or remove any cell.*\n",
    "\n",
    "*Please properly comment your code. Code readability will be considered for grading. To avoid long cells of codes in the notebook, you can also embed long python functions and classes in a separate module. Don’t forget to hand in your module if that is the case. In multiple exercises, you are required to come up with your own method to solve various problems. Be creative and clearly motivate and explain your methods. Creativity and clarity will be considered for grading.*"
   ]
  },
  {
   "cell_type": "code",
   "execution_count": 93,
   "metadata": {
    "collapsed": false
   },
   "outputs": [],
   "source": [
    "import pickle\n",
    "import numpy as np\n",
    "from scipy.sparse import csr_matrix\n",
    "from utils import load_json, load_pkl\n",
    "\n",
    "\n",
    "stopwords = load_pkl('data/stopwords.pkl')"
   ]
  },
  {
   "cell_type": "markdown",
   "metadata": {},
   "source": [
    "## Exercise 4.1: Pre-processing"
   ]
  },
  {
   "cell_type": "code",
   "execution_count": 94,
   "metadata": {
    "collapsed": true
   },
   "outputs": [],
   "source": [
    "import string"
   ]
  },
  {
   "cell_type": "markdown",
   "metadata": {},
   "source": [
    "Check NLTK library !"
   ]
  },
  {
   "cell_type": "code",
   "execution_count": 95,
   "metadata": {
    "collapsed": false
   },
   "outputs": [],
   "source": [
    "import nltk\n",
    "#nltk.download()"
   ]
  },
  {
   "cell_type": "markdown",
   "metadata": {},
   "source": [
    "We have chosen to implement the following features : \n",
    "- Remove the stop words\n",
    "- Remove the punctuation\n",
    "- Stem the words\n",
    "- Lemmatize the words"
   ]
  },
  {
   "cell_type": "code",
   "execution_count": 211,
   "metadata": {
    "collapsed": true
   },
   "outputs": [],
   "source": [
    "def deletePunctNumber(s):\n",
    "    \n",
    "    punct_number = ['.',',','\\'', '=', '\\\"','#', '*', '&', '!', '?', ':', ';', '-', '_', '(', ')', '/',\n",
    "                    '0', '1', '2', '3', '4', '5', '6', '7', '8', '9', '%']\n",
    "    result = s\n",
    "    \n",
    "    for p in punct_number :\n",
    "        result = result.replace(p, \" \")\n",
    "        \n",
    "    return result"
   ]
  },
  {
   "cell_type": "code",
   "execution_count": 248,
   "metadata": {
    "collapsed": false
   },
   "outputs": [],
   "source": [
    "def remove_mail_and_http(s):\n",
    "    \n",
    "    result = s\n",
    "    \n",
    "    for word in s.split():\n",
    "        \n",
    "        if ('www' in word or '@' in word or 'http' in word or 'moodle' in word):\n",
    "            result = result.replace(word, \" \")\n",
    "    \n",
    "    return result"
   ]
  },
  {
   "cell_type": "markdown",
   "metadata": {},
   "source": [
    "Using the nltk lib, we define a function that lemmatize and stemms a string"
   ]
  },
  {
   "cell_type": "code",
   "execution_count": 249,
   "metadata": {
    "collapsed": false
   },
   "outputs": [],
   "source": [
    "def lemm_stemm(s):\n",
    "    \n",
    "    # ----- Ensuring lemm and stemm don't crash -----\n",
    "    while( len(s) > 0 and s[0] == ' '):\n",
    "        s = s[1:]\n",
    "        \n",
    "    s = s.replace('  ', ' ')\n",
    "    s = s.replace('   ', ' ')\n",
    "    s = s.replace('    ', ' ')\n",
    "    s = [word for word in s.split(\" \") if len(word) > 0]\n",
    "    # ------------------------------------------------\n",
    "\n",
    "    wordsWtag = nltk.pos_tag(s)\n",
    "\n",
    "    lemmatizer = nltk.stem.WordNetLemmatizer()\n",
    "    lems = [lemmatizer.lemmatize(w, pos = givePos(t.lower()[0])) for (w, t) in wordsWtag ]\n",
    "\n",
    "    porter_stemmer = nltk.stem.PorterStemmer()\n",
    "    stems = [porter_stemmer.stem(l) for l in lems]\n",
    "\n",
    "    return (' '.join(stems)).lower()"
   ]
  },
  {
   "cell_type": "code",
   "execution_count": 266,
   "metadata": {
    "collapsed": false
   },
   "outputs": [],
   "source": [
    "all_stopwords = ''\n",
    "\n",
    "for e in stopwords:\n",
    "    all_stopwords += e + \" \"\n",
    "\n",
    "\n",
    "# Handmade stopwords :\n",
    "all_stopwords += \"class explore number key past decade century course field application pratice current\"\n",
    "all_stopwords += \" commun provide good sessions laboratory prerequisite problem student teach cathedra\"\n",
    "all_stopwords +=  \" homework lab expect knowledge lecture fundament concept project midterm final exam question\"\n",
    "all_stopwords += \" grade make learn understand skill capacity small large group report write oral interpret access output\"\n",
    "all_stopwords += \" start wide invitation method develop base website control exercise discuss scale introduction illustration \"\n",
    "all_stopwords += \" selection student study keyword opportun previous\"\n",
    "all_stopwords += \" model system content design assessment process analysi basic activity outcome present evaluation material\"\n",
    "all_stopwords += \" structure requirement theory generation plan hour import effect scientific time proprety cells office program\"\n",
    "all_stopwords += \" technology principles equation sources science solution relation interaction week semester bachelor master\"\n",
    "all_stopwords += \" results industry test device experiment weekly medium concrete techniques acquire handson moodle epfl\"\n",
    "\n",
    "l_s_stop = lemm_stemm(all_stopwords)"
   ]
  },
  {
   "cell_type": "code",
   "execution_count": 281,
   "metadata": {
    "collapsed": false
   },
   "outputs": [],
   "source": [
    "def strip_stopwords(s):\n",
    "    \n",
    "    s_words = s.split() \n",
    "    \n",
    "        \n",
    "    # Remove basic stopwords, internet and email addresses\n",
    "    first_filter = [word for word in s_words if (word.lower() not in all_stopwords)\n",
    "                   and (len(word) > 2)\n",
    "                   and (\"http\" not in word)\n",
    "                   and ('@' not in word) ]\n",
    "        \n",
    "    s_pure = ''\n",
    "    for w in first_filter:\n",
    "        s_pure += w + \" \"\n",
    "    \n",
    "    if (len(s_pure) == 0) :\n",
    "        return ''\n",
    "    \n",
    "    # Remove lemm_stemm versions of stopwords\n",
    "    lemm_stemm_words = lemm_stemm(s_pure).split()\n",
    "    \n",
    "    resultWords = [word for word in lemm_stemm_words if (word.lower() not in l_s_stop)]\n",
    "    \n",
    "    unique_words = list(set(resultWords))\n",
    "\n",
    "\n",
    "    result = ' '.join(unique_words)\n",
    "    return result"
   ]
  },
  {
   "cell_type": "code",
   "execution_count": 282,
   "metadata": {
    "collapsed": false
   },
   "outputs": [],
   "source": [
    "def givePos(c):\n",
    "    #if(c == 'p' or c == 'i' or c == 'j' or c== 'f' or c == 'c' or c== 'm' or c == 'd' or c== 'w'):\n",
    "    if(c != 'v'):   \n",
    "        return 'n'\n",
    "    else:\n",
    "        return 'v'"
   ]
  },
  {
   "cell_type": "code",
   "execution_count": 283,
   "metadata": {
    "collapsed": true
   },
   "outputs": [],
   "source": [
    "def preProcess(s):\n",
    "    \n",
    "    s = remove_mail_and_http(s)\n",
    "    s = deletePunctNumber(s)\n",
    "    \n",
    "\n",
    "    return strip_stopwords(s)"
   ]
  },
  {
   "cell_type": "markdown",
   "metadata": {},
   "source": [
    "Now we can finally preprocess all the courses' descriptions"
   ]
  },
  {
   "cell_type": "code",
   "execution_count": 284,
   "metadata": {
    "collapsed": false
   },
   "outputs": [
    {
     "name": "stdout",
     "output_type": "stream",
     "text": [
      "100 %\n"
     ]
    }
   ],
   "source": [
    "courses = load_json('data/courses.txt')\n",
    "\n",
    "for i in range(len(courses)):\n",
    "    if (i % 7 == 1):\n",
    "        print(\"\\r\", str(i*100/len(courses))[:4], \" %\", end='')\n",
    "        \n",
    "    courses[i]['description'] = preProcess(courses[i]['description']) #lemm_stemmed\n",
    "    \n",
    "print(\"\\r100 %\")"
   ]
  },
  {
   "cell_type": "markdown",
   "metadata": {},
   "source": [
    "A useful dict :"
   ]
  },
  {
   "cell_type": "code",
   "execution_count": 285,
   "metadata": {
    "collapsed": false
   },
   "outputs": [],
   "source": [
    "name_2_description = {}\n",
    "pos_2_name = {}\n",
    "name_2_pos = {}\n",
    "\n",
    "\n",
    "for i in range  (len(courses)):\n",
    "    name_2_description[courses[i][\"name\"]] = courses[i][\"description\"]\n",
    "    pos_2_name[i] = courses[i]['name']\n",
    "    \n",
    "name_2_pos = {v:k for k,v in pos_2_name.items()}\n"
   ]
  },
  {
   "cell_type": "markdown",
   "metadata": {},
   "source": [
    "Here is the preprocessed version of the description of the course Internet Analytics"
   ]
  },
  {
   "cell_type": "code",
   "execution_count": 286,
   "metadata": {
    "collapsed": false
   },
   "outputs": [
    {
     "data": {
      "text/plain": [
       "'seek chain social modelsdata combin reduct reduc function algebra linear curat inform commerc markov infrastructur apach framework draw algorithm analyt cluster mine graph stochast data network auction map practic hadoop retriev statist effici dimension java balanc cloud advertis recommend dataset topic collect typic theoret servicesdevelop user ubiquit search stream onlin internet comput world spark inspir servic dedic detect machin servicesanalyz coverag foundat'"
      ]
     },
     "execution_count": 286,
     "metadata": {},
     "output_type": "execute_result"
    }
   ],
   "source": [
    "name_2_description[\"Internet analytics\"]"
   ]
  },
  {
   "cell_type": "markdown",
   "metadata": {},
   "source": [
    "## Exercise 4.2: Term-document matrix"
   ]
  },
  {
   "cell_type": "markdown",
   "metadata": {
    "collapsed": false
   },
   "source": [
    "Let's compute the absolute occurence of each word on the whole corpus"
   ]
  },
  {
   "cell_type": "code",
   "execution_count": 157,
   "metadata": {
    "collapsed": true
   },
   "outputs": [],
   "source": [
    "from collections import Counter"
   ]
  },
  {
   "cell_type": "markdown",
   "metadata": {},
   "source": [
    "- We create a string containing the whole corpus.\n",
    "- We create a list 'docs' containing the courses's names\n",
    "- We create a list of tuple 'occurences' that stores the words of the corpus along with their number of apparition\n",
    "- We create a list 'words' that contains all different words"
   ]
  },
  {
   "cell_type": "code",
   "execution_count": 158,
   "metadata": {
    "collapsed": true
   },
   "outputs": [],
   "source": [
    "wholeCorpus = ''\n",
    "docs = []\n",
    "\n",
    "for c in courses:\n",
    "    wholeCorpus += c['description']\n",
    "    docs.append(c['name'])"
   ]
  },
  {
   "cell_type": "code",
   "execution_count": 159,
   "metadata": {
    "collapsed": false
   },
   "outputs": [
    {
     "name": "stdout",
     "output_type": "stream",
     "text": [
      "We have  13302  different words in total among the  854  descriptions\n"
     ]
    }
   ],
   "source": [
    "occurences = Counter(wholeCorpus.lower().split()).most_common()\n",
    "\n",
    "nb_words = len(occurences)\n",
    "nb_docs = len(courses)\n",
    "\n",
    "print(\"We have \", nb_words , \" different words in total among the \", nb_docs , \" descriptions\")"
   ]
  },
  {
   "cell_type": "code",
   "execution_count": 160,
   "metadata": {
    "collapsed": false
   },
   "outputs": [],
   "source": [
    "words = []\n",
    "for (w, n) in occurences:\n",
    "    words.append(w)"
   ]
  },
  {
   "cell_type": "code",
   "execution_count": 169,
   "metadata": {
    "collapsed": false
   },
   "outputs": [
    {
     "name": "stdout",
     "output_type": "stream",
     "text": [
      "['model', 'system', 'content', 'design', 'assess', 'process', 'analysi', 'basic', 'activ', 'outcom', 'present', 'evalu', 'materi', 'data', 'structur', 'requir', 'theori', 'comput', 'engin', 'energi', 'physic', 'techniqu', 'gener', 'recommend', 'transvers', 'plan', 'mechan', 'hour', 'research', 'import', 'discuss', 'effect', 'optim', 'includ', 'practic', 'technolog', 'electron', 'supervis', 'optic', 'function', 'biolog', 'principl', 'properti', 'time', 'scientif', 'imag', 'chemic', 'program', 'topic', 'inform', 'linear', 'assist', 'offic', 'cell', 'manag', 'tool', 'integr', 'case', 'perform', 'equat', 'dynam', 'algorithm', 'semest', 'sourc', 'chemistri', 'resourc', 'molecular', 'statist', 'organ', 'scienc', 'solut', 'signal', 'particip', 'relat', 'interact', 'week', 'methodolog', 'network', 'state', 'architectur', 'product', 'measur', 'level', 'numer', 'simul', 'note', 'flow', 'paper', 'solv', 'industri', 'experi', 'cover', 'technic', 'oper', 'test', 'approach', 'devic', 'circuit', 'result', 'experiment']\n"
     ]
    }
   ],
   "source": [
    "print(words[:100])"
   ]
  },
  {
   "cell_type": "code",
   "execution_count": null,
   "metadata": {
    "collapsed": true
   },
   "outputs": [],
   "source": [
    "all_stopwords += \"class explore number key past decade century course field application pratice current\"\n",
    "all_stopwords += \" commun provide good sessions laboratory prerequisite problem student teach cathedra\"\n",
    "all_stopwords +=  \" homework lab expect knowledge lecture fundament concept project midterm final exam question\"\n",
    "all_stopwords += \" grade make learn understand skill capacity small large group report write oral interpret access output\"\n",
    "all_stopwords += \" start wide invitation method develop base website control exercise discuss scale introduction illustration \"\n",
    "all_stopwords += \" selection student study keyword opportun previous\"\n",
    "all_stopwords += \" model system content design assess process analysi basic activity outcome present evaluation material\"\n",
    "all_stopwords += \" structure requirement theory generation plan hour import effect scientific time proprety cells office program\"\n",
    "all_stopwords += \" technology principles equation sources science solution relation interaction week semester bachelor master\"\n",
    "all_stopwords += \" results industry test device experiment\""
   ]
  },
  {
   "cell_type": "markdown",
   "metadata": {},
   "source": [
    "- Now we define the TF function"
   ]
  },
  {
   "cell_type": "code",
   "execution_count": 161,
   "metadata": {
    "collapsed": false
   },
   "outputs": [],
   "source": [
    "#Function to compute TF\n",
    "def TF(s):\n",
    "    \n",
    "    w_n_tuple = Counter(s.lower().split()).most_common()\n",
    "    highestScore = w_n_tuple[0][1]\n",
    "    res = []\n",
    "    \n",
    "    for(w, n) in w_n_tuple:\n",
    "        res.append((w, n/highestScore))\n",
    "    return res"
   ]
  },
  {
   "cell_type": "code",
   "execution_count": 162,
   "metadata": {
    "collapsed": false
   },
   "outputs": [
    {
     "data": {
      "text/plain": [
       "[('data', 1.0),\n",
       " ('model', 1.0),\n",
       " ('social', 0.8333333333333334),\n",
       " ('onlin', 0.8333333333333334),\n",
       " ('realworld', 0.6666666666666666),\n",
       " ('network', 0.6666666666666666),\n",
       " ('mine', 0.5),\n",
       " ('recommend', 0.5),\n",
       " ('largescal', 0.5),\n",
       " ('basic', 0.5),\n",
       " ('servic', 0.5),\n",
       " ('analyt', 0.3333333333333333),\n",
       " ('ecommerc', 0.3333333333333333),\n",
       " ('materi', 0.3333333333333333),\n",
       " ('inform', 0.3333333333333333),\n",
       " ('algorithm', 0.3333333333333333),\n",
       " ('graph', 0.3333333333333333),\n",
       " ('practic', 0.3333333333333333),\n",
       " ('comput', 0.3333333333333333),\n",
       " ('machin', 0.3333333333333333),\n",
       " ('algebra', 0.3333333333333333),\n",
       " ('linear', 0.3333333333333333),\n",
       " ('system', 0.3333333333333333),\n",
       " ('auction', 0.3333333333333333),\n",
       " ('hadoop', 0.3333333333333333),\n",
       " ('dataset', 0.3333333333333333),\n",
       " ('stream', 0.3333333333333333),\n",
       " ('internet', 0.3333333333333333),\n",
       " ('cluster', 0.3333333333333333),\n",
       " ('detect', 0.3333333333333333),\n",
       " ('seek', 0.16666666666666666),\n",
       " ('weekli', 0.16666666666666666),\n",
       " ('selfcontain', 0.16666666666666666),\n",
       " ('combin', 0.16666666666666666),\n",
       " ('reduct', 0.16666666666666666),\n",
       " ('import', 0.16666666666666666),\n",
       " ('techniqu', 0.16666666666666666),\n",
       " ('apach', 0.16666666666666666),\n",
       " ('content', 0.16666666666666666),\n",
       " ('stochast', 0.16666666666666666),\n",
       " ('analysi', 0.16666666666666666),\n",
       " ('retriev', 0.16666666666666666),\n",
       " ('statist', 0.16666666666666666),\n",
       " ('dimension', 0.16666666666666666),\n",
       " ('advertis', 0.16666666666666666),\n",
       " ('theoret', 0.16666666666666666),\n",
       " ('servicesdevelop', 0.16666666666666666),\n",
       " ('ubiquit', 0.16666666666666666),\n",
       " ('mapreduc', 0.16666666666666666),\n",
       " ('search', 0.16666666666666666),\n",
       " ('structur', 0.16666666666666666),\n",
       " ('design', 0.16666666666666666),\n",
       " ('searchretrievaltop', 0.16666666666666666),\n",
       " ('world', 0.16666666666666666),\n",
       " ('relat', 0.16666666666666666),\n",
       " ('dedic', 0.16666666666666666),\n",
       " ('activ', 0.16666666666666666),\n",
       " ('handson', 0.16666666666666666),\n",
       " ('effici', 0.16666666666666666),\n",
       " ('foundat', 0.16666666666666666),\n",
       " ('chain', 0.16666666666666666),\n",
       " ('theori', 0.16666666666666666),\n",
       " ('curat', 0.16666666666666666),\n",
       " ('medium', 0.16666666666666666),\n",
       " ('function', 0.16666666666666666),\n",
       " ('effect', 0.16666666666666666),\n",
       " ('acquir', 0.16666666666666666),\n",
       " ('concret', 0.16666666666666666),\n",
       " ('infrastructur', 0.16666666666666666),\n",
       " ('draw', 0.16666666666666666),\n",
       " ('balanc', 0.16666666666666666),\n",
       " ('outcom', 0.16666666666666666),\n",
       " ('java', 0.16666666666666666),\n",
       " ('cloud', 0.16666666666666666),\n",
       " ('markov', 0.16666666666666666),\n",
       " ('framework', 0.16666666666666666),\n",
       " ('topic', 0.16666666666666666),\n",
       " ('typic', 0.16666666666666666),\n",
       " ('user', 0.16666666666666666),\n",
       " ('collect', 0.16666666666666666),\n",
       " ('requir', 0.16666666666666666),\n",
       " ('assess', 0.16666666666666666),\n",
       " ('modelsdatamin', 0.16666666666666666),\n",
       " ('spark', 0.16666666666666666),\n",
       " ('inspir', 0.16666666666666666),\n",
       " ('servicesanalyz', 0.16666666666666666),\n",
       " ('coverag', 0.16666666666666666)]"
      ]
     },
     "execution_count": 162,
     "metadata": {},
     "output_type": "execute_result"
    }
   ],
   "source": [
    "TF(name_2_description['Internet analytics'])"
   ]
  },
  {
   "cell_type": "code",
   "execution_count": 163,
   "metadata": {
    "collapsed": false
   },
   "outputs": [],
   "source": [
    "#Computing IDF\n",
    "words_2_nbDoc = {}\n",
    "for w in words:\n",
    "    words_2_nbDoc[w] = 0"
   ]
  },
  {
   "cell_type": "code",
   "execution_count": 164,
   "metadata": {
    "collapsed": false
   },
   "outputs": [
    {
     "name": "stdout",
     "output_type": "stream",
     "text": [
      "concis\n",
      "schmid\n",
      "zaharko\n",
      "genèv\n",
      "frossard\n",
      "examnin\n",
      "mallin\n",
      "telephon\n",
      "microbiologybiochemistri\n",
      "synopsi\n",
      "solidifi\n",
      "chatedra\n",
      "productlifecycl\n",
      "esem\n",
      "fontain\n",
      "bibliograpgi\n",
      "videos\n",
      "projectbas\n",
      "perpect\n",
      "twoday\n",
      "broadbas\n",
      "kunt\n",
      "appointment\n",
      "fudament\n",
      "rigour\n",
      "durret\n",
      "biostatist\n",
      "presentationpost\n",
      "madou\n",
      "hesit\n",
      "biol\n",
      "zhakypov\n",
      "acquired\n",
      "rnabas\n",
      "reportpresent\n",
      "engineeringrelev\n",
      "available\n",
      "practicebas\n",
      "haykin\n",
      "introdut\n",
      "threesemest\n",
      "wellin\n",
      "enviroment\n",
      "lasting\n",
      "présentat\n",
      "tini\n"
     ]
    }
   ],
   "source": [
    "for i in range(nb_docs):\n",
    "    \n",
    "    d = courses[i]['description'].lower()\n",
    "    listOfWords = d.split(' ')\n",
    "    \n",
    "    for j in listOfWords:\n",
    "        try:\n",
    "            words_2_nbDoc[j] += 1\n",
    "        except KeyError:\n",
    "            print(j)\n",
    "            words_2_nbDoc[j] = 1\n",
    "            words.append(j)"
   ]
  },
  {
   "cell_type": "code",
   "execution_count": 165,
   "metadata": {
    "collapsed": false,
    "scrolled": true
   },
   "outputs": [],
   "source": [
    "for k in words_2_nbDoc.keys():\n",
    "    words_2_nbDoc[k] = - np.log2(words_2_nbDoc[k]/nb_docs)"
   ]
  },
  {
   "cell_type": "code",
   "execution_count": 166,
   "metadata": {
    "collapsed": false
   },
   "outputs": [
    {
     "data": {
      "text/plain": [
       "6.0376525414793987"
      ]
     },
     "execution_count": 166,
     "metadata": {},
     "output_type": "execute_result"
    }
   ],
   "source": [
    "words_2_nbDoc['internet']"
   ]
  },
  {
   "cell_type": "code",
   "execution_count": 85,
   "metadata": {
    "collapsed": false
   },
   "outputs": [],
   "source": [
    "TFIDF = np.zeros((len(words),nb_docs))"
   ]
  },
  {
   "cell_type": "code",
   "execution_count": 86,
   "metadata": {
    "collapsed": true
   },
   "outputs": [],
   "source": [
    "def indexOf(w):\n",
    "    for i in range(len(words)):\n",
    "        if(words[i] == w):\n",
    "            return i"
   ]
  },
  {
   "cell_type": "code",
   "execution_count": 89,
   "metadata": {
    "collapsed": false
   },
   "outputs": [],
   "source": [
    "for k in range(len(courses)):\n",
    "    doc = courses[k]['description']\n",
    "    tf = TF(doc)\n",
    "    for (w, f) in tf:\n",
    "        TFIDF[indexOf(w)][k] = f* words_2_nbDoc[w]"
   ]
  },
  {
   "cell_type": "code",
   "execution_count": 54,
   "metadata": {
    "collapsed": false
   },
   "outputs": [
    {
     "data": {
      "text/plain": [
       "array([ 0.09178897,  0.        ,  0.06884173,  0.        ,  0.        ,\n",
       "        0.        ,  0.11014676,  0.08472828,  0.        ,  0.        ,\n",
       "        0.22029353,  0.        ,  0.        ,  0.        ,  0.        ,\n",
       "        0.        ,  0.13768345,  0.18357794,  0.        ,  0.        ,\n",
       "        0.12238529,  0.04589448,  0.11014676,  0.11014676,  0.07867626,\n",
       "        0.09178897,  0.13768345,  0.13768345,  0.        ,  0.        ,\n",
       "        0.        ,  0.10013342,  0.13768345,  0.18357794,  0.09178897,\n",
       "        0.15735252,  0.        ,  0.13768345,  0.05797198,  0.        ,\n",
       "        0.        ,  0.12238529,  0.22029353,  0.        ,  0.07867626,\n",
       "        0.        ,  0.06884173,  0.        ,  0.13768345,  0.        ,\n",
       "        0.11014676,  0.11014676,  0.11014676,  0.        ,  0.08472828,\n",
       "        0.        ,  0.        ,  0.        ,  0.        ,  0.        ,\n",
       "        0.06884173,  0.08472828,  0.18357794,  0.        ,  0.        ,\n",
       "        0.18357794,  0.        ,  0.        ,  0.        ,  0.11014676,\n",
       "        0.        ,  0.        ,  0.        ,  0.12238529,  0.        ,\n",
       "        0.11014676,  0.        ,  0.        ,  0.        ,  0.22029353,\n",
       "        0.        ,  0.        ,  0.        ,  0.10013342,  0.22029353,\n",
       "        0.        ,  0.06119265,  0.        ,  0.        ,  0.        ,\n",
       "        0.13768345,  0.        ,  0.        ,  0.        ,  0.        ,\n",
       "        0.        ,  0.13768345,  0.        ,  0.05245084,  0.        ,\n",
       "        0.        ,  0.12238529,  0.        ,  0.09178897,  0.06884173,\n",
       "        0.        ,  0.        ,  0.13768345,  0.13768345,  0.09178897,\n",
       "        0.06884173,  0.        ,  0.05507338,  0.27536691,  0.06119265,\n",
       "        0.15735252,  0.22029353,  0.        ,  0.07343118,  0.        ,\n",
       "        0.13768345,  0.        ,  0.09178897,  0.27536691,  0.12238529,\n",
       "        0.27536691,  0.        ,  0.        ,  0.        ,  0.        ,\n",
       "        0.07343118,  0.07343118,  0.        ,  0.09178897,  0.36715588,\n",
       "        0.13768345,  0.09178897,  0.07867626,  0.06884173,  0.        ,\n",
       "        0.36715588,  0.        ,  0.22029353,  0.13768345,  0.        ,\n",
       "        0.09178897,  0.13768345,  0.        ,  0.        ,  0.18357794,\n",
       "        0.        ,  0.        ,  0.18357794,  0.27536691,  0.        ,\n",
       "        0.        ,  0.        ,  0.06884173,  0.18357794,  0.        ,\n",
       "        0.        ,  0.        ,  0.        ,  0.        ,  0.07343118,\n",
       "        0.10013342,  0.        ,  0.        ,  0.        ,  0.        ,\n",
       "        0.        ,  0.06119265,  0.05507338,  0.06479221,  0.        ,\n",
       "        0.        ,  0.        ,  0.        ,  0.06479221,  0.        ,\n",
       "        0.18357794,  0.        ,  0.03553121,  0.        ,  0.09178897,\n",
       "        0.07867626,  0.        ,  0.05006671,  0.        ,  0.10013342,\n",
       "        0.06884173,  0.        ,  0.        ,  0.18357794,  0.22029353,\n",
       "        0.        ,  0.36715588,  0.        ,  0.        ,  0.        ,\n",
       "        0.        ,  0.        ,  0.04405871,  0.18357794,  0.        ,\n",
       "        0.27536691,  0.        ,  0.12238529,  0.        ,  0.15735252,\n",
       "        0.        ,  0.        ,  0.        ,  0.22029353,  0.        ,\n",
       "        0.05507338,  0.        ,  0.09178897,  0.        ,  0.        ,\n",
       "        0.        ,  0.        ,  0.10013342,  0.13768345,  0.05507338,\n",
       "        0.        ,  0.        ,  0.        ,  0.        ,  0.22029353,\n",
       "        0.        ,  0.36715588,  0.09178897,  0.        ,  0.13768345,\n",
       "        0.08472828,  0.        ,  0.        ,  0.        ,  0.        ,\n",
       "        0.        ,  0.        ,  0.15735252,  0.        ,  0.08472828,\n",
       "        0.        ,  0.        ,  0.        ,  0.08472828,  0.        ,\n",
       "        0.        ,  0.07867626,  0.        ,  0.13768345,  0.        ,\n",
       "        0.12958443,  0.13768345,  0.13768345,  0.11014676,  0.        ,\n",
       "        0.        ,  0.        ,  0.        ,  0.        ,  0.07867626,\n",
       "        0.09178897,  0.        ,  0.        ,  0.        ,  0.        ,\n",
       "        0.        ,  0.        ,  0.        ,  0.        ,  0.        ,\n",
       "        0.02898599,  0.        ,  0.18357794,  0.13768345,  0.        ,\n",
       "        0.08472828,  0.15735252,  0.        ,  0.12238529,  0.12238529,\n",
       "        0.09178897,  0.        ,  0.07343118,  0.        ,  0.        ,\n",
       "        0.        ,  0.36715588,  0.        ,  0.13768345,  0.        ,\n",
       "        0.        ,  0.02394495,  0.15735252,  0.        ,  0.12238529,\n",
       "        0.        ,  0.27536691,  0.        ,  0.18357794,  0.15735252,\n",
       "        0.05797198,  0.07343118,  0.12238529,  0.10013342,  0.11014676,\n",
       "        0.        ,  0.08472828,  0.11014676,  0.18357794,  0.12238529,\n",
       "        0.        ,  0.        ,  0.        ,  0.        ,  0.15735252,\n",
       "        0.06479221,  0.        ,  0.        ,  0.        ,  0.22029353,\n",
       "        0.        ,  0.27536691,  0.        ,  0.06884173,  0.03933813,\n",
       "        0.        ,  0.12238529,  0.09178897,  0.        ,  0.        ,\n",
       "        0.        ,  0.        ,  0.18357794,  0.36715588,  0.        ,\n",
       "        0.07867626,  0.        ,  0.        ,  0.        ,  0.        ,\n",
       "        0.15735252,  0.        ,  0.        ,  0.08472828,  0.        ,\n",
       "        0.13768345,  0.        ,  0.        ,  0.07867626,  0.        ,\n",
       "        0.        ,  0.06884173,  0.        ,  0.        ,  0.        ,\n",
       "        0.09178897,  0.13768345,  0.        ,  0.18357794,  0.11014676,\n",
       "        0.        ,  0.22029353,  0.11014676,  0.        ,  0.        ,\n",
       "        0.07867626,  0.36715588,  0.06884173,  0.11014676,  0.        ,\n",
       "        0.        ,  0.22029353,  0.        ,  0.        ,  0.        ,\n",
       "        0.        ,  0.12238529,  0.27536691,  0.        ,  0.15735252,\n",
       "        0.11014676,  0.        ,  0.        ,  0.        ,  0.11014676,\n",
       "        0.        ,  0.09178897,  0.07867626,  0.        ,  0.        ,\n",
       "        0.        ,  0.        ,  0.27536691,  0.11014676,  0.09178897,\n",
       "        0.        ,  0.12238529,  0.        ,  0.05507338,  0.12238529,\n",
       "        0.        ,  0.        ,  0.27536691,  0.13768345,  0.        ,\n",
       "        0.        ,  0.        ,  0.        ,  0.13768345,  0.05797198,\n",
       "        0.        ,  0.13768345,  0.10013342,  0.        ,  0.        ,\n",
       "        0.15735252,  0.06884173,  0.        ,  0.        ,  0.        ,\n",
       "        0.05245084,  0.15735252,  0.        ,  0.        ,  0.        ,\n",
       "        0.09178897,  0.        ,  0.10013342,  0.        ,  0.        ,\n",
       "        0.        ,  0.        ,  0.        ,  0.13768345,  0.        ,\n",
       "        0.15735252,  0.27536691,  0.        ,  0.12238529,  0.        ,\n",
       "        0.        ,  0.10013342,  0.18357794,  0.        ,  0.        ,\n",
       "        0.        ,  0.04405871,  0.        ,  0.        ,  0.11014676,\n",
       "        0.        ,  0.        ,  0.22029353,  0.08472828,  0.        ,\n",
       "        0.        ,  0.        ,  0.        ,  0.        ,  0.22029353,\n",
       "        0.        ,  0.        ,  0.        ,  0.12958443,  0.07867626,\n",
       "        0.09178897,  0.        ,  0.22029353,  0.        ,  0.        ,\n",
       "        0.        ,  0.12238529,  0.22029353,  0.        ,  0.06884173,\n",
       "        0.04405871,  0.        ,  0.        ,  0.        ,  0.27536691,\n",
       "        0.        ,  0.13768345,  0.        ,  0.10013342,  0.12238529,\n",
       "        0.11594396,  0.        ,  0.        ,  0.15735252,  0.18357794,\n",
       "        0.12238529,  0.15735252,  0.        ,  0.13768345,  0.15735252,\n",
       "        0.        ,  0.15735252,  0.        ,  0.12238529,  0.        ,\n",
       "        0.12238529,  0.12238529,  0.22029353,  0.18357794,  0.        ,\n",
       "        0.        ,  0.27536691,  0.12238529,  0.        ,  0.        ,\n",
       "        0.        ,  0.        ,  0.07867626,  0.        ,  0.        ,\n",
       "        0.06479221,  0.        ,  0.10013342,  0.06119265,  0.15735252,\n",
       "        0.15735252,  0.10013342,  0.        ,  0.15735252,  0.        ,\n",
       "        0.        ,  0.        ,  0.18357794,  0.        ,  0.        ,\n",
       "        0.16945656,  0.        ,  0.10013342,  0.08472828,  0.18357794,\n",
       "        0.        ,  0.        ,  0.        ,  0.        ,  0.        ,\n",
       "        0.        ,  0.        ,  0.        ,  0.        ,  0.        ,\n",
       "        0.        ,  0.13768345,  0.15735252,  0.13768345,  0.        ,\n",
       "        0.        ,  0.15735252,  0.18357794,  0.12238529,  0.        ,\n",
       "        0.        ,  0.08472828,  0.03553121,  0.        ,  0.27536691,\n",
       "        0.        ,  0.12238529,  0.15735252,  0.        ,  0.        ,\n",
       "        0.        ,  0.        ,  0.11014676,  0.13768345,  0.        ,\n",
       "        0.07343118,  0.        ,  0.        ,  0.        ,  0.        ,\n",
       "        0.13768345,  0.07867626,  0.07343118,  0.12238529,  0.        ,\n",
       "        0.        ,  0.        ,  0.        ,  0.        ,  0.        ,\n",
       "        0.        ,  0.13768345,  0.        ,  0.12238529,  0.        ,\n",
       "        0.06119265,  0.22029353,  0.        ,  0.        ,  0.06479221,\n",
       "        0.        ,  0.27536691,  0.09178897,  0.        ,  0.        ,\n",
       "        0.        ,  0.        ,  0.        ,  0.0314705 ,  0.13768345,\n",
       "        0.        ,  0.12238529,  0.09178897,  0.15735252,  0.        ,\n",
       "        0.        ,  0.11014676,  0.13768345,  0.        ,  0.15735252,\n",
       "        0.        ,  0.11014676,  0.        ,  0.        ,  0.36715588,\n",
       "        0.        ,  0.07343118,  0.        ,  0.22029353,  0.13768345,\n",
       "        0.        ,  0.        ,  0.18357794,  0.        ,  0.        ,\n",
       "        0.        ,  0.        ,  0.        ,  0.08472828,  0.        ,\n",
       "        0.10013342,  0.        ,  0.36715588,  0.12238529,  0.        ,\n",
       "        0.        ,  0.        ,  0.11014676,  0.        ,  0.        ,\n",
       "        0.        ,  0.        ,  0.06884173,  0.        ,  0.22029353,\n",
       "        0.        ,  0.11014676,  0.36715588,  0.        ,  0.        ,\n",
       "        0.        ,  0.10013342,  0.        ,  0.        ,  0.        ,\n",
       "        0.        ,  0.15735252,  0.13768345,  0.15735252,  0.        ,\n",
       "        0.11014676,  0.13768345,  0.        ,  0.        ,  0.10013342,\n",
       "        0.        ,  0.18357794,  0.22029353,  0.        ,  0.        ,\n",
       "        0.        ,  0.        ,  0.        ,  0.22029353,  0.22029353,\n",
       "        0.        ,  0.        ,  0.        ,  0.        ,  0.05507338,\n",
       "        0.18357794,  0.07867626,  0.12238529,  0.        ,  0.        ,\n",
       "        0.        ,  0.13768345,  0.        ,  0.07343118,  0.        ,\n",
       "        0.        ,  0.27536691,  0.        ,  0.27536691,  0.        ,\n",
       "        0.13768345,  0.        ,  0.07867626,  0.        ,  0.        ,\n",
       "        0.05507338,  0.        ,  0.        ,  0.        ,  0.05797198,\n",
       "        0.        ,  0.        ,  0.        ,  0.        ,  0.        ,\n",
       "        0.        ,  0.        ,  0.        ,  0.13768345,  0.        ,\n",
       "        0.        ,  0.        ,  0.        ,  0.        ,  0.        ,\n",
       "        0.        ,  0.        ,  0.18357794,  0.        ,  0.        ,\n",
       "        0.15735252,  0.        ,  0.12238529,  0.27536691,  0.44058706,\n",
       "        0.        ,  0.10013342,  0.        ,  0.        ,  0.13768345,\n",
       "        0.04589448,  0.        ,  0.15735252,  0.36715588,  0.20026684,\n",
       "        0.        ,  0.12238529,  0.18357794,  0.        ,  0.27536691,\n",
       "        0.        ,  0.        ,  0.        ,  0.07867626,  0.13768345,\n",
       "        0.        ,  0.        ,  0.        ,  0.        ,  0.        ,\n",
       "        0.12238529,  0.06479221,  0.13768345,  0.10013342,  0.11014676,\n",
       "        0.09178897,  0.        ,  0.        ,  0.        ,  0.        ,\n",
       "        0.12238529,  0.15735252,  0.27536691,  0.13768345,  0.        ,\n",
       "        0.09178897,  0.        ,  0.        ,  0.08472828,  0.12238529,\n",
       "        0.27536691,  0.        ,  0.55073382,  0.        ,  0.05507338,\n",
       "        0.11014676,  0.12238529,  0.        ,  0.        ,  0.        ,\n",
       "        0.        ,  0.        ,  0.        ,  0.        ,  0.18357794,\n",
       "        0.        ,  0.        ,  0.        ,  0.22029353,  0.        ,\n",
       "        0.        ,  0.11014676,  0.        ,  0.        ,  0.09178897,\n",
       "        0.        ,  0.13768345,  0.15735252,  0.        ,  0.        ,\n",
       "        0.09178897,  0.        ,  0.        ,  0.        ,  0.06884173,\n",
       "        0.13768345,  0.        ,  0.        ,  0.        ,  0.        ,\n",
       "        0.        ,  0.        ,  0.11014676,  0.        ,  0.22029353,\n",
       "        0.36715588,  0.        ,  0.10013342,  0.07343118,  0.        ,\n",
       "        0.        ,  0.        ,  0.        ,  0.06479221,  0.        ,\n",
       "        0.        ,  0.        ,  0.22029353,  0.12238529,  0.13768345,\n",
       "        0.12238529,  0.12238529,  0.06884173,  0.        ,  0.13768345,\n",
       "        0.22029353,  0.22029353,  0.        ,  0.        ])"
      ]
     },
     "execution_count": 54,
     "metadata": {},
     "output_type": "execute_result"
    }
   ],
   "source": [
    "TFIDF[:][43]"
   ]
  },
  {
   "cell_type": "code",
   "execution_count": 55,
   "metadata": {
    "collapsed": false
   },
   "outputs": [
    {
     "name": "stdout",
     "output_type": "stream",
     "text": [
      "transit\n",
      "area\n",
      "step\n",
      "moodl\n",
      "experiment\n",
      "period\n",
      "standard\n",
      "teacher\n",
      "hybrid\n",
      "organis\n",
      "lab\n",
      "laboratori\n",
      "current\n",
      "photovolta\n",
      "tp\n"
     ]
    }
   ],
   "source": [
    "orderedIndexes = np.argsort(TFIDF[:][43], axis = 0)\n",
    "for i in range(15):\n",
    "    print(words[orderedIndexes[-15 +i]])"
   ]
  },
  {
   "cell_type": "markdown",
   "metadata": {},
   "source": [
    "The large scores are words that appears a lot in one document but rarely in other documents (TF score is high and IDF is high).\n",
    "Indeed IDF is high when log2(n/N) is low, log2(n/N) is low when n/M << 1. and n/M << 1 means that n is small as M is fixed. n is small when the word apears in very few documents \n",
    "The small scores are words that either appear rarely in a doc or rarely in every documents (TF or IDF score is low)"
   ]
  },
  {
   "cell_type": "markdown",
   "metadata": {},
   "source": [
    "## Exercise 4.3: Document similarity search"
   ]
  },
  {
   "cell_type": "code",
   "execution_count": 146,
   "metadata": {
    "collapsed": true
   },
   "outputs": [],
   "source": [
    "import numpy.linalg as la"
   ]
  },
  {
   "cell_type": "code",
   "execution_count": 147,
   "metadata": {
    "collapsed": false
   },
   "outputs": [],
   "source": [
    "def sim(di, dj):\n",
    "    return di.T@ dj /(la.norm(di)*la.norm(dj))"
   ]
  },
  {
   "cell_type": "code",
   "execution_count": 152,
   "metadata": {
    "collapsed": false
   },
   "outputs": [],
   "source": [
    "#Queries = \"Markov Chain\" \"facebook\"\n",
    "\"\"\"Q1= np.zeros(len(words))\n",
    "Q2 = np.zeros(len(words))\n",
    "indMarkov = indexOf('markov')\n",
    "indChain = indexOf('chain')\n",
    "indFacebook = indexOf('facebook')\n",
    "Q1[indMarkov] = 1;\n",
    "Q1[indChain] = 1;\n",
    "Q2[indFacebook] = 1;\"\"\""
   ]
  },
  {
   "cell_type": "code",
   "execution_count": 153,
   "metadata": {
    "collapsed": true
   },
   "outputs": [],
   "source": [
    "#similarityScores = np.zeros(nb_docs)\n",
    "#similarityScores = sim(Q1, TFIDF[:])"
   ]
  },
  {
   "cell_type": "code",
   "execution_count": 158,
   "metadata": {
    "collapsed": false
   },
   "outputs": [
    {
     "data": {
      "text/plain": [
       "'Applied probability & stochastic processes'"
      ]
     },
     "execution_count": 158,
     "metadata": {},
     "output_type": "execute_result"
    }
   ],
   "source": [
    "#indexes = np.argsort(similarityScores)\n",
    "#docs[indexes[-1]]"
   ]
  },
  {
   "cell_type": "code",
   "execution_count": 159,
   "metadata": {
    "collapsed": true
   },
   "outputs": [],
   "source": [
    "def topFiveCourses(query):\n",
    "    queryWords = query.split(' ')\n",
    "    Q = np.zeros(len(words))\n",
    "    for w in queryWords:\n",
    "        Q[indexOf(w)] = 1\n",
    "    similarityScores = np.zeros(nb_docs)\n",
    "    similarityScores = sim(Q, TFIDF[:])\n",
    "    indexes = np.argsort(similarityScores)\n",
    "    for i in range(5):\n",
    "        print(\"Course : \", docs[indexes[-5 +i]], \n",
    "              \" with similarity :\", similarityScores[indexes[-5+i]] )"
   ]
  },
  {
   "cell_type": "code",
   "execution_count": 160,
   "metadata": {
    "collapsed": false
   },
   "outputs": [
    {
     "name": "stdout",
     "output_type": "stream",
     "text": [
      "Course :  Markov chains and algorithmic applications  with similarity : 0.00773359636733\n",
      "Course :  Markov chains and algorithmic applications  with similarity : 0.00773359636733\n",
      "Course :  Applied probability & stochastic processes  with similarity : 0.00895240801474\n",
      "Course :  Applied probability & stochastic processes  with similarity : 0.00895240801474\n",
      "Course :  Applied probability & stochastic processes  with similarity : 0.00895240801474\n"
     ]
    }
   ],
   "source": [
    "topFiveCourses('markov chain')"
   ]
  },
  {
   "cell_type": "code",
   "execution_count": 161,
   "metadata": {
    "collapsed": false
   },
   "outputs": [
    {
     "name": "stdout",
     "output_type": "stream",
     "text": [
      "Course :  Transportation systems engineering  with similarity : 0.0\n",
      "Course :  Discrete mathematics  with similarity : 0.0\n",
      "Course :  Computational Social Media  with similarity : 0.00264110109284\n",
      "Course :  Computational Social Media  with similarity : 0.00264110109284\n",
      "Course :  Computational Social Media  with similarity : 0.00264110109284\n"
     ]
    }
   ],
   "source": [
    "topFiveCourses('facebook')"
   ]
  }
 ],
 "metadata": {
  "anaconda-cloud": {},
  "kernelspec": {
   "display_name": "Python 3",
   "language": "python",
   "name": "python3"
  },
  "language_info": {
   "codemirror_mode": {
    "name": "ipython",
    "version": 3
   },
   "file_extension": ".py",
   "mimetype": "text/x-python",
   "name": "python",
   "nbconvert_exporter": "python",
   "pygments_lexer": "ipython3",
   "version": "3.5.2"
  }
 },
 "nbformat": 4,
 "nbformat_minor": 2
}
