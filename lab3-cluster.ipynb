{
 "cells": [
  {
   "cell_type": "markdown",
   "metadata": {},
   "source": [
    "# Lab 3 — clustering"
   ]
  },
  {
   "cell_type": "code",
   "execution_count": 1,
   "metadata": {
    "collapsed": true
   },
   "outputs": [],
   "source": [
    "import json\n",
    "import matplotlib.pyplot as plt\n",
    "import numpy as np\n",
    "import pickle\n",
    "\n",
    "%matplotlib inline\n",
    "plt.style.use(\"ggplot\")"
   ]
  },
  {
   "cell_type": "markdown",
   "metadata": {},
   "source": [
    "## 3.11 Clustering tags"
   ]
  },
  {
   "cell_type": "code",
   "execution_count": 2,
   "metadata": {
    "collapsed": false
   },
   "outputs": [],
   "source": [
    "from sklearn.cluster import KMeans"
   ]
  },
  {
   "cell_type": "markdown",
   "metadata": {},
   "source": [
    "First we reload the data from our file (Stored in part 1)"
   ]
  },
  {
   "cell_type": "code",
   "execution_count": 3,
   "metadata": {
    "collapsed": false
   },
   "outputs": [
    {
     "ename": "FileNotFoundError",
     "evalue": "[Errno 2] No such file or directory: 'nameToNewSpace.pickle'",
     "output_type": "error",
     "traceback": [
      "\u001b[0;31m---------------------------------------------------------------------------\u001b[0m",
      "\u001b[0;31mFileNotFoundError\u001b[0m                         Traceback (most recent call last)",
      "\u001b[0;32m<ipython-input-3-b5b54014def4>\u001b[0m in \u001b[0;36m<module>\u001b[0;34m()\u001b[0m\n\u001b[1;32m      1\u001b[0m \u001b[0;31m#We have a dict from tag name to 5-dim position\u001b[0m\u001b[0;34m\u001b[0m\u001b[0;34m\u001b[0m\u001b[0m\n\u001b[0;32m----> 2\u001b[0;31m \u001b[0;32mwith\u001b[0m \u001b[0mopen\u001b[0m\u001b[0;34m(\u001b[0m\u001b[0;34m\"nameToNewSpace.pickle\"\u001b[0m\u001b[0;34m,\u001b[0m \u001b[0;34m\"rb\"\u001b[0m\u001b[0;34m)\u001b[0m \u001b[0;32mas\u001b[0m \u001b[0mf\u001b[0m\u001b[0;34m:\u001b[0m\u001b[0;34m\u001b[0m\u001b[0m\n\u001b[0m\u001b[1;32m      3\u001b[0m     \u001b[0mtagsToCoord\u001b[0m \u001b[0;34m=\u001b[0m \u001b[0mpickle\u001b[0m\u001b[0;34m.\u001b[0m\u001b[0mload\u001b[0m\u001b[0;34m(\u001b[0m\u001b[0mf\u001b[0m\u001b[0;34m,\u001b[0m \u001b[0mencoding\u001b[0m\u001b[0;34m=\u001b[0m\u001b[0;34m\"utf-8\"\u001b[0m\u001b[0;34m)\u001b[0m\u001b[0;34m\u001b[0m\u001b[0m\n",
      "\u001b[0;31mFileNotFoundError\u001b[0m: [Errno 2] No such file or directory: 'nameToNewSpace.pickle'"
     ]
    }
   ],
   "source": [
    "#We have a dict from tag name to 5-dim position\n",
    "with open(\"nameToNewSpace.pickle\", \"rb\") as f:\n",
    "    tagsToCoord = pickle.load(f, encoding=\"utf-8\")"
   ]
  },
  {
   "cell_type": "markdown",
   "metadata": {},
   "source": [
    "Now we create two lists from the dict, to preserve the order between the keys (named tags, containing the name of the tags) and the values (named coords, containing the 5 values of the 5 dimensions). We also do the KMeans algorithm with different number of clusters (here from 2 to 5). labels_ _is the attribute returning the list which gives the number of the cluster for each point"
   ]
  },
  {
   "cell_type": "code",
   "execution_count": 61,
   "metadata": {
    "collapsed": false
   },
   "outputs": [],
   "source": [
    "tags = list()\n",
    "coords = list()\n",
    "for k in tagsToCoord :\n",
    "    tags.append(k)\n",
    "    coords.append(tagsToCoord[k])\n",
    "\n",
    "#coords = list(tagsToCoord.values())\n",
    "kmeans2 = KMeans(n_clusters = 2).fit(coords)\n",
    "kmeans3 = KMeans(n_clusters = 3).fit(coords)\n",
    "kmeans4 = KMeans(n_clusters = 4).fit(coords)\n",
    "kmeans5 = KMeans(n_clusters = 5).fit(coords)\n",
    "set(kmeans2.labels_) # values are 0 and 1"
   ]
  },
  {
   "cell_type": "code",
   "execution_count": 6,
   "metadata": {
    "collapsed": false
   },
   "outputs": [
    {
     "data": {
      "text/html": [
       "\n",
       "    <div class=\"bk-root\">\n",
       "        <a href=\"http://bokeh.pydata.org\" target=\"_blank\" class=\"bk-logo bk-logo-small bk-logo-notebook\"></a>\n",
       "        <span id=\"acde005a-2ccf-4bc3-b180-714edd4390dc\">Loading BokehJS ...</span>\n",
       "    </div>"
      ]
     },
     "metadata": {},
     "output_type": "display_data"
    },
    {
     "data": {
      "application/javascript": [
       "\n",
       "(function(global) {\n",
       "  function now() {\n",
       "    return new Date();\n",
       "  }\n",
       "\n",
       "  var force = \"1\";\n",
       "\n",
       "  if (typeof (window._bokeh_onload_callbacks) === \"undefined\" || force !== \"\") {\n",
       "    window._bokeh_onload_callbacks = [];\n",
       "    window._bokeh_is_loading = undefined;\n",
       "  }\n",
       "\n",
       "\n",
       "  \n",
       "  if (typeof (window._bokeh_timeout) === \"undefined\" || force !== \"\") {\n",
       "    window._bokeh_timeout = Date.now() + 5000;\n",
       "    window._bokeh_failed_load = false;\n",
       "  }\n",
       "\n",
       "  var NB_LOAD_WARNING = {'data': {'text/html':\n",
       "     \"<div style='background-color: #fdd'>\\n\"+\n",
       "     \"<p>\\n\"+\n",
       "     \"BokehJS does not appear to have successfully loaded. If loading BokehJS from CDN, this \\n\"+\n",
       "     \"may be due to a slow or bad network connection. Possible fixes:\\n\"+\n",
       "     \"</p>\\n\"+\n",
       "     \"<ul>\\n\"+\n",
       "     \"<li>re-rerun `output_notebook()` to attempt to load from CDN again, or</li>\\n\"+\n",
       "     \"<li>use INLINE resources instead, as so:</li>\\n\"+\n",
       "     \"</ul>\\n\"+\n",
       "     \"<code>\\n\"+\n",
       "     \"from bokeh.resources import INLINE\\n\"+\n",
       "     \"output_notebook(resources=INLINE)\\n\"+\n",
       "     \"</code>\\n\"+\n",
       "     \"</div>\"}};\n",
       "\n",
       "  function display_loaded() {\n",
       "    if (window.Bokeh !== undefined) {\n",
       "      Bokeh.$(\"#acde005a-2ccf-4bc3-b180-714edd4390dc\").text(\"BokehJS successfully loaded.\");\n",
       "    } else if (Date.now() < window._bokeh_timeout) {\n",
       "      setTimeout(display_loaded, 100)\n",
       "    }\n",
       "  }\n",
       "\n",
       "  function run_callbacks() {\n",
       "    window._bokeh_onload_callbacks.forEach(function(callback) { callback() });\n",
       "    delete window._bokeh_onload_callbacks\n",
       "    console.info(\"Bokeh: all callbacks have finished\");\n",
       "  }\n",
       "\n",
       "  function load_libs(js_urls, callback) {\n",
       "    window._bokeh_onload_callbacks.push(callback);\n",
       "    if (window._bokeh_is_loading > 0) {\n",
       "      console.log(\"Bokeh: BokehJS is being loaded, scheduling callback at\", now());\n",
       "      return null;\n",
       "    }\n",
       "    if (js_urls == null || js_urls.length === 0) {\n",
       "      run_callbacks();\n",
       "      return null;\n",
       "    }\n",
       "    console.log(\"Bokeh: BokehJS not loaded, scheduling load and callback at\", now());\n",
       "    window._bokeh_is_loading = js_urls.length;\n",
       "    for (var i = 0; i < js_urls.length; i++) {\n",
       "      var url = js_urls[i];\n",
       "      var s = document.createElement('script');\n",
       "      s.src = url;\n",
       "      s.async = false;\n",
       "      s.onreadystatechange = s.onload = function() {\n",
       "        window._bokeh_is_loading--;\n",
       "        if (window._bokeh_is_loading === 0) {\n",
       "          console.log(\"Bokeh: all BokehJS libraries loaded\");\n",
       "          run_callbacks()\n",
       "        }\n",
       "      };\n",
       "      s.onerror = function() {\n",
       "        console.warn(\"failed to load library \" + url);\n",
       "      };\n",
       "      console.log(\"Bokeh: injecting script tag for BokehJS library: \", url);\n",
       "      document.getElementsByTagName(\"head\")[0].appendChild(s);\n",
       "    }\n",
       "  };var element = document.getElementById(\"acde005a-2ccf-4bc3-b180-714edd4390dc\");\n",
       "  if (element == null) {\n",
       "    console.log(\"Bokeh: ERROR: autoload.js configured with elementid 'acde005a-2ccf-4bc3-b180-714edd4390dc' but no matching script tag was found. \")\n",
       "    return false;\n",
       "  }\n",
       "\n",
       "  var js_urls = ['https://cdn.pydata.org/bokeh/release/bokeh-0.12.2.min.js', 'https://cdn.pydata.org/bokeh/release/bokeh-widgets-0.12.2.min.js', 'https://cdn.pydata.org/bokeh/release/bokeh-compiler-0.12.2.min.js'];\n",
       "\n",
       "  var inline_js = [\n",
       "    function(Bokeh) {\n",
       "      Bokeh.set_log_level(\"info\");\n",
       "    },\n",
       "    \n",
       "    function(Bokeh) {\n",
       "      \n",
       "      Bokeh.$(\"#acde005a-2ccf-4bc3-b180-714edd4390dc\").text(\"BokehJS is loading...\");\n",
       "    },\n",
       "    function(Bokeh) {\n",
       "      console.log(\"Bokeh: injecting CSS: https://cdn.pydata.org/bokeh/release/bokeh-0.12.2.min.css\");\n",
       "      Bokeh.embed.inject_css(\"https://cdn.pydata.org/bokeh/release/bokeh-0.12.2.min.css\");\n",
       "      console.log(\"Bokeh: injecting CSS: https://cdn.pydata.org/bokeh/release/bokeh-widgets-0.12.2.min.css\");\n",
       "      Bokeh.embed.inject_css(\"https://cdn.pydata.org/bokeh/release/bokeh-widgets-0.12.2.min.css\");\n",
       "    }\n",
       "  ];\n",
       "\n",
       "  function run_inline_js() {\n",
       "    \n",
       "    if ((window.Bokeh !== undefined) || (force === \"1\")) {\n",
       "      for (var i = 0; i < inline_js.length; i++) {\n",
       "        inline_js[i](window.Bokeh);\n",
       "      }if (force === \"1\") {\n",
       "        display_loaded();\n",
       "      }} else if (Date.now() < window._bokeh_timeout) {\n",
       "      setTimeout(run_inline_js, 100);\n",
       "    } else if (!window._bokeh_failed_load) {\n",
       "      console.log(\"Bokeh: BokehJS failed to load within specified timeout.\");\n",
       "      window._bokeh_failed_load = true;\n",
       "    } else if (!force) {\n",
       "      var cell = $(\"#acde005a-2ccf-4bc3-b180-714edd4390dc\").parents('.cell').data().cell;\n",
       "      cell.output_area.append_execute_result(NB_LOAD_WARNING)\n",
       "    }\n",
       "\n",
       "  }\n",
       "\n",
       "  if (window._bokeh_is_loading === 0) {\n",
       "    console.log(\"Bokeh: BokehJS loaded, going straight to plotting\");\n",
       "    run_inline_js();\n",
       "  } else {\n",
       "    load_libs(js_urls, function() {\n",
       "      console.log(\"Bokeh: BokehJS plotting callback run at\", now());\n",
       "      run_inline_js();\n",
       "    });\n",
       "  }\n",
       "}(this));"
      ]
     },
     "metadata": {},
     "output_type": "display_data"
    }
   ],
   "source": [
    "from bokeh.io import show, output_notebook\n",
    "from bokeh.plotting import figure, ColumnDataSource\n",
    "from bokeh.models import HoverTool, ResetTool, PanTool, WheelZoomTool, SaveTool\n",
    "output_notebook()"
   ]
  },
  {
   "cell_type": "markdown",
   "metadata": {},
   "source": [
    "We implement the visualisation of the clusters :\n",
    "- source is the input, we give the coordinates of the 2 dimensions we want to represent, the name of the point (here it is the name of the tag) and the color which corresponds to the number of the cluster\n",
    "- we activate the tool to display the tag when we place the mouse over a point\n",
    "- we create the plot"
   ]
  },
  {
   "cell_type": "code",
   "execution_count": 70,
   "metadata": {
    "collapsed": false
   },
   "outputs": [
    {
     "data": {
      "text/html": [
       "\n",
       "\n",
       "    <div class=\"bk-root\">\n",
       "        <div class=\"plotdiv\" id=\"8db6671a-fb3b-4a69-b96c-9cef15fdf000\"></div>\n",
       "    </div>\n",
       "<script type=\"text/javascript\">\n",
       "  \n",
       "  (function(global) {\n",
       "    function now() {\n",
       "      return new Date();\n",
       "    }\n",
       "  \n",
       "    var force = \"\";\n",
       "  \n",
       "    if (typeof (window._bokeh_onload_callbacks) === \"undefined\" || force !== \"\") {\n",
       "      window._bokeh_onload_callbacks = [];\n",
       "      window._bokeh_is_loading = undefined;\n",
       "    }\n",
       "  \n",
       "  \n",
       "    \n",
       "    if (typeof (window._bokeh_timeout) === \"undefined\" || force !== \"\") {\n",
       "      window._bokeh_timeout = Date.now() + 0;\n",
       "      window._bokeh_failed_load = false;\n",
       "    }\n",
       "  \n",
       "    var NB_LOAD_WARNING = {'data': {'text/html':\n",
       "       \"<div style='background-color: #fdd'>\\n\"+\n",
       "       \"<p>\\n\"+\n",
       "       \"BokehJS does not appear to have successfully loaded. If loading BokehJS from CDN, this \\n\"+\n",
       "       \"may be due to a slow or bad network connection. Possible fixes:\\n\"+\n",
       "       \"</p>\\n\"+\n",
       "       \"<ul>\\n\"+\n",
       "       \"<li>re-rerun `output_notebook()` to attempt to load from CDN again, or</li>\\n\"+\n",
       "       \"<li>use INLINE resources instead, as so:</li>\\n\"+\n",
       "       \"</ul>\\n\"+\n",
       "       \"<code>\\n\"+\n",
       "       \"from bokeh.resources import INLINE\\n\"+\n",
       "       \"output_notebook(resources=INLINE)\\n\"+\n",
       "       \"</code>\\n\"+\n",
       "       \"</div>\"}};\n",
       "  \n",
       "    function display_loaded() {\n",
       "      if (window.Bokeh !== undefined) {\n",
       "        Bokeh.$(\"#8db6671a-fb3b-4a69-b96c-9cef15fdf000\").text(\"BokehJS successfully loaded.\");\n",
       "      } else if (Date.now() < window._bokeh_timeout) {\n",
       "        setTimeout(display_loaded, 100)\n",
       "      }\n",
       "    }if ((window.Jupyter !== undefined) && Jupyter.notebook.kernel) {\n",
       "      comm_manager = Jupyter.notebook.kernel.comm_manager\n",
       "      comm_manager.register_target(\"bd6b572b-6895-4b10-b36b-0ffc82c71ed1\", function () {});\n",
       "    }\n",
       "  \n",
       "    function run_callbacks() {\n",
       "      window._bokeh_onload_callbacks.forEach(function(callback) { callback() });\n",
       "      delete window._bokeh_onload_callbacks\n",
       "      console.info(\"Bokeh: all callbacks have finished\");\n",
       "    }\n",
       "  \n",
       "    function load_libs(js_urls, callback) {\n",
       "      window._bokeh_onload_callbacks.push(callback);\n",
       "      if (window._bokeh_is_loading > 0) {\n",
       "        console.log(\"Bokeh: BokehJS is being loaded, scheduling callback at\", now());\n",
       "        return null;\n",
       "      }\n",
       "      if (js_urls == null || js_urls.length === 0) {\n",
       "        run_callbacks();\n",
       "        return null;\n",
       "      }\n",
       "      console.log(\"Bokeh: BokehJS not loaded, scheduling load and callback at\", now());\n",
       "      window._bokeh_is_loading = js_urls.length;\n",
       "      for (var i = 0; i < js_urls.length; i++) {\n",
       "        var url = js_urls[i];\n",
       "        var s = document.createElement('script');\n",
       "        s.src = url;\n",
       "        s.async = false;\n",
       "        s.onreadystatechange = s.onload = function() {\n",
       "          window._bokeh_is_loading--;\n",
       "          if (window._bokeh_is_loading === 0) {\n",
       "            console.log(\"Bokeh: all BokehJS libraries loaded\");\n",
       "            run_callbacks()\n",
       "          }\n",
       "        };\n",
       "        s.onerror = function() {\n",
       "          console.warn(\"failed to load library \" + url);\n",
       "        };\n",
       "        console.log(\"Bokeh: injecting script tag for BokehJS library: \", url);\n",
       "        document.getElementsByTagName(\"head\")[0].appendChild(s);\n",
       "      }\n",
       "    };var element = document.getElementById(\"8db6671a-fb3b-4a69-b96c-9cef15fdf000\");\n",
       "    if (element == null) {\n",
       "      console.log(\"Bokeh: ERROR: autoload.js configured with elementid '8db6671a-fb3b-4a69-b96c-9cef15fdf000' but no matching script tag was found. \")\n",
       "      return false;\n",
       "    }\n",
       "  \n",
       "    var js_urls = [];\n",
       "  \n",
       "    var inline_js = [\n",
       "      function(Bokeh) {\n",
       "        Bokeh.$(function() {\n",
       "            var docs_json = {\"2700086f-2ff3-47e8-ba7b-71cb4152cb3f\":{\"roots\":{\"references\":[{\"attributes\":{\"below\":[{\"id\":\"8be574dc-2d22-4c0a-86ec-ebe75039770a\",\"type\":\"LinearAxis\"}],\"left\":[{\"id\":\"58054580-bbaf-4bf7-b7f8-7d562950ffbd\",\"type\":\"LinearAxis\"}],\"plot_height\":360,\"plot_width\":960,\"renderers\":[{\"id\":\"8be574dc-2d22-4c0a-86ec-ebe75039770a\",\"type\":\"LinearAxis\"},{\"id\":\"7f9b2b2d-80ac-491c-a505-e867197dbe17\",\"type\":\"Grid\"},{\"id\":\"58054580-bbaf-4bf7-b7f8-7d562950ffbd\",\"type\":\"LinearAxis\"},{\"id\":\"f9f6fb5b-1ac3-4f94-9d31-7b7239a99eca\",\"type\":\"Grid\"},{\"id\":\"f167e73d-5318-45ca-948b-107b822504c8\",\"type\":\"GlyphRenderer\"}],\"title\":{\"id\":\"6e8ad2d9-4d84-404c-9d07-2325b58e1507\",\"type\":\"Title\"},\"tool_events\":{\"id\":\"4f4a40dd-aa72-4cba-9e2c-21b2cd1f81e4\",\"type\":\"ToolEvents\"},\"toolbar\":{\"id\":\"455bc871-252c-4faf-91be-d83acfbabe51\",\"type\":\"Toolbar\"},\"x_range\":{\"id\":\"a8965f15-3f87-4fbb-8d20-ffa30e3c6ea9\",\"type\":\"DataRange1d\"},\"y_range\":{\"id\":\"a504f3f6-e2d9-4310-be77-20ddc8ff8e30\",\"type\":\"DataRange1d\"}},\"id\":\"3d67dbde-1fe7-420e-a898-bb5606d839fc\",\"subtype\":\"Figure\",\"type\":\"Plot\"},{\"attributes\":{},\"id\":\"490f69eb-7b2e-4f48-8e66-fa3882fcd2e4\",\"type\":\"BasicTicker\"},{\"attributes\":{\"dimension\":1,\"plot\":{\"id\":\"3d67dbde-1fe7-420e-a898-bb5606d839fc\",\"subtype\":\"Figure\",\"type\":\"Plot\"},\"ticker\":{\"id\":\"490f69eb-7b2e-4f48-8e66-fa3882fcd2e4\",\"type\":\"BasicTicker\"}},\"id\":\"f9f6fb5b-1ac3-4f94-9d31-7b7239a99eca\",\"type\":\"Grid\"},{\"attributes\":{},\"id\":\"8e82d242-978d-4b39-86e9-bfa38ad92d80\",\"type\":\"BasicTickFormatter\"},{\"attributes\":{\"callback\":null,\"plot\":{\"id\":\"3d67dbde-1fe7-420e-a898-bb5606d839fc\",\"subtype\":\"Figure\",\"type\":\"Plot\"},\"tooltips\":[[\"Tag\",\"@name\"]]},\"id\":\"362a4e93-d41e-447d-8e79-b7659b106858\",\"type\":\"HoverTool\"},{\"attributes\":{\"plot\":{\"id\":\"3d67dbde-1fe7-420e-a898-bb5606d839fc\",\"subtype\":\"Figure\",\"type\":\"Plot\"}},\"id\":\"66b607bd-4c86-4421-8bae-5e67b8173321\",\"type\":\"WheelZoomTool\"},{\"attributes\":{\"plot\":{\"id\":\"3d67dbde-1fe7-420e-a898-bb5606d839fc\",\"subtype\":\"Figure\",\"type\":\"Plot\"}},\"id\":\"27cabaeb-86e5-4770-b556-8a5e0e12da10\",\"type\":\"SaveTool\"},{\"attributes\":{\"plot\":{\"id\":\"3d67dbde-1fe7-420e-a898-bb5606d839fc\",\"subtype\":\"Figure\",\"type\":\"Plot\"}},\"id\":\"746a6622-bf04-4040-aff3-4239c5cb291b\",\"type\":\"ResetTool\"},{\"attributes\":{\"formatter\":{\"id\":\"8e82d242-978d-4b39-86e9-bfa38ad92d80\",\"type\":\"BasicTickFormatter\"},\"plot\":{\"id\":\"3d67dbde-1fe7-420e-a898-bb5606d839fc\",\"subtype\":\"Figure\",\"type\":\"Plot\"},\"ticker\":{\"id\":\"490f69eb-7b2e-4f48-8e66-fa3882fcd2e4\",\"type\":\"BasicTicker\"}},\"id\":\"58054580-bbaf-4bf7-b7f8-7d562950ffbd\",\"type\":\"LinearAxis\"},{\"attributes\":{\"fill_alpha\":{\"value\":0.5},\"fill_color\":{\"field\":\"color\"},\"line_alpha\":{\"value\":0.5},\"line_color\":{\"field\":\"color\"},\"size\":{\"units\":\"screen\",\"value\":20},\"x\":{\"field\":\"x\"},\"y\":{\"field\":\"y\"}},\"id\":\"478d9ad4-4dea-4502-918b-df40d55a1f6a\",\"type\":\"Circle\"},{\"attributes\":{\"data_source\":{\"id\":\"293abf45-5670-4839-b3e7-d9386ae8d6ac\",\"type\":\"ColumnDataSource\"},\"glyph\":{\"id\":\"478d9ad4-4dea-4502-918b-df40d55a1f6a\",\"type\":\"Circle\"},\"hover_glyph\":null,\"nonselection_glyph\":{\"id\":\"9dd9bebd-5b87-44cf-b35f-aa21cf2e8661\",\"type\":\"Circle\"},\"selection_glyph\":null},\"id\":\"f167e73d-5318-45ca-948b-107b822504c8\",\"type\":\"GlyphRenderer\"},{\"attributes\":{\"callback\":null},\"id\":\"a8965f15-3f87-4fbb-8d20-ffa30e3c6ea9\",\"type\":\"DataRange1d\"},{\"attributes\":{\"active_drag\":\"auto\",\"active_scroll\":\"auto\",\"active_tap\":\"auto\",\"tools\":[{\"id\":\"362a4e93-d41e-447d-8e79-b7659b106858\",\"type\":\"HoverTool\"},{\"id\":\"746a6622-bf04-4040-aff3-4239c5cb291b\",\"type\":\"ResetTool\"},{\"id\":\"eede09c0-0445-40ed-aa9b-ea2dcb0f0c2e\",\"type\":\"PanTool\"},{\"id\":\"66b607bd-4c86-4421-8bae-5e67b8173321\",\"type\":\"WheelZoomTool\"},{\"id\":\"27cabaeb-86e5-4770-b556-8a5e0e12da10\",\"type\":\"SaveTool\"}]},\"id\":\"455bc871-252c-4faf-91be-d83acfbabe51\",\"type\":\"Toolbar\"},{\"attributes\":{\"plot\":null,\"text\":\"Mouse over the dots\"},\"id\":\"6e8ad2d9-4d84-404c-9d07-2325b58e1507\",\"type\":\"Title\"},{\"attributes\":{\"formatter\":{\"id\":\"ed0a969e-736d-4d2b-b42d-d7680c1d3b50\",\"type\":\"BasicTickFormatter\"},\"plot\":{\"id\":\"3d67dbde-1fe7-420e-a898-bb5606d839fc\",\"subtype\":\"Figure\",\"type\":\"Plot\"},\"ticker\":{\"id\":\"6bf1e647-b50d-47e2-a746-4a79d1468d8b\",\"type\":\"BasicTicker\"}},\"id\":\"8be574dc-2d22-4c0a-86ec-ebe75039770a\",\"type\":\"LinearAxis\"},{\"attributes\":{\"callback\":null,\"column_names\":[\"y\",\"color\",\"name\",\"x\"],\"data\":{\"color\":[\"#1b9e77\",\"#1b9e77\",\"#d95f02\",\"#1b9e77\",\"#1b9e77\",\"#1b9e77\",\"#1b9e77\",\"#7570b3\",\"#d95f02\",\"#1b9e77\",\"#1b9e77\",\"#1b9e77\",\"#d95f02\",\"#7570b3\",\"#1b9e77\",\"#7570b3\",\"#1b9e77\",\"#1b9e77\",\"#1b9e77\",\"#d95f02\",\"#1b9e77\",\"#1b9e77\",\"#1b9e77\",\"#1b9e77\",\"#7570b3\",\"#1b9e77\",\"#1b9e77\",\"#1b9e77\",\"#1b9e77\",\"#1b9e77\",\"#1b9e77\",\"#1b9e77\",\"#d95f02\",\"#1b9e77\",\"#1b9e77\",\"#1b9e77\",\"#7570b3\",\"#1b9e77\",\"#1b9e77\",\"#1b9e77\",\"#d95f02\",\"#1b9e77\",\"#1b9e77\",\"#1b9e77\",\"#1b9e77\",\"#7570b3\",\"#1b9e77\",\"#1b9e77\",\"#1b9e77\",\"#d95f02\",\"#1b9e77\",\"#7570b3\",\"#7570b3\",\"#7570b3\",\"#7570b3\",\"#1b9e77\",\"#7570b3\",\"#1b9e77\",\"#1b9e77\",\"#d95f02\",\"#1b9e77\",\"#1b9e77\",\"#d95f02\",\"#1b9e77\",\"#1b9e77\",\"#1b9e77\",\"#7570b3\",\"#d95f02\",\"#d95f02\",\"#1b9e77\",\"#1b9e77\",\"#7570b3\",\"#1b9e77\",\"#1b9e77\",\"#1b9e77\",\"#1b9e77\",\"#d95f02\",\"#d95f02\",\"#1b9e77\",\"#d95f02\",\"#d95f02\",\"#d95f02\",\"#1b9e77\",\"#1b9e77\",\"#1b9e77\",\"#1b9e77\",\"#1b9e77\",\"#1b9e77\",\"#7570b3\",\"#1b9e77\",\"#1b9e77\",\"#1b9e77\",\"#7570b3\",\"#d95f02\",\"#d95f02\",\"#d95f02\",\"#1b9e77\",\"#7570b3\",\"#1b9e77\",\"#d95f02\",\"#1b9e77\",\"#d95f02\",\"#1b9e77\",\"#1b9e77\",\"#1b9e77\",\"#d95f02\",\"#d95f02\",\"#1b9e77\",\"#1b9e77\",\"#7570b3\",\"#1b9e77\",\"#1b9e77\",\"#7570b3\",\"#7570b3\",\"#1b9e77\",\"#1b9e77\",\"#d95f02\",\"#1b9e77\",\"#7570b3\",\"#1b9e77\",\"#7570b3\",\"#7570b3\",\"#1b9e77\",\"#1b9e77\",\"#1b9e77\",\"#1b9e77\",\"#1b9e77\",\"#1b9e77\",\"#1b9e77\",\"#d95f02\",\"#d95f02\",\"#d95f02\",\"#1b9e77\",\"#7570b3\",\"#1b9e77\",\"#1b9e77\",\"#1b9e77\",\"#d95f02\",\"#1b9e77\",\"#7570b3\",\"#7570b3\",\"#1b9e77\",\"#7570b3\",\"#1b9e77\",\"#d95f02\",\"#1b9e77\",\"#1b9e77\",\"#d95f02\",\"#1b9e77\",\"#1b9e77\",\"#1b9e77\",\"#1b9e77\",\"#d95f02\",\"#1b9e77\",\"#7570b3\",\"#1b9e77\",\"#d95f02\",\"#d95f02\",\"#d95f02\",\"#d95f02\",\"#1b9e77\",\"#1b9e77\",\"#1b9e77\",\"#d95f02\",\"#d95f02\",\"#1b9e77\",\"#1b9e77\",\"#1b9e77\",\"#1b9e77\",\"#1b9e77\",\"#7570b3\",\"#1b9e77\",\"#d95f02\",\"#1b9e77\",\"#1b9e77\",\"#1b9e77\",\"#1b9e77\",\"#d95f02\",\"#d95f02\",\"#7570b3\",\"#1b9e77\",\"#1b9e77\",\"#1b9e77\",\"#1b9e77\",\"#d95f02\",\"#1b9e77\",\"#d95f02\",\"#1b9e77\",\"#7570b3\",\"#1b9e77\",\"#d95f02\",\"#1b9e77\",\"#1b9e77\",\"#1b9e77\",\"#1b9e77\",\"#1b9e77\",\"#7570b3\",\"#1b9e77\",\"#1b9e77\",\"#1b9e77\",\"#1b9e77\",\"#7570b3\",\"#1b9e77\",\"#1b9e77\",\"#d95f02\",\"#1b9e77\",\"#1b9e77\",\"#1b9e77\",\"#1b9e77\",\"#1b9e77\",\"#1b9e77\",\"#1b9e77\",\"#1b9e77\",\"#7570b3\",\"#1b9e77\",\"#1b9e77\",\"#1b9e77\",\"#d95f02\",\"#1b9e77\",\"#1b9e77\",\"#d95f02\",\"#7570b3\",\"#1b9e77\",\"#7570b3\",\"#1b9e77\",\"#7570b3\",\"#1b9e77\",\"#d95f02\",\"#7570b3\",\"#d95f02\",\"#d95f02\",\"#7570b3\",\"#d95f02\",\"#7570b3\",\"#d95f02\",\"#1b9e77\",\"#d95f02\",\"#1b9e77\",\"#1b9e77\",\"#7570b3\",\"#d95f02\",\"#1b9e77\",\"#1b9e77\",\"#1b9e77\",\"#d95f02\",\"#1b9e77\",\"#d95f02\",\"#1b9e77\",\"#1b9e77\",\"#7570b3\",\"#1b9e77\",\"#1b9e77\",\"#1b9e77\",\"#1b9e77\",\"#1b9e77\",\"#1b9e77\",\"#1b9e77\",\"#1b9e77\",\"#1b9e77\",\"#1b9e77\",\"#1b9e77\",\"#1b9e77\",\"#7570b3\",\"#1b9e77\",\"#1b9e77\",\"#1b9e77\",\"#1b9e77\",\"#d95f02\",\"#1b9e77\",\"#1b9e77\",\"#1b9e77\",\"#1b9e77\",\"#1b9e77\",\"#1b9e77\",\"#d95f02\",\"#1b9e77\",\"#7570b3\",\"#1b9e77\",\"#1b9e77\",\"#d95f02\",\"#7570b3\",\"#1b9e77\",\"#1b9e77\",\"#7570b3\",\"#d95f02\",\"#1b9e77\",\"#7570b3\",\"#7570b3\",\"#d95f02\",\"#1b9e77\",\"#d95f02\",\"#1b9e77\",\"#1b9e77\",\"#d95f02\",\"#7570b3\",\"#1b9e77\",\"#1b9e77\",\"#1b9e77\",\"#7570b3\",\"#1b9e77\",\"#7570b3\",\"#1b9e77\",\"#7570b3\",\"#1b9e77\",\"#d95f02\",\"#1b9e77\",\"#d95f02\",\"#1b9e77\",\"#7570b3\",\"#1b9e77\",\"#1b9e77\",\"#1b9e77\",\"#1b9e77\",\"#7570b3\",\"#1b9e77\",\"#1b9e77\",\"#1b9e77\",\"#1b9e77\",\"#1b9e77\",\"#7570b3\",\"#7570b3\",\"#d95f02\",\"#1b9e77\",\"#d95f02\",\"#1b9e77\",\"#1b9e77\",\"#d95f02\",\"#1b9e77\",\"#d95f02\",\"#7570b3\",\"#1b9e77\",\"#7570b3\",\"#1b9e77\",\"#1b9e77\",\"#1b9e77\",\"#7570b3\",\"#7570b3\",\"#1b9e77\",\"#7570b3\",\"#7570b3\",\"#1b9e77\",\"#d95f02\",\"#1b9e77\",\"#1b9e77\",\"#1b9e77\",\"#7570b3\",\"#1b9e77\",\"#d95f02\",\"#1b9e77\",\"#d95f02\",\"#d95f02\",\"#7570b3\",\"#7570b3\",\"#d95f02\",\"#1b9e77\",\"#d95f02\",\"#d95f02\",\"#d95f02\",\"#d95f02\",\"#7570b3\",\"#1b9e77\",\"#d95f02\",\"#1b9e77\",\"#d95f02\",\"#d95f02\",\"#1b9e77\",\"#1b9e77\",\"#7570b3\",\"#1b9e77\",\"#7570b3\",\"#d95f02\",\"#1b9e77\",\"#d95f02\",\"#1b9e77\",\"#1b9e77\",\"#7570b3\",\"#7570b3\",\"#1b9e77\",\"#1b9e77\",\"#d95f02\",\"#7570b3\",\"#1b9e77\",\"#1b9e77\",\"#d95f02\",\"#1b9e77\",\"#7570b3\",\"#d95f02\",\"#d95f02\",\"#7570b3\",\"#d95f02\",\"#1b9e77\",\"#1b9e77\",\"#1b9e77\",\"#7570b3\",\"#1b9e77\",\"#7570b3\",\"#7570b3\",\"#1b9e77\",\"#7570b3\",\"#1b9e77\",\"#1b9e77\",\"#1b9e77\",\"#7570b3\",\"#1b9e77\",\"#1b9e77\",\"#7570b3\",\"#1b9e77\",\"#1b9e77\",\"#1b9e77\",\"#1b9e77\",\"#d95f02\",\"#1b9e77\",\"#d95f02\",\"#1b9e77\",\"#d95f02\",\"#7570b3\",\"#1b9e77\",\"#7570b3\",\"#1b9e77\",\"#7570b3\",\"#d95f02\",\"#1b9e77\",\"#1b9e77\",\"#1b9e77\",\"#1b9e77\",\"#1b9e77\",\"#d95f02\",\"#7570b3\",\"#1b9e77\",\"#1b9e77\",\"#1b9e77\",\"#1b9e77\",\"#1b9e77\",\"#1b9e77\",\"#d95f02\",\"#7570b3\",\"#1b9e77\",\"#d95f02\",\"#1b9e77\",\"#1b9e77\",\"#1b9e77\",\"#d95f02\",\"#d95f02\",\"#d95f02\",\"#1b9e77\",\"#1b9e77\",\"#1b9e77\",\"#1b9e77\",\"#1b9e77\",\"#1b9e77\",\"#d95f02\",\"#7570b3\",\"#d95f02\",\"#7570b3\",\"#1b9e77\",\"#1b9e77\",\"#d95f02\",\"#1b9e77\",\"#1b9e77\",\"#d95f02\",\"#7570b3\",\"#d95f02\",\"#d95f02\",\"#d95f02\",\"#d95f02\",\"#1b9e77\",\"#1b9e77\",\"#1b9e77\",\"#7570b3\",\"#d95f02\",\"#1b9e77\",\"#7570b3\",\"#1b9e77\",\"#d95f02\",\"#1b9e77\",\"#1b9e77\",\"#1b9e77\",\"#1b9e77\",\"#d95f02\",\"#7570b3\",\"#7570b3\",\"#1b9e77\",\"#d95f02\",\"#7570b3\",\"#1b9e77\",\"#d95f02\",\"#1b9e77\",\"#1b9e77\",\"#7570b3\",\"#1b9e77\",\"#7570b3\",\"#1b9e77\",\"#1b9e77\",\"#1b9e77\",\"#d95f02\",\"#1b9e77\",\"#1b9e77\",\"#1b9e77\",\"#1b9e77\",\"#1b9e77\",\"#1b9e77\",\"#d95f02\",\"#d95f02\",\"#1b9e77\",\"#1b9e77\",\"#1b9e77\",\"#d95f02\",\"#d95f02\",\"#d95f02\",\"#7570b3\",\"#1b9e77\",\"#1b9e77\",\"#1b9e77\",\"#1b9e77\",\"#1b9e77\",\"#1b9e77\",\"#1b9e77\",\"#1b9e77\",\"#1b9e77\",\"#7570b3\",\"#d95f02\",\"#1b9e77\",\"#7570b3\",\"#1b9e77\",\"#7570b3\",\"#d95f02\",\"#7570b3\",\"#1b9e77\",\"#1b9e77\",\"#7570b3\",\"#1b9e77\",\"#1b9e77\",\"#1b9e77\",\"#1b9e77\",\"#1b9e77\",\"#1b9e77\",\"#7570b3\",\"#1b9e77\",\"#1b9e77\",\"#1b9e77\",\"#1b9e77\",\"#7570b3\",\"#1b9e77\",\"#d95f02\",\"#1b9e77\",\"#1b9e77\",\"#1b9e77\",\"#1b9e77\",\"#1b9e77\",\"#d95f02\",\"#1b9e77\",\"#d95f02\",\"#d95f02\",\"#7570b3\",\"#1b9e77\",\"#1b9e77\",\"#1b9e77\",\"#1b9e77\",\"#7570b3\",\"#1b9e77\",\"#1b9e77\",\"#1b9e77\",\"#d95f02\",\"#d95f02\",\"#d95f02\",\"#7570b3\",\"#1b9e77\",\"#1b9e77\",\"#7570b3\",\"#7570b3\",\"#1b9e77\",\"#1b9e77\",\"#d95f02\",\"#1b9e77\",\"#1b9e77\",\"#7570b3\",\"#1b9e77\",\"#1b9e77\",\"#1b9e77\",\"#1b9e77\",\"#1b9e77\",\"#1b9e77\",\"#1b9e77\",\"#1b9e77\",\"#d95f02\",\"#d95f02\",\"#1b9e77\",\"#d95f02\",\"#7570b3\",\"#1b9e77\",\"#1b9e77\",\"#1b9e77\",\"#1b9e77\",\"#7570b3\",\"#7570b3\",\"#d95f02\",\"#1b9e77\",\"#1b9e77\",\"#1b9e77\",\"#7570b3\",\"#1b9e77\",\"#7570b3\",\"#1b9e77\",\"#1b9e77\",\"#7570b3\",\"#1b9e77\",\"#1b9e77\",\"#7570b3\",\"#d95f02\",\"#7570b3\",\"#1b9e77\",\"#d95f02\",\"#1b9e77\",\"#1b9e77\",\"#d95f02\",\"#1b9e77\",\"#7570b3\",\"#7570b3\",\"#d95f02\",\"#7570b3\",\"#7570b3\",\"#1b9e77\",\"#1b9e77\",\"#1b9e77\",\"#1b9e77\",\"#1b9e77\",\"#1b9e77\",\"#1b9e77\",\"#7570b3\",\"#d95f02\",\"#1b9e77\",\"#1b9e77\",\"#1b9e77\",\"#1b9e77\",\"#1b9e77\",\"#1b9e77\",\"#1b9e77\",\"#1b9e77\",\"#7570b3\",\"#7570b3\",\"#7570b3\",\"#1b9e77\",\"#1b9e77\",\"#1b9e77\",\"#1b9e77\",\"#1b9e77\",\"#1b9e77\",\"#d95f02\",\"#d95f02\",\"#d95f02\",\"#d95f02\",\"#1b9e77\",\"#d95f02\",\"#1b9e77\",\"#d95f02\",\"#1b9e77\",\"#7570b3\",\"#d95f02\",\"#7570b3\",\"#d95f02\",\"#d95f02\",\"#d95f02\",\"#1b9e77\",\"#d95f02\",\"#7570b3\",\"#1b9e77\",\"#d95f02\",\"#1b9e77\",\"#1b9e77\",\"#d95f02\",\"#d95f02\",\"#1b9e77\",\"#1b9e77\",\"#7570b3\",\"#1b9e77\",\"#1b9e77\",\"#d95f02\",\"#1b9e77\",\"#1b9e77\",\"#7570b3\",\"#d95f02\",\"#d95f02\",\"#7570b3\",\"#1b9e77\",\"#1b9e77\",\"#7570b3\",\"#1b9e77\",\"#1b9e77\",\"#d95f02\",\"#1b9e77\",\"#7570b3\",\"#d95f02\",\"#d95f02\",\"#7570b3\",\"#1b9e77\",\"#1b9e77\",\"#1b9e77\",\"#1b9e77\",\"#1b9e77\",\"#7570b3\",\"#d95f02\",\"#1b9e77\",\"#1b9e77\",\"#d95f02\",\"#1b9e77\",\"#d95f02\",\"#1b9e77\",\"#d95f02\",\"#1b9e77\",\"#1b9e77\",\"#1b9e77\",\"#1b9e77\",\"#d95f02\",\"#1b9e77\",\"#1b9e77\",\"#7570b3\",\"#1b9e77\",\"#1b9e77\",\"#1b9e77\",\"#1b9e77\",\"#d95f02\",\"#1b9e77\",\"#1b9e77\",\"#1b9e77\",\"#1b9e77\",\"#1b9e77\",\"#1b9e77\",\"#1b9e77\",\"#1b9e77\",\"#1b9e77\",\"#1b9e77\",\"#1b9e77\",\"#7570b3\",\"#7570b3\",\"#d95f02\",\"#7570b3\",\"#d95f02\",\"#7570b3\",\"#1b9e77\",\"#1b9e77\",\"#1b9e77\",\"#1b9e77\",\"#d95f02\",\"#1b9e77\",\"#7570b3\",\"#d95f02\",\"#1b9e77\",\"#1b9e77\",\"#1b9e77\",\"#1b9e77\",\"#1b9e77\",\"#d95f02\",\"#1b9e77\",\"#1b9e77\",\"#1b9e77\",\"#1b9e77\",\"#1b9e77\",\"#d95f02\",\"#1b9e77\",\"#d95f02\",\"#d95f02\",\"#7570b3\",\"#1b9e77\",\"#1b9e77\",\"#1b9e77\",\"#d95f02\",\"#7570b3\",\"#1b9e77\",\"#1b9e77\",\"#1b9e77\",\"#1b9e77\",\"#1b9e77\",\"#7570b3\",\"#7570b3\",\"#1b9e77\",\"#d95f02\",\"#1b9e77\",\"#1b9e77\",\"#1b9e77\",\"#1b9e77\",\"#1b9e77\",\"#d95f02\",\"#1b9e77\",\"#d95f02\",\"#1b9e77\",\"#1b9e77\",\"#1b9e77\",\"#1b9e77\",\"#1b9e77\",\"#1b9e77\",\"#7570b3\",\"#d95f02\",\"#d95f02\",\"#1b9e77\",\"#d95f02\",\"#d95f02\",\"#7570b3\",\"#1b9e77\",\"#1b9e77\",\"#1b9e77\",\"#1b9e77\",\"#1b9e77\",\"#d95f02\",\"#1b9e77\",\"#1b9e77\",\"#1b9e77\",\"#1b9e77\",\"#1b9e77\",\"#1b9e77\",\"#1b9e77\",\"#1b9e77\",\"#1b9e77\",\"#1b9e77\",\"#1b9e77\",\"#1b9e77\",\"#7570b3\",\"#7570b3\",\"#1b9e77\",\"#7570b3\",\"#1b9e77\",\"#1b9e77\",\"#1b9e77\",\"#1b9e77\",\"#1b9e77\",\"#1b9e77\",\"#7570b3\",\"#1b9e77\",\"#7570b3\",\"#1b9e77\",\"#7570b3\",\"#1b9e77\",\"#1b9e77\",\"#1b9e77\",\"#1b9e77\",\"#7570b3\",\"#7570b3\",\"#1b9e77\",\"#d95f02\",\"#1b9e77\",\"#1b9e77\",\"#1b9e77\",\"#d95f02\",\"#1b9e77\",\"#1b9e77\",\"#1b9e77\",\"#d95f02\",\"#1b9e77\",\"#1b9e77\",\"#1b9e77\",\"#7570b3\",\"#1b9e77\",\"#1b9e77\",\"#1b9e77\",\"#1b9e77\",\"#1b9e77\",\"#7570b3\",\"#d95f02\",\"#1b9e77\",\"#7570b3\",\"#1b9e77\",\"#7570b3\",\"#d95f02\",\"#1b9e77\",\"#1b9e77\",\"#d95f02\",\"#1b9e77\",\"#1b9e77\",\"#d95f02\",\"#1b9e77\",\"#1b9e77\",\"#d95f02\",\"#7570b3\",\"#1b9e77\",\"#1b9e77\",\"#1b9e77\",\"#1b9e77\",\"#d95f02\",\"#1b9e77\",\"#7570b3\",\"#1b9e77\",\"#1b9e77\",\"#1b9e77\",\"#1b9e77\",\"#7570b3\",\"#7570b3\",\"#1b9e77\",\"#1b9e77\",\"#1b9e77\",\"#1b9e77\",\"#d95f02\",\"#1b9e77\",\"#1b9e77\",\"#d95f02\",\"#1b9e77\",\"#1b9e77\",\"#1b9e77\",\"#1b9e77\",\"#d95f02\",\"#1b9e77\",\"#1b9e77\",\"#1b9e77\",\"#1b9e77\",\"#7570b3\",\"#d95f02\",\"#7570b3\",\"#1b9e77\",\"#1b9e77\",\"#1b9e77\",\"#1b9e77\",\"#1b9e77\",\"#1b9e77\",\"#1b9e77\",\"#1b9e77\",\"#1b9e77\",\"#1b9e77\",\"#7570b3\",\"#1b9e77\",\"#1b9e77\",\"#1b9e77\",\"#1b9e77\",\"#d95f02\",\"#1b9e77\",\"#1b9e77\",\"#1b9e77\",\"#d95f02\",\"#7570b3\",\"#1b9e77\",\"#7570b3\",\"#1b9e77\",\"#1b9e77\",\"#1b9e77\",\"#1b9e77\",\"#1b9e77\",\"#1b9e77\",\"#7570b3\",\"#1b9e77\",\"#1b9e77\",\"#7570b3\",\"#7570b3\",\"#1b9e77\",\"#1b9e77\",\"#7570b3\",\"#d95f02\",\"#1b9e77\",\"#1b9e77\",\"#1b9e77\",\"#1b9e77\",\"#1b9e77\",\"#1b9e77\",\"#7570b3\",\"#d95f02\",\"#1b9e77\",\"#1b9e77\",\"#1b9e77\",\"#1b9e77\",\"#7570b3\",\"#d95f02\",\"#d95f02\",\"#1b9e77\",\"#d95f02\",\"#1b9e77\",\"#d95f02\",\"#1b9e77\",\"#1b9e77\",\"#7570b3\",\"#1b9e77\",\"#7570b3\",\"#1b9e77\",\"#7570b3\",\"#d95f02\",\"#7570b3\",\"#d95f02\",\"#d95f02\",\"#1b9e77\",\"#1b9e77\",\"#1b9e77\",\"#d95f02\",\"#1b9e77\",\"#d95f02\",\"#1b9e77\",\"#1b9e77\",\"#1b9e77\",\"#1b9e77\",\"#d95f02\",\"#1b9e77\",\"#d95f02\",\"#d95f02\",\"#1b9e77\",\"#1b9e77\",\"#1b9e77\",\"#1b9e77\",\"#d95f02\",\"#7570b3\",\"#1b9e77\",\"#1b9e77\",\"#d95f02\",\"#7570b3\",\"#d95f02\",\"#1b9e77\",\"#1b9e77\",\"#1b9e77\",\"#7570b3\",\"#7570b3\",\"#d95f02\",\"#d95f02\",\"#1b9e77\",\"#1b9e77\",\"#1b9e77\",\"#1b9e77\",\"#1b9e77\",\"#1b9e77\",\"#1b9e77\",\"#1b9e77\",\"#d95f02\",\"#7570b3\",\"#1b9e77\",\"#d95f02\",\"#1b9e77\",\"#7570b3\",\"#d95f02\",\"#1b9e77\",\"#1b9e77\",\"#7570b3\",\"#1b9e77\",\"#1b9e77\",\"#1b9e77\",\"#d95f02\",\"#1b9e77\",\"#1b9e77\",\"#1b9e77\",\"#d95f02\",\"#1b9e77\",\"#d95f02\",\"#1b9e77\",\"#d95f02\",\"#7570b3\",\"#1b9e77\",\"#1b9e77\",\"#1b9e77\",\"#1b9e77\",\"#d95f02\",\"#7570b3\",\"#1b9e77\",\"#d95f02\",\"#1b9e77\",\"#7570b3\",\"#7570b3\",\"#1b9e77\",\"#1b9e77\",\"#d95f02\",\"#1b9e77\",\"#1b9e77\",\"#d95f02\",\"#d95f02\",\"#1b9e77\",\"#1b9e77\",\"#d95f02\",\"#d95f02\",\"#7570b3\",\"#7570b3\",\"#7570b3\",\"#d95f02\",\"#d95f02\",\"#1b9e77\",\"#1b9e77\",\"#1b9e77\",\"#7570b3\",\"#1b9e77\",\"#d95f02\",\"#1b9e77\",\"#7570b3\",\"#1b9e77\",\"#1b9e77\",\"#1b9e77\",\"#d95f02\",\"#d95f02\",\"#1b9e77\",\"#1b9e77\",\"#1b9e77\",\"#1b9e77\",\"#1b9e77\",\"#d95f02\",\"#d95f02\",\"#1b9e77\",\"#d95f02\",\"#d95f02\",\"#7570b3\",\"#7570b3\",\"#d95f02\",\"#d95f02\",\"#1b9e77\",\"#1b9e77\",\"#d95f02\",\"#1b9e77\",\"#1b9e77\",\"#1b9e77\",\"#1b9e77\",\"#1b9e77\",\"#7570b3\",\"#7570b3\",\"#d95f02\",\"#d95f02\",\"#1b9e77\",\"#1b9e77\",\"#d95f02\",\"#1b9e77\",\"#1b9e77\",\"#1b9e77\",\"#d95f02\",\"#1b9e77\",\"#1b9e77\",\"#1b9e77\",\"#1b9e77\",\"#1b9e77\",\"#1b9e77\",\"#d95f02\",\"#1b9e77\",\"#1b9e77\",\"#d95f02\",\"#7570b3\",\"#d95f02\",\"#1b9e77\",\"#1b9e77\",\"#1b9e77\",\"#1b9e77\",\"#1b9e77\",\"#1b9e77\",\"#d95f02\"],\"name\":[\"disney\",\"sacrifice\",\"memory\",\"oscar (best editing)\",\"vampires\",\"oscar (best cinematography)\",\"courtroom drama\",\"dark\",\"good sequel\",\"disability\",\"mockumentary\",\"heroine\",\"non-linear\",\"imdb top 250\",\"heist\",\"rock and roll\",\"adapted from:book\",\"christian\",\"argentina\",\"fairy tale\",\"beatles\",\"opera\",\"homosexuality\",\"figure skating\",\"brutality\",\"horses\",\"olympics\",\"liv tyler\",\"sexuality\",\"death penalty\",\"evolution\",\"mtv\",\"alien invasion\",\"chocolate\",\"oscar (best foreign language film)\",\"lawyer\",\"friendship\",\"emma watson\",\"neo-noir\",\"world war i\",\"time travel\",\"interesting\",\"tear jerker\",\"hacking\",\"las vegas\",\"cheerleading\",\"comic book adaption\",\"tarantino\",\"relationships\",\"dragons\",\"cia\",\"ensemble cast\",\"gangsters\",\"low budget\",\"idiotic\",\"toys\",\"macabre\",\"switching places\",\"racism\",\"artsy\",\"infidelity\",\"conspiracy theory\",\"parallel universe\",\"politics\",\"mentor\",\"amnesia\",\"witty\",\"alternate universe\",\"egypt\",\"adapted from:game\",\"innocence lost\",\"stupid\",\"remade\",\"mexico\",\"assassins\",\"inspiring\",\"visual\",\"talking animals\",\"serial killer\",\"bad script\",\"artificial intelligence\",\"technology\",\"anti-war\",\"terminal illness\",\"american civil war\",\"australian\",\"boat\",\"california\",\"dark humor\",\"africa\",\"basketball\",\"jews\",\"1980s\",\"mutants\",\"isolation\",\"super hero\",\"amazing photography\",\"geeks\",\"political\",\"mindfuck\",\"ennio morricone\",\"monster\",\"atheism\",\"fbi\",\"paranoia\",\"high fantasy\",\"dreamlike\",\"moody\",\"touching\",\"cynical\",\"islam\",\"palestine\",\"demons\",\"fun\",\"aardman studios\",\"explosions\",\"nonlinear\",\"oscar (best supporting actor)\",\"pornography\",\"nasa\",\"cool\",\"unlikely friendships\",\"love\",\"corporate america\",\"jane austen\",\"native americans\",\"trains\",\"oscar (best animated feature)\",\"revolution\",\"confusing\",\"unique\",\"scifi\",\"realistic action\",\"writers\",\"chicago\",\"animal movie\",\"sisters\",\"mythology\",\"documentary\",\"los angeles\",\"deadpan\",\"homeless\",\"drug abuse\",\"free to download\",\"apocalypse\",\"spaghetti western\",\"voodoo\",\"trilogy\",\"kick-butt women\",\"musicians\",\"baseball\",\"hitchcock\",\"end of the world\",\"court\",\"slapstick\",\"prequel\",\"fairy tales\",\"epic\",\"magic\",\"immortality\",\"factual\",\"cooking\",\"nudity (full frontal - brief)\",\"moon\",\"time\",\"cute!\",\"ireland\",\"wine\",\"girlie movie\",\"video games\",\"disturbing\",\"complex\",\"bad acting\",\"based on a tv show\",\"good story\",\"sentimental\",\"love triangles\",\"kung fu\",\"japan\",\"depression\",\"blaxploitation\",\"mafia\",\"costume drama\",\"shark\",\"ominous\",\"assassin\",\"philosophy\",\"oscar (best actor)\",\"entirely dialogue\",\"blindness\",\"computer game\",\"bollywood\",\"halloween\",\"star trek\",\"george orwell\",\"potential oscar nom\",\"suburbia\",\"father-son relationship\",\"prostitution\",\"1950s\",\"mother daughter relationship\",\"gunfight\",\"new orleans\",\"chase\",\"alternate reality\",\"runaway\",\"free speech\",\"remake\",\"vienna\",\"photographer\",\"detective\",\"brothers\",\"jungle\",\"pointless\",\"boston\",\"boxing\",\"cross dressing\",\"allegory\",\"underrated\",\"brilliant\",\"clones\",\"dialogue driven\",\"intimate\",\"melancholic\",\"espionage\",\"honest\",\"truman capote\",\"modern fantasy\",\"harsh\",\"disappointing\",\"awesome\",\"very funny\",\"philip k. dick\",\"multiple storylines\",\"space opera\",\"robbery\",\"adapted from:comic\",\"oscar (best writing - screenplay written directly for the screen)\",\"south america\",\"fun movie\",\"futuristic\",\"colonialism\",\"racing\",\"afi 100\",\"robots\",\"dreamworks\",\"great cinematography\",\"film noir\",\"bad ending\",\"gangs\",\"classical music\",\"entertaining\",\"guns\",\"fashion\",\"canada\",\"love story\",\"criterion\",\"pixar\",\"no dialogue\",\"civil war\",\"waste of time\",\"1920s\",\"hilarious\",\"sexy\",\"c.s. lewis\",\"mystery\",\"london\",\"tokyo\",\"lesbian\",\"inspirational\",\"hong kong\",\"twist\",\"controversial\",\"family bonds\",\"slow paced\",\"christmas\",\"irreverent\",\"great acting\",\"1960s\",\"ninja\",\"mental illness\",\"writing\",\"midlife crisis\",\"nudity\",\"astronauts\",\"earnest\",\"weird\",\"grim\",\"sci fi\",\"dance\",\"original plot\",\"race issues\",\"dr. seuss\",\"treasure hunt\",\"stereotypes\",\"gambling\",\"videogame\",\"con men\",\"beer\",\"family drama\",\"slasher\",\"adaptation\",\"gore\",\"complicated\",\"gothic\",\"feel-good\",\"lone hero\",\"england\",\"zombie\",\"voyeurism\",\"iraq war\",\"good romantic comedies\",\"dc comics\",\"gritty\",\"freedom\",\"marriage\",\"texas\",\"bdsm\",\"puppets\",\"comic\",\"gangster\",\"big budget\",\"haunted house\",\"visuals\",\"tom clancy\",\"east germany\",\"dark fantasy\",\"cuba\",\"saturn award (best special effects)\",\"pulp\",\"neo-nazis\",\"nerds\",\"great\",\"dragon\",\"so bad it's good\",\"narrated\",\"stoner movie\",\"indians\",\"comedy\",\"insanity\",\"gulf war\",\"series\",\"king arthur\",\"rats\",\"ocean\",\"funny\",\"alaska\",\"island\",\"romantic\",\"post apocalyptic\",\"dreams\",\"nudity (topless - notable)\",\"teenager\",\"utopia\",\"san francisco\",\"science\",\"campy\",\"lame\",\"amazing cinematography\",\"nudity (topless - brief)\",\"global warming\",\"boring!\",\"genius\",\"destiny\",\"gilliam\",\"finnish\",\"spy\",\"blood\",\"realistic\",\"addiction\",\"martial arts\",\"classic\",\"breathtaking\",\"psychological\",\"unrealistic\",\"dumb but funny\",\"virginity\",\"hospital\",\"musical\",\"bad\",\"stylish\",\"wilderness\",\"shallow\",\"beautiful scenery\",\"schizophrenia\",\"great soundtrack\",\"intelligent sci-fi\",\"exciting\",\"gruesome\",\"androids\",\"vigilante\",\"math\",\"prejudice\",\"drinking\",\"period piece\",\"creepy\",\"farce\",\"easily confused with other movie(s) (title)\",\"hit men\",\"handycam\",\"werewolf\",\"monty python\",\"workplace\",\"oscar (best sound)\",\"claymation\",\"marijuana\",\"pg-13\",\"imaginary friend\",\"race\",\"heroin\",\"cloning\",\"capitalism\",\"first contact\",\"archaeology\",\"dystopic future\",\"sarcasm\",\"vigilantism\",\"vengeance\",\"investigation\",\"teen movie\",\"desert\",\"happy ending\",\"car chase\",\"nostalgic\",\"based on a book\",\"wedding\",\"sequel\",\"awesome soundtrack\",\"journalism\",\"intellectual\",\"political corruption\",\"bank robbery\",\"anti-semitism\",\"aardman\",\"space\",\"life\",\"spanish civil war\",\"plot holes\",\"lawyers\",\"chris tucker\",\"biography\",\"ridiculous\",\"distopia\",\"comics\",\"forceful\",\"music\",\"hawaii\",\"complicated plot\",\"mental hospital\",\"circus\",\"comic book\",\"drug addiction\",\"poetry\",\"hitman\",\"sexual abuse\",\"family\",\"stunning\",\"swedish\",\"downbeat\",\"bad plot\",\"slackers\",\"god\",\"no plot\",\"script\",\"witches\",\"immigrants\",\"terrorism\",\"broadway\",\"dark hero\",\"predictable\",\"underdog\",\"humor\",\"bond\",\"artistic\",\"private detective\",\"paranoid\",\"fascism\",\"censorship\",\"video game\",\"dark comedy\",\"sexualized violence\",\"cold war\",\"life & death\",\"crazy\",\"spain\",\"pretentious\",\"divorce\",\"rome\",\"male nudity\",\"nuclear\",\"camp\",\"almodovar\",\"justice\",\"germany\",\"atmospheric\",\"israel\",\"office\",\"space program\",\"dog\",\"brazil\",\"history\",\"cinematography\",\"disaster\",\"sweet\",\"crime\",\"bittersweet\",\"story\",\"beautifully filmed\",\"environment\",\"great dialogue\",\"cannibalism\",\"not as good as the first\",\"nuclear war\",\"irish accent\",\"slavery\",\"artist\",\"nuclear bomb\",\"oscar (best directing)\",\"homophobia\",\"school\",\"reflective\",\"mozart\",\"unlikeable characters\",\"life philosophy\",\"golden palm\",\"stop-motion\",\"sex\",\"surfing\",\"kubrick\",\"coming-of-age\",\"china\",\"fighting the system\",\"penguins\",\"italy\",\"self discovery\",\"murder\",\"gay\",\"studio ghibli\",\"light\",\"hostage\",\"intense\",\"bloody\",\"middle east\",\"children\",\"jazz\",\"dramatic\",\"competition\",\"glbt\",\"alternate history\",\"cerebral\",\"kidnapping\",\"crappy sequel\",\"monsters\",\"cult film\",\"historical\",\"mathematics\",\"tragedy\",\"obsession\",\"good dialogue\",\"good acting\",\"video game adaptation\",\"dancing\",\"surrealism\",\"surreal\",\"man versus machine\",\"highly quotable\",\"sad but good\",\"noir thriller\",\"gross-out\",\"gory\",\"oscar (best picture)\",\"british comedy\",\"computer animation\",\"culture clash\",\"greed\",\"anti-hero\",\"sophia coppola\",\"cheating\",\"fish\",\"aging\",\"oscar (best music - original song)\",\"saturn award (best science fiction film)\",\"oil\",\"star wars\",\"good versus evil\",\"meditative\",\"mummy\",\"mad scientist\",\"great movie\",\"marx brothers\",\"understated\",\"religion\",\"adoption\",\"drugs\",\"grindhouse\",\"70mm\",\"psychiatry\",\"suspense\",\"memory loss\",\"goofy\",\"19th century\",\"unfunny\",\"oscar (best actress)\",\"lyrical\",\"biting\",\"guilty pleasure\",\"hackers\",\"quirky\",\"corny\",\"depressing\",\"mother-son relationship\",\"alien\",\"erotic\",\"german\",\"childhood\",\"great ending\",\"cult\",\"80s\",\"motorcycle\",\"silly\",\"directorial debut\",\"18th century\",\"firefly\",\"werewolves\",\"incest\",\"hip hop\",\"9/11\",\"hotel\",\"mob\",\"based on a comic\",\"adultery\",\"author:neil gaiman\",\"emotional\",\"arnold\",\"cars\",\"vietnam war\",\"reality tv\",\"lions\",\"dumb\",\"high school\",\"nudity (topless)\",\"book was better\",\"peter pan\",\"hollywood\",\"us history\",\"view askew\",\"biblical\",\"medieval\",\"teleportation\",\"robot\",\"marvel\",\"made for tv\",\"masterpiece\",\"holiday\",\"based on comic\",\"007\",\"social commentary\",\"fantasy world\",\"gay character\",\"beautiful\",\"product placement\",\"post-apocalyptic\",\"shopping\",\"kids\",\"satirical\",\"movielens top pick\",\"colourful\",\"suicide\",\"segregation\",\"animation\",\"android(s)/cyborg(s)\",\"treasure\",\"italian\",\"off-beat comedy\",\"tense\",\"writer's life\",\"fighting\",\"very good\",\"oscar (best music - original score)\",\"stand-up comedy\",\"virus\",\"giant robots\",\"humorous\",\"vampire human love\",\"bombs\",\"horror\",\"caper\",\"romance\",\"better than expected\",\"sex comedy\",\"teen\",\"cgi\",\"survival\",\"redemption\",\"intelligent\",\"long\",\"complex characters\",\"silent\",\"bad sequel\",\"splatter\",\"psychedelic\",\"oscar\",\"short-term memory loss\",\"creativity\",\"sports\",\"science fiction\",\"psychiatrist\",\"whimsical\",\"guilt\",\"skinhead\",\"moving\",\"sad\",\"dynamic cgi action\",\"spying\",\"007 (series)\",\"alter ego\",\"abortion\",\"stage magic\",\"suprisingly clever\",\"slow\",\"sequels\",\"genocide\",\"heartbreaking\",\"rabbits\",\"rape\",\"punk\",\"best of 2005\",\"confrontational\",\"college\",\"chick flick\",\"based on a true story\",\"french\",\"funniest movies\",\"stupidity\",\"snakes\",\"goth\",\"anime\",\"clever\",\"beauty pageant\",\"coen brothers\",\"dolphins\",\"prison\",\"too short\",\"environmental\",\"eccentricity\",\"spiders\",\"train\",\"educational\",\"claustrophobic\",\"unintentionally funny\",\"james bond\",\"magic realism\",\"shakespeare\",\"rags to riches\",\"wistful\",\"rebellion\",\"nature\",\"bad science\",\"internet\",\"simple\",\"special effects\",\"dialogue\",\"cathartic\",\"romantic comedy\",\"spock\",\"space travel\",\"bullying\",\"drama\",\"harry potter\",\"classic car\",\"courage\",\"paris\",\"loneliness\",\"funny as hell\",\"nazi\",\"visually stunning\",\"iran\",\"surprise ending\",\"sappy\",\"new york\",\"murder mystery\",\"plot\",\"pregnancy\",\"franchise\",\"twist ending\",\"best war films\",\"brainwashing\",\"secret service\",\"communism\",\"author:alan moore\",\"amy smart\",\"good action\",\"action\",\"poignant\",\"future\",\"fight scenes\",\"brutal\",\"black and white\",\"aviation\",\"psychology\",\"based on a play\",\"working class\",\"philosophical\",\"surveillance\",\"good\",\"true story\",\"monkey\",\"notable soundtrack\",\"military\",\"miyazaki\",\"francis ford copolla\",\"batman\",\"very interesting\",\"ballet\",\"literary adaptation\",\"absurd\",\"saturday night live\",\"notable nudity\",\"indie\",\"television\",\"war\",\"zombies\",\"talky\",\"underwater\",\"propaganda\",\"satire\",\"excellent\",\"gratuitous violence\",\"music business\",\"new jersey\",\"heartwarming\",\"clowns\",\"antarctica\",\"books\",\"bleak\",\"teens\",\"new york city\",\"weapons\",\"interracial romance\",\"australia\",\"france\",\"supernatural\",\"berlin\",\"roald dahl\",\"kurosawa\",\"natural disaster\",\"nudity (rear)\",\"child abuse\",\"kids and family\",\"small town\",\"assassination\",\"mission from god\",\"devil\",\"cancer\",\"not funny\",\"teenagers\",\"bad cgi\",\"president\",\"violent\",\"vampire\",\"silly fun\",\"fantasy\",\"heroine in tight suit\",\"manipulation\",\"melancholy\",\"thriller\",\"1970s\",\"sword fighting\",\"exceptional acting\",\"too long\",\"ghosts/afterlife\",\"violence\",\"undercover cop\",\"police\",\"noir\",\"alcoholism\",\"action packed\",\"twists & turns\",\"cult classic\",\"wuxia\",\"south africa\",\"better than the american version\",\"birds\",\"nudity (full frontal - notable)\",\"hillarious\",\"biopic\",\"tolkien\",\"queer\",\"spelling bee\",\"wizards\",\"boarding school\",\"perfect\",\"animated\",\"short\",\"judaism\",\"police corruption\",\"food\",\"mars\",\"screwball comedy\",\"gypsy accent\",\"neil gaiman\",\"pixar animation\",\"visceral\",\"hallucinatory\",\"suicide attempt\",\"hannibal lecter\",\"father son relationship\",\"spanish\",\"passionate\",\"football\",\"bullshit history\",\"torture\",\"mistaken identity\",\"soccer\",\"united nations\",\"crime gone awry\",\"arms dealer\",\"money\",\"carrie-anne moss\",\"wwii\",\"effects\",\"golf\",\"holocaust\",\"doctors\",\"existentialism\",\"parody\",\"good music\",\"parenthood\",\"screwball\",\"mountain climbing\",\"prohibition\",\"oscar winner\",\"photography\",\"poverty\",\"good soundtrack\",\"bowling\",\"excellent script\",\"affectionate\",\"adolescence\",\"death\",\"dogs\",\"geek\",\"special\",\"world war ii\",\"iraq\",\"robert ludlum\",\"airport\",\"pg\",\"prison escape\",\"coen bros\",\"so bad it's funny\",\"war movie\",\"jewish\",\"betrayal\",\"conspiracy\",\"weed\",\"cyberpunk\",\"visually appealing\",\"over the top\",\"superheroes\",\"radio\",\"cyborgs\",\"submarine\",\"aids\",\"road trip\",\"movie business\",\"spoof\",\"pigs\",\"sexual\",\"stop motion\",\"bizarre\",\"transformation\",\"3d\",\"samurai\",\"boring\",\"overrated\",\"scifi cult\",\"business\",\"humanity\",\"secrets\",\"compassionate\",\"ethnic conflict\",\"fake documentary\",\"jesus\",\"afi 100 (movie quotes)\",\"animals\",\"cartoon\",\"enormously long battle scene\",\"scotland\",\"afi 100 (laughs)\",\"hunting\",\"computers\",\"quotable\",\"graphic design\",\"biographical\",\"dystopia\",\"black comedy\",\"super-hero\",\"book\",\"rio de janeiro\",\"feel good movie\",\"graphic novel\",\"great music\",\"cheesy\",\"alone in the world\",\"vietnam\",\"russia\",\"southern theme\",\"moral ambiguity\",\"unusual plot structure\",\"identity\",\"con artists\",\"police investigation\",\"fast paced\",\"independent film\",\"cute\",\"travel\",\"thought-provoking\",\"stylized\",\"dinosaurs\",\"poker\",\"literature\",\"coming of age\",\"courtroom\",\"mining\",\"strippers\",\"strange\",\"oscar (best supporting actress)\",\"frightening\",\"pirates\",\"lynch\",\"world politics\",\"time loop\",\"new zealand\",\"adventure\",\"original\",\"depp & burton\",\"suspenseful\",\"powerful ending\",\"latin america\",\"oscar (best effects - visual effects)\",\"stupid as hell\",\"chess\",\"virtual reality\",\"orphans\",\"ironic\",\"crude humor\",\"poland\",\"idealism\",\"sword fight\",\"morality\",\"flashbacks\",\"stranded\",\"horrible\",\"japanese\",\"india\",\"awful\",\"aliens\",\"dysfunctional family\",\"buddy movie\",\"character study\",\"maze\",\"art\",\"catastrophe\",\"christianity\",\"alcatraz\",\"nocturnal\",\"foreign\",\"sci-fi\",\"transgender\",\"road movie\",\"russian\",\"autism\",\"jay and silent bob\",\"scary\",\"solitude\",\"plot twist\",\"casino\",\"fountain of youth\",\"swashbuckler\",\"non-hollywood ending\",\"afterlife\",\"superhero\",\"1930s\",\"imagination\",\"enigmatic\",\"nudity (full frontal)\",\"organized crime\",\"metaphysics\",\"ghosts\",\"women\",\"based on true story\",\"based on a video game\",\"robert downey jr\",\"british\",\"based on book\",\"minnesota\",\"teacher\",\"goretastic\",\"foul language\",\"watch the credits\",\"eerie\",\"irish\",\"muppets\",\"art house\",\"hard to watch\",\"catholicism\",\"airplane\",\"genetics\",\"single father\",\"disney animated feature\",\"spielberg\",\"ecology\",\"wartime\",\"father daughter relationship\",\"scenic\",\"alternate endings\",\"indiana jones\",\"witch\",\"revenge\",\"steampunk\",\"nostalgia\",\"corruption\",\"tricky\",\"spies\",\"nazis\",\"western\",\"storytelling\"],\"x\":[-0.007510938797680049,0.03323959838382393,0.01429893316083995,0.0001617572175941696,-0.005614954900175938,0.030457822011513026,0.01919252802018887,-0.013521639935025457,-0.00863910983662761,-0.011667713838724206,-0.014311152495409884,-0.0009149310047613475,-0.0018169349527160708,-0.033950760612986776,0.01202825748616699,-0.04206091339063172,0.006789684378744294,0.017319958839056494,0.008946266172688023,-0.0029256885002290245,-0.0031516451664682747,0.004796436911614888,-0.01337754080070526,-0.00026035549630386935,-0.020778901907358625,0.006868355734412667,-0.0005553208701466516,-0.0023244752679449426,-0.017284991785834588,0.016891366069002666,0.00325028588641151,-0.013805899514008738,0.009217662867054062,-0.0021106216755383185,0.012634130539295388,0.04217120292267212,-0.08706289634840778,-0.0005889634000200651,0.01104221308130403,0.0215572448835827,0.0033141460188201837,-0.0016392803052554335,-0.004642416255804957,0.01181250152557893,-0.008749157310693631,-0.041710598873619685,-0.006684305906601871,-0.008875142506954616,-0.04564962732740997,-0.0025699435759770632,0.019749213025054866,-0.03102931304304023,-0.03595198360649904,-0.03094624505016392,-0.042053785858772244,-0.007110438115161829,-0.010161723679242826,-0.0004841628044618613,-0.004049553460227518,-0.010783273753761482,0.006484487030594197,0.042335988228751495,0.0030374035105634866,0.0566277458636245,-0.02748865111357188,0.015645974031613885,-0.05910795676536006,-0.012570141056540743,0.008084316311122327,-0.001311166759659416,-0.0017100930557175154,-0.04365779169179195,0.008637974590651845,-0.004621714064079868,0.02461721506101188,-0.01574197029012955,0.02339879734666782,-0.013122888529360919,0.03208946335444923,0.007810723478394126,0.007673751080735082,0.03193618507724894,0.011768413188719011,-0.0101723640365722,0.008029202523956398,-0.0008233805860984478,0.015955617515613887,-0.027734348591916567,-0.09190892041771252,0.013777583992669156,-0.005902904591650001,0.020055158274724542,-0.05418134623090018,-0.01305218638639965,0.0024446995587350455,-0.02335476293278222,0.016811239364554684,-0.05096552471917793,0.04369563837460003,0.01036471022049249,0.005062154449020022,-0.014617531253802394,0.0073735015179850795,0.021386884242124888,0.04619575378798176,-0.003853759305953237,0.005331169593480562,0.015290005235206535,-0.03988576911308479,-0.014769693076863946,0.026781760483568524,0.00705845690623007,-0.01909847382760203,-0.09297065519833178,-0.006612656401488103,0.01063640516332419,-0.006227801235311251,-0.008836885695094183,-0.028765873227956498,0.009143288260465243,-0.06250492459707595,-0.0788077968034879,-0.02550498436748978,0.0005783038116636984,-7.31564933430117e-05,0.0045706719255979265,0.005246374982057541,-0.011657816337669458,0.03356986788672128,0.018896031427176975,-0.018359785221933014,0.01739519161428575,0.005636883824563394,-0.02797656445664469,-0.0029423702925531164,-0.00614519033367289,-0.003865784415851853,0.002671447900979088,0.008382765327139488,-0.020862487195145288,-0.03384716873370549,-0.015552994492511421,-0.04048488275371159,0.009296505167254866,-0.006702359160137795,-0.00401671372592769,-0.003696983101598891,-0.007181267750281464,-0.008362527566218109,-0.023426910551292965,-0.0026343781223490963,0.03180822789383555,0.018980931658333523,0.02804728146893124,-0.05023264523310394,0.0009044146590848947,-0.003251558624312475,0.018858163006502403,-0.0068914936723188,0.0016289175970118312,0.0378285487996785,-0.0008647896611210955,-0.008624153072451578,0.005815032588369824,-0.010092055948849746,-0.01794123230537565,0.0025870722468442904,0.006700362232715694,-0.02099864206499539,-0.004721845609836089,0.006489653171135169,0.030672638064552244,0.005702977280747711,-0.015945275442211495,0.0033056625407509427,-0.012423434432936836,0.01157068237244104,-0.014863846051098367,0.006390051416269524,-0.06432470766570281,-0.013610763015352538,-0.012459023282719446,0.04195462260599442,-0.0013260807385544315,0.03879371424431033,0.024284181363722138,-0.0236186273399262,-0.004229174650489935,-0.014267485204477143,0.0217337995885971,0.004949205067381161,0.004580186187888403,-0.008903758132810602,0.0007602560218390914,0.00470815645240093,-0.008374037363731091,-0.04642358563752544,-0.015569882146412814,-0.0034390665638367795,0.0033420098722581337,-0.004899507068470418,-0.021907182043353443,0.010062666713198687,0.00925710576264893,0.0010742265156544358,0.002872163018503849,-0.010338723877362673,0.013556324042165075,0.010317008559570353,0.015710295806935053,0.03747781704594472,-0.028423886535934334,0.008216996807056724,-0.019344783261032027,0.0030856196135620115,-0.005990402340508477,-0.0074871902454389455,0.013806858227309649,-0.017108786901960576,-0.008908434428347484,0.014581014074681218,-0.022312426042775415,0.00897979725453581,-0.027269866696099335,0.04640051156713437,-0.060348965605223986,0.0011847234461821936,-0.013999729923281037,-0.016584491330452047,0.007798184040561588,-0.029700947604065407,-0.12557816353564435,0.0171460197092261,-0.036123024451883395,0.0062606971417906105,-0.0006177447117628592,-0.016354595611869544,-0.018964954380792546,0.003234319961590996,-0.09641821702824822,0.020370479867496877,0.017046609228422247,0.0008137028654214397,-0.0006632583635534205,0.003630118922931688,-0.004457581817951776,0.02130429847978783,0.018889695381498494,0.02190374814406874,-0.039077486257051264,0.0001677667567028949,-0.02501076948067732,-0.008302399990172522,-0.006945095266066553,-0.0016585588789779014,0.011947036899781764,0.011693729930642473,-0.006262541782758693,0.0015491964628137514,0.025814696372393385,0.0006717935880837137,0.015546276184670471,-0.15774802122366827,0.009590861577808448,0.0012250083964320635,0.06975511890189093,0.006853457598881049,-0.01136460291115357,-0.009459222037365914,-0.01697004356546723,-0.0022984685234873708,0.04663935041228581,0.0009359291557545635,-0.009681296024636729,0.009673100604489046,-0.0033078879973232676,-0.07663420257650658,-0.014091587834443102,-0.0013022030258023026,-0.015058040019786868,-0.0328816713750256,-0.01966371143310622,-0.0186295763117845,-0.02584640283599714,0.01454339074418032,-0.001987884765256178,-0.0573925305146735,-0.007520318301758473,0.012036805615231343,-0.012429656558592845,-0.017302616432595903,-0.0184021990307495,-0.00017828897748912515,-0.0005429173558588763,-0.07278533831775866,-0.0039024870612944487,-0.0005265729525982848,0.0037892130968017667,-0.05300219594274178,-0.016318405823821134,-0.009061086801908617,-0.002435345428412917,-0.019072895063292832,0.027970135277314744,0.0005239427124829479,-0.06646887026408499,-0.0007334234826394092,0.010122291281194129,-0.0190238614046393,0.010697669543582046,0.007457094630101595,-0.0015652096498394805,-0.005803401678544289,-0.01613227434225349,0.011680654205052128,0.013495635570838046,-0.015752258350007563,0.004599899163255127,-0.018136090705174555,-0.04638315200516021,-0.02671964066124922,0.02234671982565898,0.0013725368301510032,0.01803895632549301,0.025916946659243975,0.0024246405602682177,-0.00480962933559051,0.0023585011166074275,-0.009964330848251296,-0.014733965396786543,-0.0014660663709985863,-0.057562736522770795,-0.03773640927381497,-0.0016818829248591593,-0.0032406547263579607,-0.03951147889020663,-0.07261250187567002,0.007858590565673474,-0.2196411501742839,-0.01904014047455012,0.00726853956476566,-0.019364040793573522,0.0022409146966679886,-0.0037388010031449387,0.009916186276798276,-0.18833977776805108,0.001736882827176742,0.014296444045462531,0.005471062518014653,0.007232591589446067,-0.027838740693718157,-0.026771553836871253,-0.06447040118359203,0.0075265516126901315,0.008945755209090875,0.0219066411424869,-0.02849635471042325,-0.029515989495275705,0.01734364263200431,-0.026354591180395504,0.012631666460552872,0.008258998220544106,-0.015740818026152598,-0.022078060384060745,-0.008219829842383338,0.0013925269880466177,0.03839636020535716,-0.03292361638943071,-0.026027755150708293,-0.036758037685443355,-0.0077819030139028265,-0.022954210352754686,0.03606545109987088,0.04392475931973887,0.010083221635634501,-0.07572078846455119,-0.038954011920548204,-0.012777543923100022,-0.016476139589181784,-0.008776470391725159,-0.009235977369615955,-0.011623375919328221,-0.023881849180234227,0.052389855447195904,-0.0022768308613736374,-0.06959606412953896,0.009017331759013874,0.027920794761004293,-0.009683993556207943,0.004602751668078859,-0.007430579096880032,-0.0008506461341978268,-0.003634377814334055,-0.09253387363200427,0.03284643873920882,0.009521115941833651,-0.034370373894016155,0.000881741455171816,-0.013700160827642026,0.0006647939786481148,-0.005045528436332251,-0.008256347782673598,-0.030329769912591096,0.0006201547141058528,-0.004266219940622764,-0.034165493154673834,-0.03142869450738734,-0.004290386419213636,0.009194016310447759,-0.0137909471326129,0.014862534002503189,0.014047322377155216,0.03000948208411243,0.001993303660466621,-0.0016030086547570328,-0.08452313542922739,-0.0075044419873934315,-0.02064719628403659,0.06403903071002183,-0.08560886731473137,0.01060957574151908,-0.011645933851518976,0.015987958218009905,-0.052393087097256714,0.03208978341798938,-0.004798953405511716,-0.01278001121638828,-0.07681672683008645,0.007126300683433395,-0.0058719522318801814,0.027951755837975358,0.004498041495008562,0.0141067007943756,-0.0020381776710070403,0.016634319587165682,-0.05663028978458735,0.0030408623202587658,0.05428532600571864,0.03410978723399782,-0.004871760562792626,-0.007514908213977862,-0.016155146430001877,0.004023901073288725,-0.026647591905977992,0.023264560876556394,-0.02423932579923838,-0.0002923905870298961,0.026468401790392906,-0.002812196495928592,-0.00047081067529008785,-0.015834478051381794,-0.03404811956120954,-0.0003277969078592565,-0.01868224970585827,0.005382931045593798,-0.0374752484736175,0.04640339207232134,0.0005399061977873128,-0.0018646602815778487,0.009074068347580419,-0.039245846772669,0.006417554634224623,0.013332886734349169,-0.0029574112701898935,0.005596170791347879,-0.00806224579947129,0.019718409734012756,2.782448969306987e-05,-0.045033548035262355,-0.0006956699611195607,-0.0300841082146942,-0.13110439434323737,0.0024148196481493986,-0.009074937259208597,0.004697910026589686,0.02663870909250263,0.021143916812955642,-0.004308046634986977,-0.0018008390279392098,-0.05815885802297036,-0.027898116713325014,0.02944570484509557,-0.011410599476053822,-0.0505038938576496,0.009640636382467408,-0.009010032377341506,0.0038753008397950073,0.008527294085123278,-0.03378134383295735,0.011949447155448422,-0.02575721163843281,0.0005144211424759056,0.007932922866278794,0.026665907986723116,0.01910585822917123,0.018456943344795577,-0.00041273772141469186,0.010015863434113216,0.001906501844569999,0.0023121456099931188,0.050604263830581954,0.055359158208734015,0.010875691346650309,-0.044259338450357934,0.015164694927708312,-0.054708640876145014,0.004249976954289034,0.018906824080880173,0.008564105325433691,-0.046892294845309254,-0.008695603466299408,0.0010938348017265466,0.008305739244722464,0.007714414140010535,0.015570616468140945,0.002369102056889149,0.009739249569631086,-0.0009249376999064265,-0.017021812677452154,-0.051442809550303954,-0.011388923017464324,-0.0007237028678496176,-0.019943928863923505,-0.033046221980223674,-0.011929446783782962,-0.006487324255914917,-0.023354220238591947,-0.004509674620531207,0.0034722662371357463,-0.06626608792737651,0.005007493418327402,-0.007036524151988659,-0.002053228752561366,0.008607077094748353,-0.007237633270343632,0.059780283268405114,-0.03301183486438491,-0.0010454045096320265,-0.021916144768515854,0.010430154160932488,0.020889619458931627,-0.03618496355833493,0.014706784971221569,-0.014227406218799355,-0.0067038915151367605,0.02903841870881496,-0.012631181219126951,-0.007848559601543261,0.0025830080047663626,0.016984703698411947,0.03062876405140471,-0.008126867522638921,-0.014877448938570773,-0.08034959635298769,0.05838495892018353,0.0035121489103925882,0.005905146712701908,0.01518434423533303,-0.036355660167233086,0.009625684338029083,0.001135185613511899,-0.0139649055678758,-0.015358730387881629,-0.030362529622030437,0.004183069757538638,-0.09267471127343493,-0.009915577125668661,0.02743415881655528,-0.028764038848843737,-0.033441456837382866,0.0011042028364315706,-0.025032734603851043,-0.015309336139382047,-0.002485477067867616,0.038988505081775544,-0.033435074084252836,-0.0033608538363057317,0.013438626252435582,-0.008876222130441334,-0.017427579282244098,-0.00830365680350035,-0.007712446673338032,0.019965099875540984,-0.001245143533399949,-0.0037277813795060307,0.01574629165324437,-0.0019269807975779904,-0.012725882688755337,-0.057619972895116084,-0.002409316083142618,-0.002355188019336375,0.011165037487951645,-0.004888574666781454,-0.07157389865191437,-0.029517587552408346,0.011827930370340523,0.003707324335320293,0.06664244979368968,0.01286977406307032,-0.15677715480340182,0.023639444623891115,-0.03294547051820917,0.009402779882561342,-0.00120766425902036,-0.01219286936264564,-0.01194646940922795,0.011086284949220997,-0.08210716673343904,-0.010712526434938564,-0.03829046467088298,-0.006251491511129093,0.011229140730471251,0.023522607548620043,0.026234562521543228,-0.04443022719468016,-0.007662557587611976,-0.054476423043322945,-0.06536649776625139,-0.01702606252759201,-0.0688178554462951,-0.03532577632362113,0.02648181188650031,-0.01272944704787216,-0.004950595982622475,-0.0024758676229417074,-0.026612396493668148,0.007705217646217399,0.002514728015871479,-0.018037982715810866,-0.0186521562523067,0.019585420908308133,-0.005451865077172379,-0.008733994463393045,-0.0006699188826515978,-0.003334560809649785,0.003678416981160194,-0.0182073700283006,0.00033939118911678216,-0.05362620269025662,-0.07830791331819001,-0.03917054103489007,0.01594225490547275,0.00025181258811939175,0.0025536690517381972,0.03733469687768477,-0.02156963084805213,0.008052462797600777,0.010196122652500505,0.005474693292972827,0.005609585296932984,-0.0038555863571341016,0.007303351499143595,-0.0030605923034543524,-0.008983055575695556,-0.012056681162406444,0.0053702624471011085,-0.06324590261091406,-0.02496239463322994,-0.03965231601477786,0.012175095326252302,-0.012763054633410114,0.006899804798678718,-0.022538557383545745,-0.03802445298333907,-0.05693430642085705,-0.020392353997280257,-0.004799514368151845,-0.018103430141353828,-0.003530811745279846,-0.021637142627640917,0.004576190342103888,-0.0016168665045423682,0.0015111540135444796,-0.07776322946148771,0.070645871019246,-0.014457658531175515,-0.015716454782727776,-0.021277769572702547,-0.0008970722877114194,-0.027130284065013454,0.0030180832923590822,0.001840374948775595,-0.15653434170749989,0.0008531740039096819,0.027255721007660414,-0.009859293093285988,0.0036489487406440708,0.00834533894895794,0.0050393097459586565,-0.02416040916123768,-0.0879427473284743,0.0043030498958787885,0.03218123985368086,-0.043896742596972654,0.007334581215502411,0.014958478369975913,-0.011389382872154137,0.021776581249334365,-0.0006761916378242365,-0.050548662858604695,-0.007170376266753146,-0.011544253408895918,0.000557574973751197,-0.03441723325961312,-0.021301534448074564,0.018268181240182882,0.01349100696441057,-0.033242449205209745,0.04047752270970003,-0.006225357101333598,-0.002587599672652332,-0.0242292055464605,0.006418408873200073,0.037815785434627915,0.0032072671387359253,-0.040088623425729095,-0.0036412175549166543,0.008099325552093228,-0.019416806887949323,0.011874043994270661,-0.01620774239605599,0.023159669314747146,-0.013627707591430536,-0.01080281050097005,-0.0003631481699560046,-0.013681598992647231,-0.00665461436448207,0.0025534603550183177,-0.031217277810667448,-0.012337348155496005,0.018849273407723476,0.021287609187382275,-0.08749946536646389,-0.05929521019252363,-0.011929092011747834,-0.025602945447940822,-0.004546565289708902,-0.03608929854364802,-0.0071412745028922526,-0.005897683632421884,0.0015723140949987073,0.0025226917753163884,-0.002910985043785482,0.011860203165933897,-0.04347600802967739,0.001550111844131386,0.005574777203059528,-0.0010232235711470992,0.03832243322235762,0.006335272136170246,0.0022676736947576394,-0.006929422326407878,0.0043426729438753205,-0.012013682251863278,-0.01202196998262127,-0.015602436159610059,0.007113174777588905,0.014288255416306921,0.016312350621901697,-0.016672047857836297,0.013079003205433207,-0.02670842247121588,-0.014336074548594271,-0.017867000151953537,0.0010079984265861071,0.012649387556252152,-0.04789695799449968,0.002872138335669685,-0.0003631844689953714,-0.018093307798027723,0.025198375020717437,0.018889491471551955,-0.050106614517892924,-0.1030009803080581,0.021625298638252837,0.01892877160228137,0.004865130076143584,0.04259683324032788,-0.0063603373446266395,-0.014167687636413063,0.06339751782801581,0.027697946323209984,-0.007253816192615127,-0.021022482030034064,0.0401119775467523,0.02643956346458292,0.022302612738385803,0.031028944834285404,0.006943841630715739,0.0005366521477743015,-0.027356200992541546,-0.0034293137032214978,0.02536706001533404,-0.023724660565584227,0.011084261652963428,-0.023192990210330493,-0.01058464462170067,0.023381197611985104,0.004931670719369375,0.017373250263665544,0.014444135703103645,-0.015328916433920979,-0.006884535986477086,0.04283601465625605,-0.00925455664513489,0.02679163036619177,-1.9063273417189097e-06,-0.017314200427357707,0.02607693292752827,-0.0010390914163344205,0.008857429783329861,-0.002960619786780459,0.026572106137247364,0.00015120662116712336,0.01744660278805549,-0.05063033702772074,-0.060287936388089616,-0.015900722024234294,-0.06842313318331478,-0.010738960532182727,0.04129219561595162,-0.008529245974970762,-0.00467004054183008,0.004473459250925739,0.03603117598522879,-0.08218324274590728,0.006156735825799057,-0.02663260039978595,-0.01916822781214711,-0.049905351774625566,-0.035593889463803485,-0.016000657650568507,0.01313484404707638,0.010199492584249497,-0.014744811082335253,-0.08301902855155353,-0.018168385294386653,0.0015610055389321145,0.01673152964350496,-0.008491350352100142,0.026888939165768237,0.00883382887744656,0.01473244471628236,-0.0016445270972294391,0.001039967949278514,0.029658044443693653,-0.0020778254176350374,-0.004253682614194973,-0.020128542914024022,-0.04830248457226448,0.05287623003831834,-0.011587334368780766,0.0037077369074183125,-0.02330224335838034,0.019564100399294262,-0.05298764015447603,0.01162756323276765,0.018820723045013296,-0.039423455875040724,-0.005865359349176193,-0.08121909016063146,-0.014950978080365628,0.002136032584538642,0.04347984574798931,-0.019670730799364496,0.08830711755517165,-0.023361609012636314,-0.0019684435380305856,-0.013553709261962657,0.008003715818746843,0.0035255782738828215,-0.0421220219543281,-0.007644112673350123,0.008523678478312697,0.02201202142155023,-0.013175050694441564,-0.002601263936211379,0.05017128527775557,-0.11618420706578182,-0.0032060916355555504,0.002908708810301421,0.005349541311272155,0.002616612857840232,-0.01691261197996489,-0.03938381848369074,-0.009776097043282538,0.0002598243757612984,-0.021458412456431427,-0.005453275238659771,-0.0023626241193848104,-0.004697206002303608,-0.005631043183595109,-0.015661258306145377,-0.006372976046654957,0.005273558291882537,0.013935186699153333,-0.0015515678739814686,0.020517942002786168,-0.006058275923440395,-0.013746915283605061,-9.380668228693481e-05,-0.0073294336900423815,-0.016582106776422124,0.00013488934256331012,-0.03367293315345519,0.002302611234406709,-0.013664463067130267,0.011818094796442972,0.02395128401164271,-0.007758149407249616,0.007271333894156392,0.01230428002452791,0.011321895881342471,-0.004674450951957223,0.006862267570195755,-0.03515875814783996,0.005276716843497189,0.0002259735102933393,0.006253159387107507,0.03512377385903866,0.00941424187445666,-0.010005464337276351,0.015001527465878763,0.01457908176021233,-0.023493020664044278,-0.10290135834217577,-0.026233981957699992,-0.042553536305491885,-0.0200760271849391,0.004040243125224372,-0.0011737447678440436,-0.00805390128726885,0.02523794934040948,-0.0029445097763956905,-0.10051603449521142,-0.010437236400394526,-0.032902343481182005,-0.042383718358092244,-0.07520754851249367,-0.0038300484216435564,-0.0006011433862548953,-0.04647400113560465,-0.02961844978968812,0.037351368786297044,0.010150678483452257,0.004704979449881427,0.0006567728092815827,-0.009854509324474599,0.0029282527430018745,-0.020766904921501274,-0.015175186398452304,0.02653009296104281,0.0041733418492091055,0.06218625669189473,0.07780920606123645,-0.0604690581478394,0.010887835309987551,0.0032736641450570956,-0.017874042472059384,-0.03191993103543143,-0.011361277286607133,-0.0005857429942837932,0.01246782373833579,-0.010848543066050065,-0.06381010989313578,-0.00424591543631883,-0.06310644661822969,-0.0004122151162797077,-0.009254871093531986,-0.016456880606837223,-0.014124070114707574,-0.01784237988981345,-0.00011347672489325777,-0.0032790560076455333,0.00441880721522156,-0.01505036198173664,-0.002065251933253563,0.006835328383282313,0.02669063292183233,0.07705014128250207,-0.0025596165177587974,0.011141897833586415,-0.0049952246743469285,0.0008524306646007269,-0.01415572539806532,-0.011833860092313622,-0.022030264204166573,-0.0014805313498453148,0.005050906710964791,-0.011944595173519899,0.012040754074332137,0.010535024089958642,-0.10774373435387385,0.01182680779845809,-0.01122198854644247,0.007257570147874751,-0.04932264732388087,-0.014752563241967909,0.014339119006087322,-0.002956520039884409,-0.05476997973837515,-0.016039894056232656,-0.037196810745163456,-0.015323676754427503,0.004914392810218737,0.0034313369115927662,0.018763580122017277,-0.008359722036756658,0.004565749500983704,-0.000410380474506166,0.031646182958393165,0.009432089745641421,0.04984452876470776,-0.003665089392735225,-0.08437323121538508,-0.030602341799602382,-0.003744872655142261,0.0099686316302812,-0.024524392024998846,0.003122612461702463,-0.00920396768337321,0.0023211979797044,-0.07913411729612752,0.030560737859394227,0.0021306503277008517,-0.011416536462142891,-0.004931170156305811,0.003250897071566739,0.013761493786765803,0.0001015652749346622,0.006185808370256977,0.03273524866389675,0.004165964784166701,-0.003275933910528061,-0.0029099234482099405,-0.03427170573103659,-0.0023812871197862726,0.07127737223629603,0.004959627863974716,0.009591071373113201,-0.025092095027659665,-0.048819073237278666,0.005788253901398845,0.011148462847174762,0.0009078060507734113,-0.033494164319565346,-0.06705483496043663,0.012520414847460594,0.030675680240220105,-0.002210994092440714,0.016498868715759896,0.0009368354349249255,0.015125734827671588,-0.0005545970539489311,0.005390414725833834,0.0022411320551580113,-0.00021125998929253482,0.00929925400746173,-0.043359898264894024,-0.0596684262751632,-0.023501558391585863,0.007647561785341172,0.005631881963419948,0.026621806485688126,0.010620942631634071,-4.642641732847062e-05,-0.028797633617668607,0.020180096661688598,0.023047843930494985,-0.005754000454598651,-0.04138795946708176,0.02612567139385531,-0.0011350921377844985,-0.012435658750649312,-0.002957563834720201,-0.01576051626106946,0.026691852630669286,-0.001917705041988632,0.0024245694672048223,0.004051799848101562,0.007295393844356977,0.0005025389358688481,-0.01586996726758745,0.02114050806619816,0.005832348718544926,0.03809332130997596,-0.012132814902759064,-0.017403203199990922,0.0043935020410560905,0.005920472134179288,0.009482845794896878,0.018900216678954796,-0.0011675175480259342,-0.01484912956002309,-0.0032614233900454185,0.0066300661649468726,-0.007913650081240656,-0.03278172199377993,-0.02138884871165048,-0.0698608769681936,-0.025594684163394738,0.02226741008557484,-0.0026558123460237054,-0.005777320030302455,0.008450634221653498,-0.0026262138472798423,0.006135047151555511,-0.0004566312106085564,0.006586477482949972,-0.00033251384375458627,-0.0034572208291088146,0.002262628952412915,0.007517439762878045,0.04257284953824401,-0.004724608770198799,0.026317155402314305,0.018226606543991348,-0.0005873950025620431,0.0016108315661737434,-0.005554435750308225,0.0035086129875105637,-0.025959211308731796,0.041561627998922074,0.02647777070713965,0.030348934507054687,0.030122412868881177,0.0007896221833771191,-0.02596730067016239],\"y\":[0.018341395491819228,0.03154707673198548,0.04650395682293683,-0.008761648566093213,0.005488526901122014,0.002287545780579129,-0.022681515966463336,0.011430945342759838,0.01414489057889471,0.0024443646217055977,-0.00422366871482458,0.003085636819358669,0.034835197151222894,0.024394745405925608,-0.0460912721633911,-0.0065157042349158305,0.00044840310918355624,0.011640160041791825,0.005091063453085768,0.05714844465582398,0.0004165967055724847,0.00517163861208205,-0.00925585691530367,-0.0009647998881887929,-0.04911313088819747,0.002002910109938358,-0.0034808958557740323,0.00482526994823784,-0.02250249006641936,-0.023832434982383466,0.01700748441518863,-0.003750035359080656,0.03983349303450988,0.007719062856585231,0.04808878912202642,-0.06518382476414691,0.0037589254712011625,0.0016663767844012612,-0.024319842005192792,-0.0027776104902531465,0.022131927564922733,-0.032816365228549776,0.00626911206323882,-0.0028206801460224527,-0.010063135506703668,-0.02096921745178333,0.007231657190475324,-0.005267852665000583,-0.010767664245192562,0.029418295294854027,-0.019807701012768568,-0.03463374810137772,-0.06738920583775238,0.02648272981007064,-0.01329380681121745,0.012073615941064073,0.012076159512196167,-0.014291724353835668,-0.019270389843820408,0.03574754947604412,-0.017133277337509942,-0.027202969877269997,0.051925394805034907,-0.061008825560892245,-0.022510276432297676,0.005117688058717246,-0.010802335898338058,0.021966849390569594,0.01439757810603778,0.006334110414907541,0.006559943572945335,-0.00832851637939916,0.0002537384877024773,-0.00788766374091808,-0.031402394516677506,0.012414888377121387,0.14078256483426477,0.02202123119032442,-0.060733221175143966,0.008263234795870185,0.027076069173330834,0.07890588155533339,-0.0041006268492808865,0.006787452273170205,-0.004089991090790381,-0.002106952409897186,0.003354528039123171,-0.03892310597663049,-0.00851201253780151,-0.003505682988937884,-0.005216726786557154,-0.01315177316358106,-0.015318506011412825,0.03065565446486779,0.03319000030848037,0.023507601440057656,0.019153226310287683,-0.009659090627001573,-0.045915529871578306,0.024961132508850976,-0.0013364097751515174,0.04189118300078286,0.01211451095393169,-0.03826190143418838,-0.007381310029528413,0.03814640549480955,0.07206870953211321,0.005584920587415616,0.0356773863572914,0.0014560284681644582,-0.01851207058240634,-0.0056216343722815506,0.010335162523071819,0.007239741684483134,0.0055910181529100185,-0.0064922032137088815,0.03187441651266714,-0.028998609411005447,-0.05504759308659235,0.014391245983248804,0.003771211412249911,-0.006172515355317009,0.031760239939787924,-0.02238303435384472,-0.001698522292611887,0.0006950057881893377,0.0011583228176506569,0.016872493274094347,0.006463423410333382,0.01943440217626747,0.03831738728245447,0.11437900478916098,-0.017997138799004473,-0.0021620718627165993,-0.009082310630201172,0.019237279463759305,-0.0035295890140168416,0.08459913712869038,-0.016174949484485994,-0.024911290372525756,0.012493525518439769,-0.0013266557426660586,-0.017088422774567097,0.016896280224466462,0.05157492534523615,-0.0021663710816767047,-0.0009709042730167462,0.03613988057048736,-0.0019242139574165698,-0.0022714338640205957,-0.002071867733316987,-0.016560225857279936,0.048753463320014914,-0.03368801776815333,-0.004983849719198675,0.01029809975847127,0.03538720705533678,0.03496813522015627,0.05194107912881815,0.05483590557214279,-0.03262023561557578,0.0040030032823206675,-0.036007855230063626,0.02235830249042661,0.015179786684468743,0.00531779887232371,-0.005338881270590106,0.005108353407387714,-0.042186015002154124,0.009299771038339972,-0.011951361883085217,0.004841287825584379,0.011284849101638444,0.006506908428635966,0.013838216696399994,0.020839861594830617,0.006341112642914332,0.01373576298045303,0.04266975411828844,0.0036998651635671083,-0.006723098677260392,-0.037122091230457066,-0.0022176678070927975,0.005887039001139832,0.00847932551091875,-0.04008580726197139,0.051574221220704035,-0.017987515281496558,0.007861495803551178,-0.0020555242309688686,0.02856169171993364,0.009388371967942614,-0.001017776622186485,0.006926588616776557,0.00625767328972792,-0.015134315310939388,-0.0024788654649077545,0.01118844565393932,-0.014633437559956242,0.006098316457372799,-0.005076206706260738,-0.026798517978331066,-0.021876247764117514,-0.046514204536085936,0.06289624828644613,-0.029388509072638905,-0.012206666945139864,-0.011297231916195862,0.002424018339917094,0.0021337905654999407,-0.05677707988720419,-0.010993351918762828,0.007224232056054087,7.571895883045692e-05,-0.02737996090276329,-0.0015652602541094496,-0.0101131869813851,0.09792744508590648,-0.015444795730791966,0.0007421539341660152,0.05923366629118892,-0.006603138921244928,0.04152094921691258,0.06849378746666301,-0.03226902994036412,-0.02586972186325091,-0.003636051048298952,0.04330879067108266,0.004863949205660343,0.009554716144049144,0.008828148974018356,-0.01980926310381138,0.03140055831333581,-0.0022742992974888743,0.04128656971694576,-0.026264508840513397,0.016393778676814602,-0.0072778070676669,7.787650558962102e-05,-0.02059612264706794,0.0950958981530789,0.005830532224491901,0.008283649383558479,-2.2291312801924754e-05,0.0456960558959829,0.0044827108949952715,0.04161202688312647,-0.015310316662116621,-0.007439707844206819,-0.03425188773551336,0.009535796503991388,-0.031340856881477364,-0.04085809144754452,-0.013048159511115763,-0.006340594020762046,0.03647013190903191,0.049117714221701525,0.007546155780258318,0.010228081525587799,-0.012140598020960895,0.0014171410170067478,0.01624408292141087,-0.02859788091443267,-0.0578233301153621,0.00016001288811522642,-0.020500235808914438,-0.014290701122072664,0.05152581059853097,-0.01256601623803715,0.011154993431087579,0.005730137292655803,-0.050243432375136524,-0.03322344321774677,0.0016974037446763207,0.030395486401658418,0.00387672568592237,0.006286602286239971,-0.04761102012144494,-0.0049576898266147085,0.00917246850048865,-0.0060455405453226545,0.0017251038605429127,0.0018584133006860828,-0.028386744140978075,0.03047466455121921,0.002656305983159375,0.08719128037471824,0.002131701675849258,0.10366537571793544,0.004264183520643225,0.026221779350211267,-0.03262810732332555,0.008153180197860913,0.010963197230548326,-0.05462784875070171,-0.010808295022472358,0.0067610541358259025,-0.020776485191277824,-0.014049646360991569,-0.003689127091895796,-0.011726098607462146,-0.0042017710565484595,-0.007264916013339116,-0.02548494339008597,0.008349683333637569,0.00027543549648553935,-0.005224570183563777,-0.0112197952059873,0.004765518620003129,-0.0028501521297664353,-0.008291939997728552,-0.01268283487807349,0.006248167542932772,-0.04652174020398365,-0.006634948032259981,-0.010445101712722095,-0.022367710276142344,-0.013099127386486943,0.00982176770210914,0.0035100089837760778,-0.04979698361997138,0.05197203454439472,0.0011915743217594831,0.09479130326777886,-0.02292981537032987,-0.0011074037539826275,0.04974091304008135,-0.005687741962305416,0.01318581794370138,-0.006032819848952069,-0.0057621945017928495,-0.008236357228129293,-0.00024439196508280626,0.011351820226644178,0.004996505663150478,0.01460139560566331,0.005728945838948408,0.003278702883142364,-0.049701310719020717,0.0023128889036066946,-0.008251559358448348,0.014708602993860414,0.007351020861130181,0.00047692646794197805,0.006295614462685774,-0.029474000292682836,-0.001338222432653529,0.02604130117640384,0.0055676417979749855,0.04778737097606892,0.0703696302582113,-0.032449411672308706,-0.022135447273737178,0.05160205949450034,-0.021049809258058244,0.047000831040859295,0.013616381400535026,-0.0014784180679182815,0.054329670976403864,-0.025544854116242428,0.004932972139830322,0.01701739646379218,0.010664127570120386,0.04538452532553102,0.020827638651045362,0.008696562596849406,-0.028210929405318677,-0.015602217704038652,-0.03018947718619549,-0.01813644865605704,0.009986653953448008,0.014646791462676204,0.08678531858931393,-0.030307771028990998,-0.01683286633644521,-0.01971385185956245,-0.01822380072551396,0.005735735467734325,0.013373145267946591,-0.007173851799949325,-0.033381609171839244,0.011367796142335837,-0.006248498475370173,0.058509851048304855,0.007877274082473212,0.004223905669905589,0.030163691491822346,0.002361424270265827,-0.010647135839525236,0.02535815571471207,-0.02978987590158865,0.0005504319770847622,-0.019619169561268943,-0.038133494014012614,-0.010948113582559161,-0.00038711277008452024,-0.020460038477218355,-0.0038752982282910364,-0.040271269883795896,0.002870729241901432,0.004115619377128052,0.002535495750798402,-0.004177543107388409,0.007335659490291685,0.003968059616131261,-0.01285029826907926,-0.02200641043590393,0.003059247540276787,0.0009925048339523212,-0.006411045170681985,0.04364139949492588,-0.01663800106824765,0.05228093316500079,0.007166132668522762,0.05838279816263146,-0.018606054480982456,-0.03157334147084142,-0.036021703374458265,-0.06592879245920977,-0.041124237076847765,0.03945510220006469,-0.009897048462260775,-0.026409320324398335,0.024127216220667085,-0.0034482489720734275,-0.010454307148303501,0.02075271025142008,0.01203213947015286,-0.025949492621008083,0.03388720015453133,-0.0397099023872563,-0.029222476446824498,-0.014598494973076453,0.0014607218077677805,0.07478198296304842,0.03409381190163153,0.007289049056493725,0.02056750360286946,-0.055022683032600196,-0.0010212794550818452,-0.007586472275162566,0.0010300342386878197,0.03454203908360511,0.00811480243749531,-0.027623148729744248,0.018563297299486664,-0.004003123355272745,-0.02083570881419538,-0.0010489686138165373,0.004284203592108709,0.02070345651135031,-0.013108677029301036,0.04320250075916709,-0.04395565307074467,-0.018287131388662812,-0.007490240270872671,0.08728155476912122,0.00699302132492069,0.01939980981739887,0.006714903276972538,-0.00632593771976505,0.052545897257700445,0.003435322587312389,0.001723465715464802,0.02090792524347207,-0.0031744205157027373,-0.019984870429620234,-0.004090188661494933,-0.003674761722618464,-0.02967959910126188,-0.017306448718458083,-0.004439018955637486,-0.005517666074505861,0.06734819295985323,-0.009325820795973664,-0.004947019861925211,0.0012381714125890286,-0.032302759886604145,0.020290232821669463,-0.01640995419631809,-0.036759053754657406,-0.00658131308646144,0.06790205733145943,-0.007752677564808999,0.008970889851788861,0.03385358505744865,-0.021314862615831126,0.009511751509972782,-0.014047515221272455,0.006749391565504451,-0.007399175850134637,0.0029599487382080034,-0.0554684132545061,-0.007409969933943429,0.03546031252061573,-0.01311427242551382,-0.007741850226655216,0.013666768508011727,-0.004483843239231793,0.004362776131959212,-0.016605536132223608,0.06806813153436199,0.008279523015153431,0.01621735306642787,-0.11170829410716043,0.048917227211131856,0.047080316316839364,0.09997108499334922,0.031525048487425475,-0.015415228465659158,-0.005753603186881497,-0.010128356661559163,0.009360378562657643,-0.010979698378143578,-0.00201163726908946,0.03443818992268717,0.0039436338123256115,-0.023150364087988755,-0.014635534243778262,-0.01312866259617814,0.07278438041082853,0.014993996563453106,-0.008667275956821489,0.028840359358937424,0.04180621754940672,0.021531985305331392,-0.03484251835949359,0.00041393741794338185,0.005793922519979636,0.0018774236918738822,0.011913840223948678,0.0019861245256422837,0.0031792520889010445,0.007302139629461139,0.0324341768662368,-0.10364792989923727,-0.02543367250218583,0.00831406529572822,0.023616111034975393,-0.02833127548089352,-0.05552448233592505,-0.0338199505798801,-0.00983431307326073,0.03655531571972844,-0.0022467058436584633,-0.038350548483587266,-0.00615882850726313,-0.005941137429106607,-0.0043765686537870175,0.07142929967330625,-0.04946398352223869,0.009019306171997034,0.036548998981971614,0.030159645861626578,-0.01565029108781425,0.0041038632541916045,0.0012492829819043005,-0.007905289052222233,-0.01460480926419741,-0.025145783511471776,0.005760994182221911,0.0008193760538593858,0.0513186838153833,0.08707330525806758,0.021301057004321798,-0.02054774632960165,0.0010835648261190078,-0.022346990270249747,-0.008624272619908857,-0.012775168159263347,-0.011094449091774384,-0.0052498441752606515,0.045517781010616556,-0.002680189436210696,-0.0324670485559507,-0.026664982894043652,0.0033237257306064296,-0.03330513393209957,0.006144478261220103,0.014177107883824988,0.0012036374924310085,0.0070307054347747,-0.001571284626328952,0.007254331797488642,0.049487164756516384,0.09247914467892632,0.004928694503079248,0.03584979674934824,-0.02367838329161315,0.0003658026229439762,0.007485052111967058,0.018628745018014353,-0.003976103204955967,-0.04014791067540674,0.0033538224112556435,0.019144097700367846,-0.007167663944138624,-0.07458137536424114,0.013820869031246349,-0.003630973438906708,0.014345202298421122,-0.012143174218870852,-0.031281444166024616,0.038029193359943904,-0.000498264522604284,-0.012374440670332615,0.002712440348139977,0.01708895099408474,0.011993590555001361,0.011116832755088945,0.0007363360500160313,0.06687263405844235,-0.012686009492395903,0.0015136582443866385,0.06512758805117211,-0.00878184872999548,0.018356146583808117,-0.011005414703568195,0.009882837358609528,0.00709232784120166,-0.007481582171696837,0.014885174787078945,0.01338115374804582,0.0055847644953662895,-0.0022131227408461983,-0.020607017557438705,-0.007938652422350057,-0.0010470603905999981,-0.06001274000931552,0.01926550473538098,-0.022751888688240126,0.021222847470422287,0.024277042796041468,0.0005907551369676405,-0.010338159808464623,-0.0066035256240833985,-0.016698576638112635,0.0019215575221545587,-0.013610556790720246,-0.031028327093378077,-0.04662727730411559,0.011816922790167658,0.0025224449525277975,-0.0077825636778974085,-0.02147228453217448,-0.0035268163468656056,0.01512698636281417,0.029367687129022907,0.02859692751150418,0.04351599558342622,0.012949708366543196,0.0025839446998210005,0.06646454538923764,0.005000674330901716,0.011366429022492856,-0.006459588724704909,0.008676349575053784,0.06181884856426667,-0.028447047660934692,0.0665191417381738,0.009540667779488192,0.049794736439815676,-0.015050386496813034,0.02417228376718105,-0.001227168506280979,0.013360292038727692,0.0739026340581603,0.0006624937145418717,-0.014645512970687285,0.05262319547874019,0.031428367687237044,0.0110876214326623,0.004516487554035682,0.006814714279863572,-0.06163904863084475,0.00894779540353637,0.01867343443402936,-0.027840997592483194,0.005518094261959437,-0.004618074536911941,0.009541719159525761,0.049728963482733424,0.002752354833723408,-0.0030548772564276093,-0.012263014008641323,0.004974488297372523,-0.04568422839710077,0.010783050551969627,0.0040499132819989195,-0.011816725267718785,-0.03409643370722976,0.0678757742918346,0.010900355415170163,0.006811223028145338,-0.015609641514492885,0.01843328628359622,-0.01214642996754748,0.03543092951587653,0.001940302750541947,-0.011261810723958736,0.021655243102532463,-0.01994551797846779,0.008305104536238577,0.07637151876967216,-0.017650082375828165,0.10538869000692172,-0.01716505307368684,0.06761966385235131,-0.039458109587684816,-0.006397140903052834,0.00957749916579062,0.01189619844067932,0.04558833153207662,-0.030475363749994207,-0.00525967876565453,0.004874551357146478,-0.0035953910038292016,-0.0025941645077437753,0.018530649382382337,0.024253934949166306,0.016149140925680417,-0.009991616019862351,0.006383912329365457,0.007641853135615626,-0.020438993051204425,-0.0006952031384261172,-0.007634564745137116,-0.018201949090391283,-0.017112926070871837,-0.02368621474279763,-0.039548956676209744,0.02222253554587814,-0.015689500130226994,-0.012399404692730251,0.011664937739020243,0.003898974877470366,0.022969002965573315,-0.020690104211749355,-0.007055217092349907,-0.0006420547870321352,-0.0016582186738972559,-0.024927690171947244,0.022947316379720042,0.01299582967522491,0.011849110124299986,0.016639953336105115,0.0018724538462704565,-0.012448043382784183,-0.009776993561910037,-0.00012997401249188655,-0.002408421983616481,0.034486223225628596,-0.002152103234019182,-0.008325630664155812,0.03083185219576638,0.006699269712563853,0.015830621829483884,0.034374411669380676,-0.017089549074610147,0.03951282825890102,0.10336083556376015,0.00612958569225464,0.009303463586798585,-0.03095326709341001,0.005831734415124939,0.051504366067623195,-0.011192275642749145,-0.05367605495224617,0.004140386447503418,-0.009718885431017149,-0.01419527331161715,0.021407827257243925,0.06888580062433168,-0.01919895224366363,-0.011654127538974173,0.13528003155982132,0.0007032080645826273,-0.031249093185784196,0.006160194572258055,-0.023096322284205162,-0.0524919635303006,-0.003239834012088806,-0.00521509710831134,0.028903383855741205,-0.03689135870148409,-0.0162454550503259,-0.007841532200130064,-0.032034493583679415,0.001593333995907544,0.0048735826712545584,-0.01919094158997142,-0.015813659946067156,0.001020073298116362,0.039183680613464576,0.07965220512598155,0.02521917538144569,-0.05331100067934002,0.026137938079906796,-9.40053933559085e-05,-0.023726431073356504,-0.037260597334386254,-0.0050276588111032115,0.0728905363081982,-0.024768000130825255,-0.03907866197474208,-0.038644883829661865,0.009271035784570341,0.006427042786425654,-0.012053908931995299,0.006648378998747448,9.315005418117596e-05,0.0009722530731532426,-0.011592734194521342,0.003085670830750379,0.007581107466578884,0.018624896038273914,-0.009364860833001393,-0.03152364375695009,0.008340423472789021,-0.0032567053058834136,-0.012920620209904051,0.003795601377293227,0.008959260475148723,0.006688670036178583,-0.026411546712434883,-0.01931562159961331,-0.033778392902433466,-0.03557434239191226,-0.004811547703431956,-0.027670992769036895,0.026583594130041677,0.0033434684223616613,0.010124955714431194,0.0014821738000905457,0.043301778514093774,-0.03585753326962977,-0.025085779808138153,0.009422202042014506,-0.022242803321235474,-0.0006682293497189563,0.011122678968809288,0.02180004966644843,0.0019197404472569802,0.0043811321020138004,0.007998583671781788,0.024898997588351277,-0.018750087505836812,-0.006739022177234235,0.022186267767694275,-0.019970440960105917,-0.06008277517396781,0.0029618624547584037,0.00028458427821335995,0.006161465603561998,-0.0009192923064453734,-0.019082823380628743,0.03765847129615712,-0.019320324046118845,-0.061561425140122805,0.0053342771035653274,-0.0038054834144583593,0.08440209670323198,0.005693638155149066,-0.06685530296949349,0.07690610069539507,-0.07574030068090849,-0.024160803997261615,0.020096240640855433,-0.035625249812341615,0.010930237550182981,0.01262914392604477,-0.0707037565499172,-0.03797955444204689,-0.04943581236426647,-0.017325149606287175,-0.009415891637993024,-0.0013945791368713471,-0.0630243554418776,0.027154247549388777,0.018298907003892938,-0.004286523573392421,0.00629023269053044,0.006043389122300656,-0.00338240902907347,-0.0038512182857545706,-0.00977329776010961,0.0053658680029431746,-0.013249586883472792,-0.01661225407561005,0.02838010230951426,0.0002973352903545396,0.0190664908946138,0.03793973451332314,0.01327989686392459,-0.0054826419641671046,-0.06848720108464723,0.0020711208394281117,0.04425763575123765,-0.011503402242270698,-0.005512313350486818,0.00977183887740005,0.009359340490415096,-0.008758330423417749,0.04174989924226594,0.014871061899621936,-0.002769988134066822,0.008019250614681705,0.021734379041704735,0.015629593327860625,-0.008042552857015703,-0.003463570922687703,-0.04640407532956711,-0.00786998461045865,-0.0038923837326360847,-0.0032273729648331856,-0.03138914366978914,-0.014894228291065414,-0.021786637607383124,0.009596077440960462,-0.010635451709906324,0.06597100932465248,-0.004846634498095677,-0.009331194995158198,-0.0008855908959847889,0.0980298618593872,-0.005306911965223962,0.007802104720379934,-0.0035291719139430113,-0.012260758288874284,-0.0001258079440188754,-0.010723719947496902,-0.019373052524241142,0.03035213458464986,0.002643691051595724,-0.018326562437413926,-0.000974702606749123,-0.03276000769331213,0.030609431077321104,-0.0076552877964280695,0.0017702533311236973,0.0006273488683312945,0.0005336518874105953,0.0258960612206882,-0.009510326004239409,-0.012528159493509623,-0.0035454259710279287,-0.004209949223736621,0.011138243049551905,-0.0057844487575255815,-9.024838282606124e-05,0.01528912005048945,-0.011482137155794898,-0.008953227715148176,-0.04532635151959868,-0.05821711700976211,-0.013126106910242217,0.0399947909825828,0.1132194309924915,-0.011613062869277139,0.02381341505467549,-0.009075358728416551,0.019363801602431504,0.001250324020414344,-0.016215512982551927,-0.005496667243042596,-0.006276339301736211,-0.000966008072535312,0.005906720110066536,-0.019236348199032458,0.039218211994050366,0.029516115800911864,0.06838483820114248,0.03142415813315047,0.014816218538934906,0.003853213304429771,-0.003574815743273786,0.036482513594251025,-0.04188409473449252,0.06529033137230689,-0.03682772256568383,0.013544383081522787,-0.011112691118026895,-0.0010662576765267408,0.024217299265276736,-0.00974730019963951,0.026483230449668237,0.03196906551771334,-0.009637517621231585,-0.0008060107421077644,-0.0033786844566559625,-0.012147275690494026,0.01735688985481928,9.735923289845226e-05,0.01382042811173621,-0.009711482699161236,0.060136504036383556,-0.014889268077103167,0.020579629734638966,0.0020365529161976816,0.000841175242312852,-0.0026579849823863354,-0.0012905501512146726,0.0031639573376916284,0.020822792691947034,0.05262664945294378,-0.0060967376391845365,0.0012392946231956387,-0.007190674251122933,-0.056800900236608824,0.012054111176790085,-0.009661493138750539,-0.022857755281731947,-0.07889191622070317,-0.028977360090463488,0.0015837993956757442,0.009832236047952575,0.024428116266949587,0.0250372896214311,0.0388383980214966,0.029292278178014438,-0.021299125969543854,0.019615003443736786,0.004707587482226626,-0.044635890917000105,0.004351721343842031,-0.011525898905703406,0.054997226929738297,-0.027896581011894767,-0.0025143403369740206,0.004756056225012333,0.023223130602626863,-0.034663537413461024,0.016236888757806243,0.005675805895126719,0.07596538367014083,0.010760907522103198,0.005398281087739366,-0.0575925446078677,-0.019967214874864515,-0.005845878584190331,0.015526664351056828,-0.005437746840313426,-0.0033448921874083726,0.023586796158765282,0.00376736599823159,0.007009863455297547,-0.012127059857335734,-0.0004858691591634041,0.005706102983093569,0.02478041637173635,-0.029048671881732994,-0.0015911028861388889,0.01629226323741372,0.00035094994509723244,0.02618128577373801,0.005350962373040687,0.008774999505585766,0.06515037905030123,-0.01901244931733065,-0.03182623218588992,-0.015402365540551419,0.019098942599541525,0.05865241896502191,0.013914434558770407,0.007710058947199642,-0.00396733823286681,0.035396191192584345,0.03413855715785434,0.11564199334214897,-0.001283797293463438,0.008776899632547266,0.009935698247212743,0.00042483443457971777,-0.000910424967409113,0.0004060228358372227,0.06992522106788646,-0.04037752964633395,-0.0111825676785329,0.015058436752855184,0.011976591862461276,-0.004325250233159183,0.02106845076195977,0.020982023925790468,-0.009169338966431961,0.11729872032239835,0.06770053441533536,-0.01138211172930985,-0.053018345667153945,0.035831808804061525,0.011601542151910197,-0.03320119394370756,-0.04028042787481229,0.006856224434666419,-0.010162148377060386,-0.011186213009729187,-0.002990195709315768,-0.002832093156671948,-0.006042688481659956,-0.00857323154760143,-0.044369988201854005,0.012123076206416696,0.023981013958848666,-0.009357692056741623,0.008236681527044615,0.053543302531250725,-0.025388264594843498,-0.0007569904937849382,-0.002624734707576717,0.025437219047056387,-0.008883303960095528,0.008886803010924996,0.008698996643973706,0.014003265612634859,-0.01767758017018858,-0.008040349534942138,0.05610536432972923,-0.0019505379170703945,0.004442525262011879,0.018170620306081117,-0.06287867105873589,0.025545542347896633,0.008288272606240297,-0.11553396436947903,-0.01748564683983053,-0.025464267345543332,-0.012887001666616129,-0.0036497394813044194,0.06091970632334086]}},\"id\":\"293abf45-5670-4839-b3e7-d9386ae8d6ac\",\"type\":\"ColumnDataSource\"},{\"attributes\":{\"plot\":{\"id\":\"3d67dbde-1fe7-420e-a898-bb5606d839fc\",\"subtype\":\"Figure\",\"type\":\"Plot\"},\"ticker\":{\"id\":\"6bf1e647-b50d-47e2-a746-4a79d1468d8b\",\"type\":\"BasicTicker\"}},\"id\":\"7f9b2b2d-80ac-491c-a505-e867197dbe17\",\"type\":\"Grid\"},{\"attributes\":{\"fill_alpha\":{\"value\":0.1},\"fill_color\":{\"value\":\"#1f77b4\"},\"line_alpha\":{\"value\":0.1},\"line_color\":{\"value\":\"#1f77b4\"},\"size\":{\"units\":\"screen\",\"value\":20},\"x\":{\"field\":\"x\"},\"y\":{\"field\":\"y\"}},\"id\":\"9dd9bebd-5b87-44cf-b35f-aa21cf2e8661\",\"type\":\"Circle\"},{\"attributes\":{},\"id\":\"4f4a40dd-aa72-4cba-9e2c-21b2cd1f81e4\",\"type\":\"ToolEvents\"},{\"attributes\":{},\"id\":\"6bf1e647-b50d-47e2-a746-4a79d1468d8b\",\"type\":\"BasicTicker\"},{\"attributes\":{},\"id\":\"ed0a969e-736d-4d2b-b42d-d7680c1d3b50\",\"type\":\"BasicTickFormatter\"},{\"attributes\":{\"callback\":null},\"id\":\"a504f3f6-e2d9-4310-be77-20ddc8ff8e30\",\"type\":\"DataRange1d\"},{\"attributes\":{\"plot\":{\"id\":\"3d67dbde-1fe7-420e-a898-bb5606d839fc\",\"subtype\":\"Figure\",\"type\":\"Plot\"}},\"id\":\"eede09c0-0445-40ed-aa9b-ea2dcb0f0c2e\",\"type\":\"PanTool\"}],\"root_ids\":[\"3d67dbde-1fe7-420e-a898-bb5606d839fc\"]},\"title\":\"Bokeh Application\",\"version\":\"0.12.2\"}};\n",
       "            var render_items = [{\"docid\":\"2700086f-2ff3-47e8-ba7b-71cb4152cb3f\",\"elementid\":\"8db6671a-fb3b-4a69-b96c-9cef15fdf000\",\"modelid\":\"3d67dbde-1fe7-420e-a898-bb5606d839fc\",\"notebook_comms_target\":\"bd6b572b-6895-4b10-b36b-0ffc82c71ed1\"}];\n",
       "            \n",
       "            Bokeh.embed.embed_items(docs_json, render_items);\n",
       "        });\n",
       "      },\n",
       "      function(Bokeh) {\n",
       "      }\n",
       "    ];\n",
       "  \n",
       "    function run_inline_js() {\n",
       "      \n",
       "      if ((window.Bokeh !== undefined) || (force === \"1\")) {\n",
       "        for (var i = 0; i < inline_js.length; i++) {\n",
       "          inline_js[i](window.Bokeh);\n",
       "        }if (force === \"1\") {\n",
       "          display_loaded();\n",
       "        }} else if (Date.now() < window._bokeh_timeout) {\n",
       "        setTimeout(run_inline_js, 100);\n",
       "      } else if (!window._bokeh_failed_load) {\n",
       "        console.log(\"Bokeh: BokehJS failed to load within specified timeout.\");\n",
       "        window._bokeh_failed_load = true;\n",
       "      } else if (!force) {\n",
       "        var cell = $(\"#8db6671a-fb3b-4a69-b96c-9cef15fdf000\").parents('.cell').data().cell;\n",
       "        cell.output_area.append_execute_result(NB_LOAD_WARNING)\n",
       "      }\n",
       "  \n",
       "    }\n",
       "  \n",
       "    if (window._bokeh_is_loading === 0) {\n",
       "      console.log(\"Bokeh: BokehJS loaded, going straight to plotting\");\n",
       "      run_inline_js();\n",
       "    } else {\n",
       "      load_libs(js_urls, function() {\n",
       "        console.log(\"Bokeh: BokehJS plotting callback run at\", now());\n",
       "        run_inline_js();\n",
       "      });\n",
       "    }\n",
       "  }(this));\n",
       "</script>"
      ]
     },
     "metadata": {},
     "output_type": "display_data"
    },
    {
     "data": {
      "text/html": [
       "<p><code>&lt;Bokeh Notebook handle for <strong>In[22]</strong>&gt;</code></p>"
      ],
      "text/plain": [
       "<bokeh.io._CommsHandle at 0x7fbf830a7da0>"
      ]
     },
     "execution_count": 70,
     "metadata": {},
     "output_type": "execute_result"
    }
   ],
   "source": [
    "# Categorial colors\n",
    "from bokeh.palettes import Dark2_8\n",
    "\n",
    "source = ColumnDataSource(\n",
    "    data={\n",
    "        \"x\": [x[0] for x in coords], #Need to check different pairs of coordinates(between the 5)\n",
    "        \"y\": [x[1] for x in coords], \n",
    "        \"name\": [x for x in tags],\n",
    "        \"color\": [Dark2_8[x] for x in kmeans3.labels_]\n",
    "    })\n",
    "\n",
    "hover = HoverTool(\n",
    "    tooltips=[\n",
    "        (\"Tag\", \"@name\"),\n",
    "    ])\n",
    "tools = [hover, ResetTool(), PanTool(), WheelZoomTool(), SaveTool()]\n",
    "\n",
    "p = figure(plot_width=960, plot_height=360, tools=tools, title=\"Mouse over the dots\")\n",
    "p.circle(\"x\", \"y\", source=source, size=20, color=\"color\", alpha=0.5)\n",
    "show(p, notebook_handle=True)"
   ]
  },
  {
   "cell_type": "markdown",
   "metadata": {},
   "source": [
    "We can see that the data cluster well with 3 clusters on the dimensions of the highest eigen vectors (the first and second coordinates in the 5 dimension array)"
   ]
  },
  {
   "cell_type": "markdown",
   "metadata": {},
   "source": [
    "## Clustering Movies"
   ]
  },
  {
   "cell_type": "markdown",
   "metadata": {},
   "source": [
    "Overview of the content of the movies.txt file :"
   ]
  },
  {
   "cell_type": "code",
   "execution_count": 7,
   "metadata": {
    "collapsed": false
   },
   "outputs": [
    {
     "name": "stdout",
     "output_type": "stream",
     "text": [
      "{\"genres\": [\"(no genres listed)\"], \"movieId\": 131260, \"title\": \"Rentun Ruusu (2001)\"}\r\n",
      "{\"genres\": [\"Adventure\", \"Fantasy\", \"Horror\"], \"movieId\": 131262, \"title\": \"Innocence (2014)\"}\r\n"
     ]
    }
   ],
   "source": [
    "!hdfs dfs -cat /ix/ml-20m/movies.txt | tail -n 2"
   ]
  },
  {
   "cell_type": "code",
   "execution_count": 8,
   "metadata": {
    "collapsed": true
   },
   "outputs": [],
   "source": [
    "from operator import itemgetter"
   ]
  },
  {
   "cell_type": "markdown",
   "metadata": {},
   "source": [
    "We create a dict with the data from the file to match a movieId (an integer) with its set of genres associated (a set of strings)"
   ]
  },
  {
   "cell_type": "code",
   "execution_count": 9,
   "metadata": {
    "collapsed": false
   },
   "outputs": [],
   "source": [
    "data = sc.textFile(\"/ix/ml-20m/movies.txt\").map(json.loads)\n",
    "movieIdToGenre = dict(data.map(itemgetter(\"movieId\", \"genres\")).collect())"
   ]
  },
  {
   "cell_type": "markdown",
   "metadata": {},
   "source": [
    "Exemple of use of our dict :"
   ]
  },
  {
   "cell_type": "code",
   "execution_count": 10,
   "metadata": {
    "collapsed": false
   },
   "outputs": [
    {
     "data": {
      "text/plain": [
       "['Adventure', 'Fantasy', 'Horror']"
      ]
     },
     "execution_count": 10,
     "metadata": {},
     "output_type": "execute_result"
    }
   ],
   "source": [
    "movieIdToGenre[131262]"
   ]
  },
  {
   "cell_type": "code",
   "execution_count": 11,
   "metadata": {
    "collapsed": true
   },
   "outputs": [],
   "source": [
    "import random"
   ]
  },
  {
   "cell_type": "markdown",
   "metadata": {},
   "source": [
    "We implement the Jaccard distance function to evaluate the non-Euclidean distance between sets, it will be use to compute the \"distance\" between sets of genres"
   ]
  },
  {
   "cell_type": "code",
   "execution_count": 12,
   "metadata": {
    "collapsed": true
   },
   "outputs": [],
   "source": [
    "def JaccardDist(A,B):\n",
    "    #We treat the special case of both null sets to avoid any division by 0\n",
    "    if len(A) == 0 and len(B) == 0:\n",
    "        return 1\n",
    "    else:\n",
    "        return 1- len(A.intersection(B))/len(A.union(B))"
   ]
  },
  {
   "cell_type": "markdown",
   "metadata": {},
   "source": [
    "Exemple of use :"
   ]
  },
  {
   "cell_type": "code",
   "execution_count": 13,
   "metadata": {
    "collapsed": false
   },
   "outputs": [
    {
     "data": {
      "text/plain": [
       "0.5"
      ]
     },
     "execution_count": 13,
     "metadata": {},
     "output_type": "execute_result"
    }
   ],
   "source": [
    "JaccardDist(set({1,3,5,6}), set({1,6}))"
   ]
  },
  {
   "cell_type": "code",
   "execution_count": 122,
   "metadata": {
    "collapsed": false
   },
   "outputs": [],
   "source": [
    "#This function uses a distance function, an array and an instance (set of genres in our case)\n",
    "#Return : Array of the distance between every point of input array and instance\n",
    "#with respect to the given distance function\n",
    "def distOnArray(dist, tab, x):\n",
    "    res = np.zeros(len(tab))\n",
    "    for y in range(len(tab)):\n",
    "        res[y] = dist(tab[y], x)\n",
    "    return res\n",
    "\n",
    "#This function uses a distance function, an instance (set of genres in our case) and a list of instances\n",
    "#Return : the sum of the distances between every element of the list with the instance\n",
    "#with respect to the given distance function\n",
    "def sumOnC(dist, x, C):\n",
    "    sum = 0\n",
    "    for y in C:\n",
    "        sum += dist(x,y)\n",
    "    return sum\n",
    "\n",
    "#This function uses a distance function and a list of instances (set of genres in our case)\n",
    "#Return : the instance in the list that minimizes the sum of distances on all instances of\n",
    "#the list. \n",
    "def bs(dist, C):\n",
    "    x_res = set([])\n",
    "    sum_x = 100000\n",
    "    for x in C:\n",
    "        curr_sum = sumOnC(dist, x, C)\n",
    "        if(curr_sum < sum_x):\n",
    "            sum_x = curr_sum\n",
    "            x_res = x\n",
    "    return x_res\n",
    "\n",
    "#We create outside of the kMediods function the data structure to receive the 2 clusters\n",
    "#in order to reuse them to plot the frequencies\n",
    "#This data structure is an array of 2 lists of sets of genres\n",
    "#Explanation : as we do an argmin action, we need to access the lists by an index, which\n",
    "#gives us the array. Then we don't know in advance how many items will be in each cluster,\n",
    "#which implies the use of lists, in order to add dynamically items. Finally the items are\n",
    "#the set of genres associated with a movie.\n",
    "\"\"\"C = [None]*2\n",
    "liste0 = []\n",
    "liste1 = []\n",
    "C[0] = liste0\n",
    "C[1] = liste1\n",
    "\n",
    "def kMedioids(X, dist, k):\n",
    "    m = random.sample(X, k) #m is an array of k sets of genres which reprensents the \"centers\"\n",
    "    index = -1;\n",
    "    m_prev = np.array([set([]), set([])]) #previous result of the \"centers\" to check convergence\n",
    "    while(dist(m[0], m_prev[0]) > 0.0000001 and dist(m[1], m_prev[1]) > 0.0000001):\n",
    "        m_prev = m.copy()\n",
    "        for j in range(k):\n",
    "            C[j] = []\n",
    "        for x in X:\n",
    "            #Find the index of cluster where x belongs for every element\n",
    "            index = np.argmin(distOnArray(dist, m, x))\n",
    "            #Append x to the correct cluster\n",
    "            C[index].append(x);\n",
    "        for j in range(k):\n",
    "            #Once redistributed all the items, we recompute the best \"center\" for each cluster\n",
    "            m[j] = bs(dist, C[j])\n",
    "    #We return the final \"centers\" of each cluster as an array of items\n",
    "    return m\"\"\"\n",
    "            "
   ]
  },
  {
   "cell_type": "code",
   "execution_count": null,
   "metadata": {
    "collapsed": true
   },
   "outputs": [],
   "source": [
    "def checkConvergence(m, m_prev, k, threshold):\n",
    "    res = True\n",
    "    for i in range(k):\n",
    "        res = res and dist(m[i], m_prev[i]) > threshold\n",
    "    return res"
   ]
  },
  {
   "cell_type": "code",
   "execution_count": null,
   "metadata": {
    "collapsed": true
   },
   "outputs": [],
   "source": [
    "def kMedioids(X, dist, k):\n",
    "    C = [None]*k\n",
    "    for i in range(k):\n",
    "        listei = []\n",
    "        C[i] = listei\n",
    "    m = random.sample(X, k) #m is an array of k sets of genres which reprensents the \"centers\"\n",
    "    index = -1;\n",
    "    m_prev = np.array([set([]), set([])]) #previous result of the \"centers\" to check convergence\n",
    "    while(checkConvergence(m, m_prev, k, 0.0000001)):\n",
    "        m_prev = m.copy()\n",
    "        for j in range(k):\n",
    "            C[j] = []\n",
    "        for x in X:\n",
    "            #Find the index of cluster where x belongs for every element\n",
    "            index = np.argmin(distOnArray(dist, m, x))\n",
    "            #Append x to the correct cluster\n",
    "            C[index].append(x);\n",
    "        for j in range(k):\n",
    "            #Once redistributed all the items, we recompute the best \"center\" for each cluster\n",
    "            m[j] = bs(dist, C[j])\n",
    "    #We return the final \"centers\" of each cluster as an array of items\n",
    "    return (C, m)"
   ]
  },
  {
   "cell_type": "markdown",
   "metadata": {},
   "source": [
    "In the most rated file we only have access to movieId and title of the movie"
   ]
  },
  {
   "cell_type": "code",
   "execution_count": 15,
   "metadata": {
    "collapsed": false
   },
   "outputs": [
    {
     "data": {
      "text/plain": [
       "1000"
      ]
     },
     "execution_count": 15,
     "metadata": {},
     "output_type": "execute_result"
    }
   ],
   "source": [
    "with open(\"most-rated.pickle\", \"rb\") as f:\n",
    "    movies = pickle.load(f, encoding=\"utf-8\")\n",
    "len(movies)"
   ]
  },
  {
   "cell_type": "markdown",
   "metadata": {},
   "source": [
    "So we create a list of the sets of genres associated to each movieId in most-rated.pickle thanks to our previous dictionary"
   ]
  },
  {
   "cell_type": "code",
   "execution_count": 19,
   "metadata": {
    "collapsed": false
   },
   "outputs": [],
   "source": [
    "ratedMovies = list()\n",
    "for (id, name) in movies:\n",
    "    ratedMovies.append(set(movieIdToGenre[id])) "
   ]
  },
  {
   "cell_type": "code",
   "execution_count": 20,
   "metadata": {
    "collapsed": false
   },
   "outputs": [
    {
     "data": {
      "text/plain": [
       "1000"
      ]
     },
     "execution_count": 20,
     "metadata": {},
     "output_type": "execute_result"
    }
   ],
   "source": [
    "len(ratedMovies)"
   ]
  },
  {
   "cell_type": "markdown",
   "metadata": {},
   "source": [
    "We run the kMedioids and print the centers of the 2 clusters"
   ]
  },
  {
   "cell_type": "code",
   "execution_count": 123,
   "metadata": {
    "collapsed": false
   },
   "outputs": [
    {
     "name": "stdout",
     "output_type": "stream",
     "text": [
      "[{'Drama', 'Crime'}, {'Drama', 'Children', 'Fantasy'}]\n"
     ]
    },
    {
     "data": {
      "text/plain": [
       "[{'Comedy', 'Drama'},\n",
       " {'Action', 'Adventure', 'Children', 'Comedy', 'Fantasy', 'Sci-Fi'}]"
      ]
     },
     "execution_count": 123,
     "metadata": {},
     "output_type": "execute_result"
    }
   ],
   "source": [
    "C, representatives = kMedioids(ratedMovies, JaccardDist, 2) \n",
    "representatives"
   ]
  },
  {
   "cell_type": "markdown",
   "metadata": {},
   "source": [
    "We create a function that given a cluster (as a list of sets) will return the list of keys and the list of associated frequencies"
   ]
  },
  {
   "cell_type": "code",
   "execution_count": 152,
   "metadata": {
    "collapsed": false
   },
   "outputs": [],
   "source": [
    "def clusterToGenreFreq(C):\n",
    "    #Create a dict which will receive the genre as key and count the number of appearences in C\n",
    "    genreToFreq = {}\n",
    "    nbGenres = 0\n",
    "    for x in C:\n",
    "        for g in x:\n",
    "            try:\n",
    "                #Add 1 to value if key already exist\n",
    "                genreToFreq[g] += 1\n",
    "            except KeyError:\n",
    "                #If key doesn't exist, create and initialize value at 1\n",
    "                genreToFreq[g] = 1\n",
    "            nbGenres +=1\n",
    "    values = [] #Create list to store values in same order as traversing keys\n",
    "    keys = [] #also needed to preserve order\n",
    "    for key in clusterOneFreq.keys():\n",
    "        keys.append(key)\n",
    "        #When adding the value divide by the total number of genres in C to get percentages\n",
    "        values.append(clusterOneFreq[key]/nbGenres)\n",
    "    return (keys, values)"
   ]
  },
  {
   "cell_type": "code",
   "execution_count": 153,
   "metadata": {
    "collapsed": false
   },
   "outputs": [],
   "source": [
    "keysOne, valuesOne = clusterToGenreFreq(C[0])\n",
    "keysTwo, valuesTwo = clusterToGenreFreq(C[1])"
   ]
  },
  {
   "cell_type": "markdown",
   "metadata": {},
   "source": [
    "We display the frequencies as a bar chart, with as x-axis values the name of the tag and y-axis values the frequencie. We do this for both clusters"
   ]
  },
  {
   "cell_type": "code",
   "execution_count": null,
   "metadata": {
    "collapsed": true
   },
   "outputs": [],
   "source": [
    "def showBarChart(keys, values):\n",
    "    ind = np.arange(len(keys))\n",
    "    plt.bar(ind, values)\n",
    "    plt.xticks(ind, keys,rotation = 90)\n",
    "    plt.yticks(np.arange(0, 1, 0.1))\n",
    "    plt.show()"
   ]
  },
  {
   "cell_type": "code",
   "execution_count": null,
   "metadata": {
    "collapsed": true
   },
   "outputs": [],
   "source": [
    "showBarChart(keysOne, valuesOne)\n",
    "showBarChart(keysTwo, valuesTwo)"
   ]
  },
  {
   "cell_type": "code",
   "execution_count": 159,
   "metadata": {
    "collapsed": false
   },
   "outputs": [
    {
     "data": {
      "image/png": "[encoded data removed]",
      "text/plain": [
       "<matplotlib.figure.Figure at 0x7fbf8131a9b0>"
      ]
     },
     "metadata": {},
     "output_type": "display_data"
    },
    {
     "data": {
      "image/png": "[encoded data removed]",
      "text/plain": [
       "<matplotlib.figure.Figure at 0x7fbf8302d160>"
      ]
     },
     "metadata": {},
     "output_type": "display_data"
    }
   ],
   "source": [
    "\"\"\"indOne = np.arange(len(keysOne))\n",
    "plt.bar(indOne, valuesOne)\n",
    "plt.xticks(indOne, keysOne,rotation = 90)\n",
    "plt.yticks(np.arange(0, 1, 0.1))\n",
    "plt.show()\n",
    "\n",
    "indTwo = np.arange(len(keysTwo))\n",
    "plt.bar(indTwo, valuesTwo)\n",
    "plt.xticks(indTwo, keysTwo, rotation = 90)\n",
    "plt.yticks(np.arange(0, 1, 0.1))\n",
    "plt.show()\"\"\""
   ]
  }
 ],
 "metadata": {
  "anaconda-cloud": {},
  "kernelspec": {
   "display_name": "Python [Root]",
   "language": "python",
   "name": "Python [Root]"
  },
  "language_info": {
   "codemirror_mode": {
    "name": "ipython",
    "version": 3
   },
   "file_extension": ".py",
   "mimetype": "text/x-python",
   "name": "python",
   "nbconvert_exporter": "python",
   "pygments_lexer": "ipython3",
   "version": "3.5.2"
  }
 },
 "nbformat": 4,
 "nbformat_minor": 1
}
