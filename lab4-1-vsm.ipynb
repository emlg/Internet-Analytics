{
 "cells": [
  {
   "cell_type": "markdown",
   "metadata": {},
   "source": [
    "# Text 1: Vector space models\n",
    "**Internet Analytics - Lab 4**\n",
    "\n",
    "---\n",
    "\n",
    "**Group:** *D*\n",
    "\n",
    "**Names:**\n",
    "\n",
    "* *Marc Bickel*\n",
    "* *Cyril Cadoux*\n",
    "* *Emma Lejal*\n",
    "\n",
    "---\n",
    "\n",
    "#### Instructions\n",
    "\n",
    "*This is a template for part 1 of the lab. Clearly write your answers, comments and interpretations in Markodown cells. Don't forget that you can add $\\LaTeX$ equations in these cells. Feel free to add or remove any cell.*\n",
    "\n",
    "*Please properly comment your code. Code readability will be considered for grading. To avoid long cells of codes in the notebook, you can also embed long python functions and classes in a separate module. Don’t forget to hand in your module if that is the case. In multiple exercises, you are required to come up with your own method to solve various problems. Be creative and clearly motivate and explain your methods. Creativity and clarity will be considered for grading.*"
   ]
  },
  {
   "cell_type": "code",
   "execution_count": 107,
   "metadata": {
    "collapsed": false
   },
   "outputs": [],
   "source": [
    "import pickle\n",
    "import numpy as np\n",
    "from scipy.sparse import csr_matrix\n",
    "from utils import load_json, load_pkl\n",
    "\n",
    "\n",
    "stopwords = load_pkl('data/stopwords.pkl')"
   ]
  },
  {
   "cell_type": "markdown",
   "metadata": {},
   "source": [
    "## Exercise 4.1: Pre-processing"
   ]
  },
  {
   "cell_type": "code",
   "execution_count": 108,
   "metadata": {
    "collapsed": true
   },
   "outputs": [],
   "source": [
    "import string"
   ]
  },
  {
   "cell_type": "markdown",
   "metadata": {},
   "source": [
    "Check NLTK library !"
   ]
  },
  {
   "cell_type": "code",
   "execution_count": 109,
   "metadata": {
    "collapsed": false
   },
   "outputs": [],
   "source": [
    "import nltk\n",
    "#nltk.download()"
   ]
  },
  {
   "cell_type": "markdown",
   "metadata": {},
   "source": [
    "We have chosen to implement the following features : \n",
    "- Remove the stop words\n",
    "- Remove the punctuation\n",
    "- Stem the words\n",
    "- Lemmatize the words"
   ]
  },
  {
   "cell_type": "code",
   "execution_count": 110,
   "metadata": {
    "collapsed": true
   },
   "outputs": [],
   "source": [
    "def deletePunctNumber(s):\n",
    "    \n",
    "    punct_number = ['.',',','\\'', '=', '\\\"','#', '*', '&', '!', '?', ':', ';', '-', '_', '(', ')', '/',\n",
    "                    '0', '1', '2', '3', '4', '5', '6', '7', '8', '9', '%']\n",
    "    result = s\n",
    "    \n",
    "    for p in punct_number :\n",
    "        result = result.replace(p, \" \")\n",
    "        \n",
    "    return result"
   ]
  },
  {
   "cell_type": "code",
   "execution_count": 111,
   "metadata": {
    "collapsed": false
   },
   "outputs": [],
   "source": [
    "def remove_mail_and_http(s):\n",
    "    \n",
    "    result = s\n",
    "    \n",
    "    for word in s.split():\n",
    "        \n",
    "        if ('www' in word or '@' in word or 'http' in word or 'moodle' in word):\n",
    "            result = result.replace(word, \" \")\n",
    "    \n",
    "    return result"
   ]
  },
  {
   "cell_type": "markdown",
   "metadata": {},
   "source": [
    "Using the nltk lib, we define a function that lemmatize and stemms a string"
   ]
  },
  {
   "cell_type": "code",
   "execution_count": 112,
   "metadata": {
    "collapsed": true
   },
   "outputs": [],
   "source": [
    "def givePos(c):\n",
    "    #if(c == 'p' or c == 'i' or c == 'j' or c== 'f' or c == 'c' or c== 'm' or c == 'd' or c== 'w'):\n",
    "    if(c != 'v'):   \n",
    "        return 'n'\n",
    "    else:\n",
    "        return 'v'"
   ]
  },
  {
   "cell_type": "code",
   "execution_count": 113,
   "metadata": {
    "collapsed": false
   },
   "outputs": [],
   "source": [
    "def lemm_stemm(s):\n",
    "    \n",
    "    # ----- Ensuring lemm and stemm don't crash -----\n",
    "    while( len(s) > 0 and s[0] == ' '):\n",
    "        s = s[1:]\n",
    "        \n",
    "    s = s.replace('  ', ' ')\n",
    "    s = s.replace('   ', ' ')\n",
    "    s = s.replace('    ', ' ')\n",
    "    s = [word for word in s.split(\" \") if len(word) > 0]\n",
    "    # ------------------------------------------------\n",
    "\n",
    "    wordsWtag = nltk.pos_tag(s)\n",
    "\n",
    "    lemmatizer = nltk.stem.WordNetLemmatizer()\n",
    "    lems = [lemmatizer.lemmatize(w, pos = givePos(t.lower()[0])) for (w, t) in wordsWtag ]\n",
    "\n",
    "    porter_stemmer = nltk.stem.PorterStemmer()\n",
    "    stems = [porter_stemmer.stem(l) for l in lems]\n",
    "\n",
    "    return (' '.join(stems)).lower()"
   ]
  },
  {
   "cell_type": "code",
   "execution_count": 114,
   "metadata": {
    "collapsed": false
   },
   "outputs": [],
   "source": [
    "all_stopwords = ''\n",
    "\n",
    "for e in stopwords:\n",
    "    all_stopwords += e + \" \"\n",
    "\n",
    "\n",
    "# Handmade stopwords :\n",
    "all_stopwords += \"class explore number key past decade century course field application pratice current\"\n",
    "all_stopwords += \" commun provide good sessions laboratory prerequisite problem student teach cathedra\"\n",
    "all_stopwords +=  \" homework lab expect knowledge lecture fundament concept project midterm final exam question\"\n",
    "all_stopwords += \" grade make learn understand skill capacity small large group report write oral interpret access output\"\n",
    "all_stopwords += \" start wide invitation method develop base website control exercise discuss scale introduction illustration \"\n",
    "all_stopwords += \" selection student study keyword opportun previous\"\n",
    "all_stopwords += \" model system content design assessment process analysi basic activity outcome present evaluation material\"\n",
    "all_stopwords += \" structure requirement theory generation plan hour import effect scientific time proprety cells office program\"\n",
    "all_stopwords += \" technology principles equation sources science solution relation interaction week semester bachelor master\"\n",
    "all_stopwords += \" results industry test device experiment weekly medium concrete techniques acquire handson moodle epfl\"\n",
    "\n",
    "l_s_stop = lemm_stemm(all_stopwords)"
   ]
  },
  {
   "cell_type": "code",
   "execution_count": 115,
   "metadata": {
    "collapsed": false
   },
   "outputs": [],
   "source": [
    "def strip_stopwords(s):\n",
    "    \n",
    "    s_words = s.split() \n",
    "    \n",
    "        \n",
    "    # Remove basic stopwords, internet and email addresses\n",
    "    first_filter = [word for word in s_words if (word.lower() not in all_stopwords)\n",
    "                   and (len(word) > 2)\n",
    "                   and (\"http\" not in word)\n",
    "                   and ('@' not in word) ]\n",
    "        \n",
    "    s_pure = ''\n",
    "    for w in first_filter:\n",
    "        s_pure += w + \" \"\n",
    "    \n",
    "    if (len(s_pure) == 0) :\n",
    "        return ''\n",
    "    \n",
    "    # Remove lemm_stemm versions of stopwords\n",
    "    lemm_stemm_words = lemm_stemm(s_pure).split()\n",
    "    \n",
    "    resultWords = [word for word in lemm_stemm_words if (word.lower() not in l_s_stop)]\n",
    "    \n",
    "\n",
    "    result = ' '.join(resultWords)\n",
    "    return result"
   ]
  },
  {
   "cell_type": "code",
   "execution_count": 116,
   "metadata": {
    "collapsed": true
   },
   "outputs": [],
   "source": [
    "def function_easy(description):\n",
    "    liste_dude = description.split(' ')\n",
    "    dude_viens = ''\n",
    "    for word_dude in liste_dude:\n",
    "        petit_string_1 = word_dude\n",
    "        petit_string_2 = ''\n",
    "        for i in range(len(word_dude)):\n",
    "            if (str.isupper(word_dude[i]) and i != 0):\n",
    "                petit_string_1 = word_dude[:i]\n",
    "                petit_string_2 = word_dude[i:] + ' '\n",
    "        dude_viens += petit_string_1 + ' ' + petit_string_2\n",
    "    return dude_viens"
   ]
  },
  {
   "cell_type": "code",
   "execution_count": 117,
   "metadata": {
    "collapsed": true
   },
   "outputs": [],
   "source": [
    "def preProcess(s):\n",
    "    s = function_easy(s)\n",
    "    s = remove_mail_and_http(s)\n",
    "    s = deletePunctNumber(s)\n",
    "    \n",
    "\n",
    "    return strip_stopwords(s)"
   ]
  },
  {
   "cell_type": "markdown",
   "metadata": {},
   "source": [
    "Now we can finally preprocess all the courses' descriptions"
   ]
  },
  {
   "cell_type": "code",
   "execution_count": 118,
   "metadata": {
    "collapsed": false
   },
   "outputs": [
    {
     "name": "stdout",
     "output_type": "stream",
     "text": [
      "100 %\n"
     ]
    }
   ],
   "source": [
    "courses = load_json('data/courses.txt')\n",
    "\n",
    "for i in range(len(courses)):\n",
    "    if (i % 7 == 1):\n",
    "        print(\"\\r\", str(i*100/len(courses))[:4], \" %\", end='')\n",
    "        \n",
    "    courses[i]['description'] = preProcess(courses[i]['description']) #lemm_stemmed\n",
    "    \n",
    "print(\"\\r100 %\")"
   ]
  },
  {
   "cell_type": "code",
   "execution_count": 119,
   "metadata": {
    "collapsed": false
   },
   "outputs": [
    {
     "name": "stdout",
     "output_type": "stream",
     "text": [
      "environment Risk assessment Microbial source tracking Disinfection \n"
     ]
    }
   ],
   "source": [
    "print(function_easy(\"environmentRisk assessmentMicrobial source trackingDisinfection\"))"
   ]
  },
  {
   "cell_type": "code",
   "execution_count": 120,
   "metadata": {
    "collapsed": false
   },
   "outputs": [
    {
     "data": {
      "text/plain": [
       "'The goal of this course is to obtain an overview over waterborne pathogens and the risk they pose. We will not focus on biological virulence mechanisms. Instead, we will discuss the fate of pathogens in the environment, detection, inactivation mechanisms, and microbial risk assessment Content Overview over waterborne diseasesWaterborne virusesWaterborne bacteriaWaterborne protozoaWaterborne helminths Detection methodsIndicator organismsPathogens and global changeTransport and survival in the environmentRisk assessmentMicrobial source trackingDisinfection and other control mechanisms'"
      ]
     },
     "execution_count": 120,
     "metadata": {},
     "output_type": "execute_result"
    }
   ],
   "source": [
    "coursesTest = load_json('data/courses.txt')\n",
    "coursesTest[549]['description']"
   ]
  },
  {
   "cell_type": "markdown",
   "metadata": {},
   "source": [
    "A useful dict :"
   ]
  },
  {
   "cell_type": "code",
   "execution_count": 121,
   "metadata": {
    "collapsed": false
   },
   "outputs": [],
   "source": [
    "name_2_description = {}\n",
    "pos_2_name = {}\n",
    "name_2_pos = {}\n",
    "\n",
    "\n",
    "for i in range  (len(courses)):\n",
    "    name_2_description[courses[i][\"name\"]] = courses[i][\"description\"]\n",
    "    pos_2_name[i] = courses[i]['name']\n",
    "    \n",
    "name_2_pos = {v:k for k,v in pos_2_name.items()}\n"
   ]
  },
  {
   "cell_type": "markdown",
   "metadata": {},
   "source": [
    "Here is the preprocessed version of the description of the course Internet Analytics"
   ]
  },
  {
   "cell_type": "code",
   "execution_count": 122,
   "metadata": {
    "collapsed": false
   },
   "outputs": [
    {
     "data": {
      "text/plain": [
       "'internet analyt collect user data onlin servic social network commerc search advertis function onlin servic ubiquit seek balanc foundat algorithm statist graph world inspir practic internet cloud servic social inform network recommend cluster detect search retriev topic dimension reduct stream comput onlin auction coverag data mine analyt social network commerc social combin theoret dataset world dedic infrastructur hadoop apach spark data mine machin social network map reduc hadoop recommend cluster detect topic inform retriev stream comput auction stochast recommend linear algebra algorithm data graph linear algebra markov chain java world data onlin servic framework typic data mine onlin servic analyz effici modelsdata mine machin world practic world dataset curat draw'"
      ]
     },
     "execution_count": 122,
     "metadata": {},
     "output_type": "execute_result"
    }
   ],
   "source": [
    "name_2_description[\"Internet analytics\"]"
   ]
  },
  {
   "cell_type": "markdown",
   "metadata": {},
   "source": [
    "## Exercise 4.2: Term-document matrix"
   ]
  },
  {
   "cell_type": "markdown",
   "metadata": {
    "collapsed": false
   },
   "source": [
    "Let's compute the absolute occurence of each word on the whole corpus"
   ]
  },
  {
   "cell_type": "code",
   "execution_count": 123,
   "metadata": {
    "collapsed": true
   },
   "outputs": [],
   "source": [
    "from collections import Counter"
   ]
  },
  {
   "cell_type": "markdown",
   "metadata": {},
   "source": [
    "- We create a string containing the whole corpus.\n",
    "- We create a list 'docs' containing the courses's names\n",
    "- We create a list of tuple 'occurences' that stores the words of the corpus along with their number of apparition\n",
    "- We create a list 'words' that contains all different words"
   ]
  },
  {
   "cell_type": "code",
   "execution_count": 124,
   "metadata": {
    "collapsed": true
   },
   "outputs": [],
   "source": [
    "wholeCorpus = ''\n",
    "docs = []\n",
    "\n",
    "for c in courses:\n",
    "    wholeCorpus += c['description']\n",
    "    docs.append(c['name'])"
   ]
  },
  {
   "cell_type": "code",
   "execution_count": 125,
   "metadata": {
    "collapsed": false
   },
   "outputs": [
    {
     "name": "stdout",
     "output_type": "stream",
     "text": [
      "We have  8620  different words in total among the  854  descriptions\n"
     ]
    }
   ],
   "source": [
    "occurences = Counter(wholeCorpus.lower().split()).most_common()\n",
    "\n",
    "nb_words = len(occurences)\n",
    "nb_docs = len(courses)\n",
    "\n",
    "print(\"We have \", nb_words , \" different words in total among the \", nb_docs , \" descriptions\")"
   ]
  },
  {
   "cell_type": "code",
   "execution_count": 126,
   "metadata": {
    "collapsed": false
   },
   "outputs": [],
   "source": [
    "words = []\n",
    "for (w, n) in occurences:\n",
    "    words.append(w)"
   ]
  },
  {
   "cell_type": "code",
   "execution_count": 127,
   "metadata": {
    "collapsed": false
   },
   "outputs": [
    {
     "name": "stdout",
     "output_type": "stream",
     "text": [
      "['data', 'comput', 'engin', 'energi', 'physic', 'mechan', 'optim', 'recommend', 'research', 'transvers', 'function', 'optic', 'inform', 'electron', 'practic', 'includ', 'properti', 'supervis', 'biolog', 'tool', 'resourc', 'imag', 'manag', 'linear', 'chemic', 'perform', 'integr', 'topic', 'discuss', 'analyz', 'state', 'case', 'assist', 'algorithm', 'dynam', 'signal', 'chemistri', 'note', 'organ', 'object', 'statist', 'molecular', 'measur', 'level', 'network', 'solv', 'product', 'particip', 'simul', 'architectur', 'continu', 'flow', 'paper', 'methodolog', 'oper', 'numer', 'implement', 'approach', 'reaction', 'set', 'circuit', 'cover', 'technic', 'explain', 'task', 'power', 'space', 'experiment', 'type', 'limit', 'risk', 'attend', 'mathemat', 'team', 'feedback', 'sensor', 'languag', 'domain', 'theoret', 'distribut', 'strategi', 'estim', 'protein', 'critic', 'role', 'digit', 'phase', 'demonstr', 'quantum', 'complex', 'advanc', 'prepar', 'transfer', 'goal', 'laser', 'market', 'magnet', 'modul', 'transform', 'electr']\n"
     ]
    }
   ],
   "source": [
    "print(words[:100])"
   ]
  },
  {
   "cell_type": "markdown",
   "metadata": {},
   "source": [
    "- Now we define the TF function"
   ]
  },
  {
   "cell_type": "code",
   "execution_count": 128,
   "metadata": {
    "collapsed": false
   },
   "outputs": [],
   "source": [
    "#Function to compute TF\n",
    "def TF(s):\n",
    "    \n",
    "    w_n_tuple = Counter(s.lower().split()).most_common()\n",
    "    highestScore = w_n_tuple[0][1]\n",
    "    res = []\n",
    "    \n",
    "    for(w, n) in w_n_tuple:\n",
    "        res.append((w, n/highestScore))\n",
    "    return res"
   ]
  },
  {
   "cell_type": "code",
   "execution_count": 129,
   "metadata": {
    "collapsed": false
   },
   "outputs": [
    {
     "data": {
      "text/plain": [
       "[('data', 1.0),\n",
       " ('world', 0.8333333333333334),\n",
       " ('social', 0.8333333333333334),\n",
       " ('servic', 0.8333333333333334),\n",
       " ('onlin', 0.8333333333333334),\n",
       " ('mine', 0.6666666666666666),\n",
       " ('network', 0.6666666666666666),\n",
       " ('recommend', 0.5),\n",
       " ('cluster', 0.3333333333333333),\n",
       " ('search', 0.3333333333333333),\n",
       " ('detect', 0.3333333333333333),\n",
       " ('dataset', 0.3333333333333333),\n",
       " ('algebra', 0.3333333333333333),\n",
       " ('machin', 0.3333333333333333),\n",
       " ('commerc', 0.3333333333333333),\n",
       " ('topic', 0.3333333333333333),\n",
       " ('hadoop', 0.3333333333333333),\n",
       " ('inform', 0.3333333333333333),\n",
       " ('stream', 0.3333333333333333),\n",
       " ('analyt', 0.3333333333333333),\n",
       " ('algorithm', 0.3333333333333333),\n",
       " ('comput', 0.3333333333333333),\n",
       " ('graph', 0.3333333333333333),\n",
       " ('linear', 0.3333333333333333),\n",
       " ('retriev', 0.3333333333333333),\n",
       " ('auction', 0.3333333333333333),\n",
       " ('internet', 0.3333333333333333),\n",
       " ('practic', 0.3333333333333333),\n",
       " ('seek', 0.16666666666666666),\n",
       " ('spark', 0.16666666666666666),\n",
       " ('dimension', 0.16666666666666666),\n",
       " ('ubiquit', 0.16666666666666666),\n",
       " ('dedic', 0.16666666666666666),\n",
       " ('theoret', 0.16666666666666666),\n",
       " ('coverag', 0.16666666666666666),\n",
       " ('reduc', 0.16666666666666666),\n",
       " ('infrastructur', 0.16666666666666666),\n",
       " ('apach', 0.16666666666666666),\n",
       " ('markov', 0.16666666666666666),\n",
       " ('analyz', 0.16666666666666666),\n",
       " ('reduct', 0.16666666666666666),\n",
       " ('user', 0.16666666666666666),\n",
       " ('inspir', 0.16666666666666666),\n",
       " ('combin', 0.16666666666666666),\n",
       " ('balanc', 0.16666666666666666),\n",
       " ('foundat', 0.16666666666666666),\n",
       " ('java', 0.16666666666666666),\n",
       " ('cloud', 0.16666666666666666),\n",
       " ('typic', 0.16666666666666666),\n",
       " ('advertis', 0.16666666666666666),\n",
       " ('function', 0.16666666666666666),\n",
       " ('effici', 0.16666666666666666),\n",
       " ('statist', 0.16666666666666666),\n",
       " ('curat', 0.16666666666666666),\n",
       " ('collect', 0.16666666666666666),\n",
       " ('map', 0.16666666666666666),\n",
       " ('modelsdata', 0.16666666666666666),\n",
       " ('framework', 0.16666666666666666),\n",
       " ('stochast', 0.16666666666666666),\n",
       " ('draw', 0.16666666666666666),\n",
       " ('chain', 0.16666666666666666)]"
      ]
     },
     "execution_count": 129,
     "metadata": {},
     "output_type": "execute_result"
    }
   ],
   "source": [
    "TF(name_2_description['Internet analytics'])"
   ]
  },
  {
   "cell_type": "code",
   "execution_count": 130,
   "metadata": {
    "collapsed": false
   },
   "outputs": [],
   "source": [
    "#Computing IDF\n",
    "words_2_nbDoc = {}\n",
    "for w in words:\n",
    "    words_2_nbDoc[w] = 0"
   ]
  },
  {
   "cell_type": "code",
   "execution_count": 131,
   "metadata": {
    "collapsed": false
   },
   "outputs": [],
   "source": [
    "for i in range(nb_docs):\n",
    "    \n",
    "    d = courses[i]['description'].lower()\n",
    "    listOfWords = d.split(' ')\n",
    "    \n",
    "    for j in listOfWords:\n",
    "        if (j == \"methodsind\"):\n",
    "            print(i)\n",
    "        try:\n",
    "            words_2_nbDoc[j] += 1\n",
    "        except KeyError:\n",
    "            #print(j)\n",
    "            words_2_nbDoc[j] = 1\n",
    "            words.append(j)"
   ]
  },
  {
   "cell_type": "code",
   "execution_count": 132,
   "metadata": {
    "collapsed": false,
    "scrolled": true
   },
   "outputs": [
    {
     "name": "stderr",
     "output_type": "stream",
     "text": [
      "/Users/emma/anaconda3/lib/python3.5/site-packages/ipykernel/__main__.py:2: RuntimeWarning: divide by zero encountered in log2\n",
      "  from ipykernel import kernelapp as app\n"
     ]
    }
   ],
   "source": [
    "for k in words_2_nbDoc.keys():\n",
    "    words_2_nbDoc[k] = - np.log2(words_2_nbDoc[k]/nb_docs)"
   ]
  },
  {
   "cell_type": "code",
   "execution_count": 133,
   "metadata": {
    "collapsed": false
   },
   "outputs": [
    {
     "data": {
      "text/plain": [
       "5.7380922596204904"
      ]
     },
     "execution_count": 133,
     "metadata": {},
     "output_type": "execute_result"
    }
   ],
   "source": [
    "words_2_nbDoc['internet']"
   ]
  },
  {
   "cell_type": "code",
   "execution_count": 134,
   "metadata": {
    "collapsed": false
   },
   "outputs": [],
   "source": [
    "TFIDF = np.zeros((len(words),nb_docs))"
   ]
  },
  {
   "cell_type": "code",
   "execution_count": 135,
   "metadata": {
    "collapsed": true
   },
   "outputs": [],
   "source": [
    "def indexOf(w):\n",
    "    for i in range(len(words)):\n",
    "        if(words[i] == w):\n",
    "            return i"
   ]
  },
  {
   "cell_type": "code",
   "execution_count": 136,
   "metadata": {
    "collapsed": false
   },
   "outputs": [],
   "source": [
    "for k in range(len(courses)):\n",
    "    doc = courses[k]['description']\n",
    "    if len(doc) != 0:\n",
    "        tf = TF(doc)\n",
    "        for (w, f) in tf:\n",
    "            TFIDF[indexOf(w)][k] = f* words_2_nbDoc[w]"
   ]
  },
  {
   "cell_type": "code",
   "execution_count": 137,
   "metadata": {
    "collapsed": false
   },
   "outputs": [
    {
     "data": {
      "text/plain": [
       "array([ 0.        ,  0.        ,  0.10914407,  0.        ,  0.        ,\n",
       "        0.        ,  0.15462077,  0.        ,  0.        ,  0.61848307,\n",
       "        0.        ,  0.        ,  0.23193115,  0.        ,  0.        ,\n",
       "        0.        ,  0.        ,  0.37108984,  0.        ,  0.20616102,\n",
       "        0.        ,  0.        ,  0.18554492,  0.1686772 ,  0.4638623 ,\n",
       "        0.        ,  0.        ,  0.        ,  0.        ,  0.        ,\n",
       "        0.        ,  0.        ,  0.        ,  0.        ,  0.        ,\n",
       "        0.26506417,  0.        ,  0.23193115,  0.        ,  0.        ,\n",
       "        0.        ,  0.        ,  0.        ,  0.        ,  0.        ,\n",
       "        0.        ,  0.23193115,  0.30924154,  0.        ,  0.        ,\n",
       "        0.26506417,  0.        ,  0.20616102,  0.        ,  0.        ,\n",
       "        0.        ,  0.        ,  0.        ,  0.        ,  0.        ,\n",
       "        0.        ,  0.        ,  1.11326953,  0.        ,  0.        ,\n",
       "        0.        ,  0.        ,  0.        ,  0.        ,  0.18554492,\n",
       "        0.        ,  0.53012835,  0.        ,  0.        ,  0.        ,\n",
       "        0.        ,  0.        ,  0.        ,  0.61848307,  0.        ,\n",
       "        0.        ,  0.        ,  0.20616102,  0.        ,  0.37108984,\n",
       "        0.        ,  0.4638623 ,  0.        ,  0.        ,  0.        ,\n",
       "        0.        ,  0.        ,  0.23193115,  0.        ,  0.        ,\n",
       "        0.        ,  0.        ,  0.        ,  0.        ,  0.        ,\n",
       "        0.        ,  0.        ,  0.        ,  0.        ,  0.        ,\n",
       "        0.        ,  0.        ,  0.        ,  0.        ,  0.        ,\n",
       "        0.        ,  0.        ,  0.        ,  0.        ,  0.        ,\n",
       "        0.        ,  0.        ,  0.        ,  0.        ,  0.        ,\n",
       "        0.26506417,  0.        ,  0.        ,  0.4638623 ,  0.        ,\n",
       "        0.4638623 ,  0.        ,  0.        ,  0.        ,  0.        ,\n",
       "        0.        ,  0.15462077,  0.        ,  0.30924154,  0.        ,\n",
       "        0.        ,  0.        ,  0.        ,  0.        ,  0.        ,\n",
       "        0.        ,  0.18554492,  0.        ,  0.30924154,  0.        ,\n",
       "        0.        ,  0.        ,  0.23193115,  0.        ,  0.        ,\n",
       "        0.        ,  0.4638623 ,  0.        ,  0.        ,  0.        ,\n",
       "        0.18554492,  0.        ,  0.11596558,  0.61848307,  0.        ,\n",
       "        0.        ,  0.        ,  0.        ,  0.        ,  0.        ,\n",
       "        0.20616102,  0.        ,  0.        ,  0.        ,  0.23193115,\n",
       "        0.        ,  0.4638623 ,  0.        ,  0.        ,  0.        ,\n",
       "        0.        ,  0.        ,  0.        ,  0.10914407,  0.        ,\n",
       "        0.30924154,  0.        ,  0.05798279,  0.        ,  0.        ,\n",
       "        0.        ,  0.        ,  0.        ,  0.        ,  0.        ,\n",
       "        0.        ,  0.        ,  0.        ,  0.37108984,  0.        ,\n",
       "        0.        ,  0.        ,  0.        ,  0.        ,  0.        ,\n",
       "        0.        ,  0.30924154,  0.        ,  0.30924154,  0.        ,\n",
       "        0.        ,  0.        ,  0.        ,  0.        ,  0.26506417,\n",
       "        0.18554492,  0.        ,  0.        ,  0.        ,  0.        ,\n",
       "        0.        ,  0.        ,  0.        ,  0.        ,  0.        ,\n",
       "        0.        ,  0.53012835,  0.        ,  0.        ,  0.        ,\n",
       "        0.        ,  0.13253209,  0.15462077,  0.        ,  0.        ,\n",
       "        0.        ,  0.        ,  0.        ,  0.        ,  0.        ,\n",
       "        0.        ,  1.85544921,  0.        ,  0.        ,  0.        ,\n",
       "        0.        ,  0.        ,  0.        ,  0.15462077,  0.28545372,\n",
       "        0.        ,  0.        ,  0.        ,  0.        ,  0.        ,\n",
       "        0.        ,  0.10308051,  0.        ,  0.        ,  0.        ,\n",
       "        0.        ,  0.        ,  0.        ,  0.        ,  0.        ,\n",
       "        0.        ,  0.        ,  0.        ,  0.        ,  0.        ,\n",
       "        0.79519252,  0.        ,  0.        ,  0.        ,  0.        ,\n",
       "        0.        ,  0.        ,  0.        ,  0.26506417,  0.55663476,\n",
       "        0.        ,  0.        ,  0.        ,  0.        ,  0.        ,\n",
       "        0.        ,  0.        ,  0.        ,  0.        ,  0.30924154,\n",
       "        0.        ,  0.        ,  0.        ,  0.23193115,  0.        ,\n",
       "        0.        ,  0.        ,  0.        ,  0.1686772 ,  0.        ,\n",
       "        0.        ,  0.06398101,  0.        ,  0.        ,  0.        ,\n",
       "        0.        ,  0.        ,  0.        ,  0.        ,  0.        ,\n",
       "        0.        ,  0.11596558,  0.        ,  0.        ,  0.        ,\n",
       "        0.42818059,  0.        ,  0.        ,  0.26506417,  0.4638623 ,\n",
       "        0.        ,  0.        ,  0.        ,  0.        ,  0.61848307,\n",
       "        0.        ,  0.        ,  0.        ,  0.30924154,  0.        ,\n",
       "        0.        ,  0.4638623 ,  0.        ,  0.11596558,  0.1686772 ,\n",
       "        0.        ,  0.        ,  0.18554492,  0.        ,  0.        ,\n",
       "        0.10914407,  0.        ,  0.        ,  0.        ,  0.        ,\n",
       "        0.        ,  0.        ,  0.        ,  0.        ,  0.        ,\n",
       "        0.        ,  0.        ,  0.        ,  0.        ,  0.        ,\n",
       "        0.        ,  0.        ,  0.        ,  0.        ,  0.        ,\n",
       "        0.        ,  0.10914407,  0.53012835,  0.        ,  0.        ,\n",
       "        0.15462077,  0.        ,  0.11596558,  0.        ,  0.        ,\n",
       "        0.        ,  0.        ,  0.1686772 ,  0.        ,  0.        ,\n",
       "        0.        ,  1.23696614,  0.11596558,  0.        ,  0.        ,\n",
       "        0.        ,  0.        ,  0.        ,  0.        ,  0.        ,\n",
       "        0.        ,  0.        ,  0.        ,  0.        ,  0.        ,\n",
       "        0.        ,  0.        ,  0.53012835,  0.        ,  0.        ,\n",
       "        0.        ,  0.        ,  0.4638623 ,  0.10308051,  0.        ,\n",
       "        0.        ,  0.        ,  0.        ,  0.18554492,  0.        ,\n",
       "        0.        ,  0.20616102,  0.        ,  0.        ,  0.        ,\n",
       "        0.        ,  0.        ,  0.4638623 ,  0.        ,  0.23193115,\n",
       "        0.        ,  0.        ,  0.        ,  0.        ,  0.        ,\n",
       "        0.        ,  0.23193115,  0.        ,  0.12369661,  0.        ,\n",
       "        0.30924154,  0.10914407,  0.        ,  0.        ,  0.        ,\n",
       "        0.        ,  0.        ,  0.        ,  0.        ,  0.        ,\n",
       "        0.        ,  0.        ,  1.01206321,  0.79519252,  0.        ,\n",
       "        0.        ,  0.        ,  0.        ,  0.        ,  0.        ,\n",
       "        0.        ,  0.        ,  0.        ,  0.26506417,  0.        ,\n",
       "        0.23193115,  0.14272686,  0.        ,  0.        ,  0.        ,\n",
       "        0.18554492,  0.        ,  0.        ,  0.        ,  0.        ,\n",
       "        0.        ,  0.        ,  0.        ,  0.        ,  0.        ,\n",
       "        0.        ,  0.        ,  0.        ,  0.        ,  0.4638623 ,\n",
       "        0.        ,  0.        ,  0.        ,  0.        ,  0.        ,\n",
       "        0.        ,  0.        ,  0.        ,  0.23193115,  0.        ,\n",
       "        0.61848307,  0.        ,  0.        ,  0.        ,  0.        ,\n",
       "        0.        ,  0.        ,  0.        ,  0.        ,  0.        ,\n",
       "        0.        ,  0.        ,  0.        ,  0.        ,  0.        ,\n",
       "        0.        ,  0.        ,  0.        ,  0.        ,  0.        ,\n",
       "        0.        ,  0.        ,  0.        ,  0.        ,  0.        ,\n",
       "        0.        ,  0.37108984,  0.        ,  0.        ,  0.        ,\n",
       "        0.        ,  0.        ,  0.        ,  0.        ,  0.        ,\n",
       "        0.        ,  0.92772461,  0.14272686,  0.        ,  0.        ,\n",
       "        0.        ,  0.        ,  0.        ,  0.        ,  0.        ,\n",
       "        0.5060316 ,  0.        ,  0.        ,  0.10308051,  0.        ,\n",
       "        0.        ,  0.        ,  0.        ,  0.26506417,  0.        ,\n",
       "        0.        ,  0.49478646,  0.        ,  0.        ,  0.        ,\n",
       "        0.        ,  0.        ,  0.        ,  0.13253209,  0.        ,\n",
       "        0.23193115,  0.        ,  0.        ,  0.        ,  0.843386  ,\n",
       "        0.        ,  0.        ,  0.        ,  0.        ,  0.        ,\n",
       "        0.        ,  0.30924154,  0.        ,  0.23193115,  0.        ,\n",
       "        0.        ,  0.        ,  0.        ,  0.        ,  0.61848307,\n",
       "        0.15462077,  0.        ,  0.        ,  0.        ,  0.        ,\n",
       "        0.        ,  0.        ,  0.26506417,  0.37108984,  0.        ,\n",
       "        0.        ,  0.        ,  0.        ,  0.        ,  0.        ,\n",
       "        0.        ,  0.        ,  0.15462077,  0.        ,  0.        ,\n",
       "        0.37108984,  0.        ,  0.        ,  0.18554492,  0.        ,\n",
       "        0.        ,  0.        ,  0.        ,  0.        ,  0.20616102,\n",
       "        0.        ,  0.        ,  0.        ,  0.18554492,  0.        ,\n",
       "        0.68358655,  0.        ,  0.        ,  0.        ,  0.09765522,\n",
       "        0.        ,  0.        ,  0.        ,  0.        ,  0.        ,\n",
       "        0.        ,  0.        ,  0.        ,  0.        ,  0.        ,\n",
       "        0.        ,  0.        ,  0.15462077,  0.        ,  0.09765522,\n",
       "        0.        ,  0.18554492,  0.20616102,  0.        ,  0.        ,\n",
       "        0.        ,  0.12369661,  0.        ,  0.30924154,  0.        ,\n",
       "        0.        ,  0.        ,  0.        ,  0.        ,  0.        ,\n",
       "        0.        ,  0.        ,  0.        ,  0.        ,  0.        ,\n",
       "        0.        ,  0.        ,  0.        ,  0.14272686,  0.        ,\n",
       "        0.        ,  0.        ,  0.        ,  0.        ,  0.        ,\n",
       "        0.        ,  0.        ,  0.        ,  0.        ,  0.        ,\n",
       "        0.14272686,  0.        ,  0.        ,  0.        ,  0.37108984,\n",
       "        0.        ,  0.        ,  0.        ,  0.        ,  0.        ,\n",
       "        0.        ,  0.        ,  0.        ,  0.        ,  1.15965576,\n",
       "        0.        ,  0.        ,  0.        ,  0.        ,  0.        ,\n",
       "        0.37108984,  0.        ,  0.        ,  0.        ,  0.        ,\n",
       "        0.        ,  0.26506417,  0.        ,  0.        ,  0.        ,\n",
       "        0.26506417,  0.        ,  0.        ,  0.37108984,  0.        ,\n",
       "        0.        ,  0.        ,  0.        ,  0.28545372,  0.0843386 ,\n",
       "        0.        ,  0.        ,  0.        ,  0.        ,  0.        ,\n",
       "        0.        ,  0.        ,  0.        ,  0.61848307,  0.23193115,\n",
       "        0.        ,  0.        ,  0.        ,  0.        ,  0.        ,\n",
       "        0.        ,  0.        ,  0.        ,  0.        ,  0.        ,\n",
       "        0.        ,  0.        ,  0.        ,  0.        ,  0.        ,\n",
       "        0.        ,  0.        ,  0.        ,  0.        ,  0.26506417,\n",
       "        0.        ,  0.        ,  0.        ,  0.        ,  0.        ,\n",
       "        0.        ,  0.        ,  0.09765522,  0.        ,  0.        ,\n",
       "        0.        ,  0.        ,  0.30924154,  0.        ,  0.23193115,\n",
       "        0.        ,  0.        ,  0.        ,  0.        ,  0.        ,\n",
       "        0.        ,  0.24739323,  0.        ,  0.        ,  0.        ,\n",
       "        0.        ,  0.        ,  0.        ,  0.        ,  0.        ,\n",
       "        0.        ,  0.        ,  0.        ,  0.30924154,  0.        ,\n",
       "        0.        ,  0.        ,  0.        ,  0.        ,  0.        ,\n",
       "        0.        ,  0.        ,  0.        ,  0.        ,  0.        ,\n",
       "        0.        ,  0.        ,  0.4638623 ,  0.        ,  0.        ,\n",
       "        0.        ,  0.        ,  0.        ,  0.        ,  0.        ,\n",
       "        0.        ,  0.23193115,  0.        ,  0.        ,  0.        ,\n",
       "        0.15462077,  0.        ,  0.        ,  0.        ,  0.        ,\n",
       "        0.        ,  0.        ,  0.        ,  0.        ,  0.        ,\n",
       "        0.18554492,  0.        ,  0.        ,  0.        ,  0.        ,\n",
       "        0.        ,  0.        ,  0.        ,  0.09765522,  0.61848307,\n",
       "        0.        ,  0.        ,  0.18554492,  0.        ,  0.        ,\n",
       "        0.        ,  0.1686772 ,  0.        ,  0.        ,  0.        ,\n",
       "        0.30924154,  0.30924154,  0.        ,  0.        ,  0.18554492,\n",
       "        0.        ,  0.        ,  0.        ,  0.        ,  0.        ,\n",
       "        0.37108984,  0.        ,  0.        ,  0.23193115,  0.        ,\n",
       "        0.        ,  0.        ,  0.20616102,  0.        ,  0.        ,\n",
       "        0.        ,  0.        ,  0.        ,  0.        ,  0.        ,\n",
       "        0.        ,  0.        ,  0.        ,  0.10308051,  0.        ,\n",
       "        0.30924154,  0.30924154,  0.        ,  0.18554492,  0.        ,\n",
       "        0.20616102,  0.41232205,  0.        ,  0.        ,  0.        ,\n",
       "        0.30924154,  0.37108984,  0.37108984,  0.        ])"
      ]
     },
     "execution_count": 137,
     "metadata": {},
     "output_type": "execute_result"
    }
   ],
   "source": [
    "TFIDF[:][43]"
   ]
  },
  {
   "cell_type": "code",
   "execution_count": 138,
   "metadata": {
    "collapsed": false
   },
   "outputs": [
    {
     "name": "stdout",
     "output_type": "stream",
     "text": [
      "volum\n",
      "charg\n",
      "exchang\n",
      "static\n",
      "therapi\n",
      "gaussian\n",
      "obtain\n",
      "neuron\n",
      "offer\n",
      "wastewat\n",
      "workshop\n",
      "technic\n",
      "fix\n",
      "classroom\n",
      "ressourc\n"
     ]
    }
   ],
   "source": [
    "orderedIndexes = np.argsort(TFIDF[:][43], axis = 0)\n",
    "for i in range(15):\n",
    "    print(words[orderedIndexes[-15 +i]])"
   ]
  },
  {
   "cell_type": "markdown",
   "metadata": {},
   "source": [
    "The large scores are words that appears a lot in one document but rarely in other documents (TF score is high and IDF is high).\n",
    "Indeed IDF is high when log2(n/N) is low, log2(n/N) is low when n/M << 1. and n/M << 1 means that n is small as M is fixed. n is small when the word apears in very few documents \n",
    "The small scores are words that either appear rarely in a doc or rarely in every documents (TF or IDF score is low)"
   ]
  },
  {
   "cell_type": "markdown",
   "metadata": {},
   "source": [
    "## Exercise 4.3: Document similarity search"
   ]
  },
  {
   "cell_type": "code",
   "execution_count": 139,
   "metadata": {
    "collapsed": true
   },
   "outputs": [],
   "source": [
    "import numpy.linalg as la"
   ]
  },
  {
   "cell_type": "code",
   "execution_count": 140,
   "metadata": {
    "collapsed": false
   },
   "outputs": [],
   "source": [
    "def sim(di, dj):\n",
    "    return di.T@ dj /(la.norm(di)*la.norm(dj))"
   ]
  },
  {
   "cell_type": "code",
   "execution_count": 141,
   "metadata": {
    "collapsed": true
   },
   "outputs": [],
   "source": [
    "def topFiveCourses(query):\n",
    "    queryWords = query.split(' ')\n",
    "    Q = np.zeros(len(words))\n",
    "    for w in queryWords:\n",
    "        Q[indexOf(w)] = 1\n",
    "    similarityScores = np.zeros(nb_docs)\n",
    "    similarityScores = sim(Q, TFIDF[:])\n",
    "    indexes = np.argsort(similarityScores)\n",
    "    for i in range(5):\n",
    "        print(\"Course : \", docs[indexes[-5 +i]], \n",
    "              \" with similarity :\", similarityScores[indexes[-5+i]] )"
   ]
  },
  {
   "cell_type": "code",
   "execution_count": 142,
   "metadata": {
    "collapsed": false
   },
   "outputs": [
    {
     "name": "stdout",
     "output_type": "stream",
     "text": [
      "Course :  Operations: economics & strategy  with similarity : 0.00885964223185\n",
      "Course :  Statistical Sequence Processing  with similarity : 0.0110378462712\n",
      "Course :  Markov chains and algorithmic applications  with similarity : 0.014741599374\n",
      "Course :  Applied probability & stochastic processes  with similarity : 0.0154676673871\n",
      "Course :  Applied stochastic processes  with similarity : 0.018631825327\n"
     ]
    }
   ],
   "source": [
    "topFiveCourses('markov chain')"
   ]
  },
  {
   "cell_type": "code",
   "execution_count": 143,
   "metadata": {
    "collapsed": false
   },
   "outputs": [
    {
     "name": "stdout",
     "output_type": "stream",
     "text": [
      "Course :  Molecular and cellular biophysic II  with similarity : 0.0\n",
      "Course :  CCMX Advanced Course - Instrumented Nanoindentation  with similarity : 0.0\n",
      "Course :  Electronic properties of solids and superconductivity  with similarity : 0.0\n",
      "Course :  Hydrogeophysics  with similarity : 0.0\n",
      "Course :  Computational Social Media  with similarity : 0.00469659925583\n"
     ]
    }
   ],
   "source": [
    "topFiveCourses('facebook')"
   ]
  },
  {
   "cell_type": "code",
   "execution_count": 144,
   "metadata": {
    "collapsed": true
   },
   "outputs": [],
   "source": [
    "from utils import save_pkl"
   ]
  },
  {
   "cell_type": "code",
   "execution_count": 146,
   "metadata": {
    "collapsed": false
   },
   "outputs": [
    {
     "data": {
      "text/plain": [
       "['data',\n",
       " 'comput',\n",
       " 'engin',\n",
       " 'energi',\n",
       " 'physic',\n",
       " 'mechan',\n",
       " 'optim',\n",
       " 'recommend',\n",
       " 'research',\n",
       " 'transvers']"
      ]
     },
     "execution_count": 146,
     "metadata": {},
     "output_type": "execute_result"
    }
   ],
   "source": [
    "words[:10]"
   ]
  },
  {
   "cell_type": "code",
   "execution_count": 147,
   "metadata": {
    "collapsed": true
   },
   "outputs": [],
   "source": [
    "save_pkl(TFIDF, 'data/tfidf.pkl')\n",
    "save_pkl(words, 'data/words.pkl')\n",
    "save_pkl(docs, 'data/docs.pkl')"
   ]
  }
 ],
 "metadata": {
  "anaconda-cloud": {},
  "kernelspec": {
   "display_name": "Python [Root]",
   "language": "python",
   "name": "Python [Root]"
  },
  "language_info": {
   "codemirror_mode": {
    "name": "ipython",
    "version": 3
   },
   "file_extension": ".py",
   "mimetype": "text/x-python",
   "name": "python",
   "nbconvert_exporter": "python",
   "pygments_lexer": "ipython3",
   "version": "3.5.2"
  }
 },
 "nbformat": 4,
 "nbformat_minor": 2
}
