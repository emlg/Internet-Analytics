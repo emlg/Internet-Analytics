{
 "cells": [
  {
   "cell_type": "markdown",
   "metadata": {},
   "source": [
    "# Networks: structure, evolution & processes\n",
    "**Internet Analytics - Lab 2**\n",
    "\n",
    "---\n",
    "\n",
    "**Group:** *D*\n",
    "\n",
    "**Names:**\n",
    "\n",
    "* Lejal Glaude Emma\n",
    "* Bickel Marc\n",
    "* Cadoux Cyril\n",
    "\n",
    "---\n",
    "\n",
    "#### Instructions\n",
    "\n",
    "*This is a template for part 4 of the lab. Clearly write your answers, comments and interpretations in Markodown cells. Don't forget that you can add $\\LaTeX$ equations in these cells. Feel free to add or remove any cell.*\n",
    "\n",
    "*Please properly comment your code. Code readability will be considered for grading. To avoid long cells of codes in the notebook, you can also embed long python functions and classes in a separate module. Don’t forget to hand in your module if that is the case. In multiple exercises, you are required to come up with your own method to solve various problems. Be creative and clearly motivate and explain your methods. Creativity and clarity will be considered for grading.*"
   ]
  },
  {
   "cell_type": "markdown",
   "metadata": {},
   "source": [
    "---\n",
    "\n",
    "## 2.4 PageRank\n",
    "\n",
    "### 2.4.1 Random Surfer Model\n",
    "\n",
    "#### Exercise 2.12"
   ]
  },
  {
   "cell_type": "code",
   "execution_count": 1,
   "metadata": {
    "collapsed": true
   },
   "outputs": [],
   "source": [
    "# Basic libs\n",
    "import networkx as nx\n",
    "import numpy as np\n",
    "import matplotlib.pyplot as plt\n",
    "%matplotlib inline"
   ]
  },
  {
   "cell_type": "markdown",
   "metadata": {},
   "source": [
    "##### First we write a function that reads a .graph file and extracts a graph from it :"
   ]
  },
  {
   "cell_type": "code",
   "execution_count": 2,
   "metadata": {
    "collapsed": false
   },
   "outputs": [],
   "source": [
    "# Important : Here we parse the nodes from string (file reading) to int  => easier manipulations \n",
    "\n",
    "def read_g (location):\n",
    "    \n",
    "    # We use directed graphs here\n",
    "    G = nx.DiGraph()\n",
    "\n",
    "    file = open(location, 'r')\n",
    "\n",
    "\n",
    "    for line in file:\n",
    "\n",
    "        #Split the file's line into 'words'\n",
    "        nodes = line.split()\n",
    "\n",
    "        #The first word is the starting node\n",
    "        G.add_node(int(nodes[0]))\n",
    "\n",
    "        #Only if the starting point is explicitely linked with other nodes\n",
    "        if (len(nodes) > 1):\n",
    "            for i in range (1, len(nodes)):\n",
    "\n",
    "                #The following words are the end points\n",
    "                G.add_edge(int(nodes[0]), int(nodes[i]))  \n",
    "\n",
    "    file.close()\n",
    "    \n",
    "    return G"
   ]
  },
  {
   "cell_type": "markdown",
   "metadata": {},
   "source": [
    "##### We also define 2 basics functions :"
   ]
  },
  {
   "cell_type": "code",
   "execution_count": 3,
   "metadata": {
    "collapsed": true
   },
   "outputs": [],
   "source": [
    "'''The restart function just returns a uniformly chosen node from the graph'''\n",
    "\n",
    "def restart(G):\n",
    "    return np.random.choice(G.nodes())\n",
    "\n",
    "\n",
    "'''The announce function just prints the results '''\n",
    "\n",
    "def announce (result):\n",
    "    for i in range (len(result)):\n",
    "        print(\"Node \", i, \" has a score of \", result[i])"
   ]
  },
  {
   "cell_type": "markdown",
   "metadata": {},
   "source": [
    "##### We can now define the function that exectutes the random surf on a graph with a certain number of iterations. "
   ]
  },
  {
   "cell_type": "code",
   "execution_count": 4,
   "metadata": {
    "collapsed": false
   },
   "outputs": [],
   "source": [
    "'''Our implementation takes a graph G,\n",
    "    a number of iterations default=100,\n",
    "    the version (False(default)/True)\n",
    "    and a boolean to enable the result printing\n",
    "    in arguments.\n",
    "    '''\n",
    "    \n",
    "\n",
    "def random_surf(G, iterations=100, enhanced=False, ok_print=True):\n",
    "    \n",
    "    result = np.zeros(G.order())\n",
    "    damping = 0.15\n",
    "    \n",
    "    # The first node chosen at random\n",
    "    actual_node = restart(G)\n",
    "    \n",
    "    for i in range (iterations):\n",
    "        \n",
    "        # Increase the score by 1\n",
    "        result[actual_node] += 1\n",
    "        \n",
    "        # In enhanced version, apply the random restart\n",
    "        if(enhanced and np.random.uniform() < damping):\n",
    "            actual_node = restart(G)\n",
    "        \n",
    "        else :            \n",
    "        \n",
    "            nei = G.neighbors(actual_node)\n",
    "            dangling = (len(nei) == 0)\n",
    "\n",
    "            if(dangling and enhanced):            \n",
    "                actual_node = restart(G)\n",
    "                \n",
    "            elif (not(dangling)):\n",
    "                actual_node = np.random.choice(nei)\n",
    "            \n",
    "            # Else we are on a dangling node, with the naive version => do nothing (see below)\n",
    "    \n",
    "    \n",
    "    if (ok_print):\n",
    "        announce(result)\n",
    "        \n",
    "        \n",
    "    return result       "
   ]
  },
  {
   "cell_type": "markdown",
   "metadata": {},
   "source": [
    "##### Now we can apply our functions\n",
    "\n",
    "First We create Ga and Gc from file :"
   ]
  },
  {
   "cell_type": "code",
   "execution_count": 5,
   "metadata": {
    "collapsed": false
   },
   "outputs": [],
   "source": [
    "Ga = read_g('../data/absorbing.graph')\n",
    "Gc = read_g('../data/components.graph')"
   ]
  },
  {
   "cell_type": "code",
   "execution_count": 6,
   "metadata": {
    "collapsed": false
   },
   "outputs": [
    {
     "name": "stdout",
     "output_type": "stream",
     "text": [
      "Node  0  has a score of  1.0\n",
      "Node  1  has a score of  99.0\n",
      "Node  2  has a score of  0.0\n",
      "Node  3  has a score of  0.0\n",
      "Node  4  has a score of  0.0\n"
     ]
    },
    {
     "data": {
      "text/plain": [
       "array([  1.,  99.,   0.,   0.,   0.])"
      ]
     },
     "execution_count": 6,
     "metadata": {},
     "output_type": "execute_result"
    }
   ],
   "source": [
    "random_surf(Ga)"
   ]
  },
  {
   "cell_type": "markdown",
   "metadata": {},
   "source": [
    "By running the above cell several times, we see that node 1 has in average a very large score. This indicates that this is a dangling node. Indeed, if we ask the length of the neighbors list of node 1, we get : "
   ]
  },
  {
   "cell_type": "code",
   "execution_count": 7,
   "metadata": {
    "collapsed": false
   },
   "outputs": [
    {
     "name": "stdout",
     "output_type": "stream",
     "text": [
      "0\n"
     ]
    }
   ],
   "source": [
    "print(len(Ga.neighbors(1)))"
   ]
  },
  {
   "cell_type": "markdown",
   "metadata": {},
   "source": [
    "_______"
   ]
  },
  {
   "cell_type": "code",
   "execution_count": 8,
   "metadata": {
    "collapsed": false
   },
   "outputs": [
    {
     "name": "stdout",
     "output_type": "stream",
     "text": [
      "Node  0  has a score of  0.0\n",
      "Node  1  has a score of  0.0\n",
      "Node  2  has a score of  0.0\n",
      "Node  3  has a score of  0.0\n",
      "Node  4  has a score of  27.0\n",
      "Node  5  has a score of  18.0\n",
      "Node  6  has a score of  28.0\n",
      "Node  7  has a score of  27.0\n"
     ]
    },
    {
     "data": {
      "text/plain": [
       "array([  0.,   0.,   0.,   0.,  27.,  18.,  28.,  27.])"
      ]
     },
     "execution_count": 8,
     "metadata": {},
     "output_type": "execute_result"
    }
   ],
   "source": [
    "random_surf(Gc)"
   ]
  },
  {
   "cell_type": "markdown",
   "metadata": {},
   "source": [
    "By running the above cell several times, we always see that there are only 4 out of 8 nodes that have a non-null score.\n",
    "This indicated that the graph contains 2 disconnected subgraphs. This is clear if we plot the graph :"
   ]
  },
  {
   "cell_type": "code",
   "execution_count": 9,
   "metadata": {
    "collapsed": false
   },
   "outputs": [
    {
     "data": {
      "image/png": "[encoded data removed]",
      "text/plain": [
       "<matplotlib.figure.Figure at 0x7f341b204c18>"
      ]
     },
     "metadata": {},
     "output_type": "display_data"
    }
   ],
   "source": [
    "plt.axis('off')\n",
    "nx.draw_networkx(Gc)"
   ]
  },
  {
   "cell_type": "markdown",
   "metadata": {},
   "source": [
    "#### Exercise 2.13"
   ]
  },
  {
   "cell_type": "code",
   "execution_count": 10,
   "metadata": {
    "collapsed": false
   },
   "outputs": [
    {
     "name": "stdout",
     "output_type": "stream",
     "text": [
      "Node  0  has a score of  9.0\n",
      "Node  1  has a score of  30.0\n",
      "Node  2  has a score of  19.0\n",
      "Node  3  has a score of  30.0\n",
      "Node  4  has a score of  12.0\n"
     ]
    },
    {
     "data": {
      "text/plain": [
       "array([  9.,  30.,  19.,  30.,  12.])"
      ]
     },
     "execution_count": 10,
     "metadata": {},
     "output_type": "execute_result"
    }
   ],
   "source": [
    "random_surf(Ga,enhanced=True)"
   ]
  },
  {
   "cell_type": "code",
   "execution_count": 11,
   "metadata": {
    "collapsed": false
   },
   "outputs": [
    {
     "name": "stdout",
     "output_type": "stream",
     "text": [
      "Node  0  has a score of  20.0\n",
      "Node  1  has a score of  21.0\n",
      "Node  2  has a score of  20.0\n",
      "Node  3  has a score of  14.0\n",
      "Node  4  has a score of  8.0\n",
      "Node  5  has a score of  3.0\n",
      "Node  6  has a score of  6.0\n",
      "Node  7  has a score of  8.0\n"
     ]
    },
    {
     "data": {
      "text/plain": [
       "array([ 20.,  21.,  20.,  14.,   8.,   3.,   6.,   8.])"
      ]
     },
     "execution_count": 11,
     "metadata": {},
     "output_type": "execute_result"
    }
   ],
   "source": [
    "random_surf(Gc, enhanced=True)"
   ]
  },
  {
   "cell_type": "markdown",
   "metadata": {},
   "source": [
    "These scores make sense because the random walk is mathematically more likely to reach nodes that have a lot of 'incoming edges'.\n",
    "\n",
    "In Ga we see that even after the enhancement, node 1 has the best score. This is because 3 other nodes have a hyperlink 'toward' it.\n",
    "\n",
    "In Gc, we can see that the 2 subgraphs have the same shape : 5=3, 6=2, 4=1 and 7=0.\n",
    "\n",
    "And in facts if we run the cell several times, we see that those pairs of nodes have approximately the same PageRank score (eg nodes 5 and 3 often have the lower score)."
   ]
  },
  {
   "cell_type": "markdown",
   "metadata": {},
   "source": [
    "---\n",
    "\n",
    "### 2.4.2 Power Iteration Method\n",
    "\n",
    "#### Exercise 2.14: Power Iteration method"
   ]
  },
  {
   "cell_type": "code",
   "execution_count": 23,
   "metadata": {
    "collapsed": false
   },
   "outputs": [],
   "source": [
    "theta = 0.7\n",
    "Gw = read_g('../data/wikipedia.graph')\n",
    "N = Gw.order()\n",
    "H = np.zeros((N, N))\n",
    "       \n",
    "for node in Gw.nodes() :\n",
    "    neighbors = Gw.neighbors(node)\n",
    "    odeg = len(neighbors)\n",
    "    if odeg == 0:\n",
    "        for index in range(N):\n",
    "            H[node][index] = 1/N\n",
    "    else :\n",
    "        for nei in neighbors:\n",
    "            H[node][nei] = 1/odeg\n",
    "            \n",
    "G = theta*H + (1-theta)/N"
   ]
  },
  {
   "cell_type": "code",
   "execution_count": 40,
   "metadata": {
    "collapsed": false
   },
   "outputs": [
    {
     "name": "stdout",
     "output_type": "stream",
     "text": [
      "\r",
      "Number of iteration :  1\r",
      "Number of iteration :  2\r",
      "Number of iteration :  3\r",
      "Number of iteration :  4\r",
      "Number of iteration :  5\r",
      "Number of iteration :  6\r",
      "Number of iteration :  7\r",
      "Number of iteration :  8\r",
      "Number of iteration :  9\r",
      "Number of iteration :  10\r",
      "Number of iteration :  11\r",
      "Number of iteration :  12\r",
      "Number of iteration :  13\r",
      "Number of iteration :  14\r",
      "Number of iteration :  15\r",
      "Number of iteration :  16\n",
      "\n"
     ]
    }
   ],
   "source": [
    "pi = np.zeros((N))\n",
    "newPi = np.zeros((N))\n",
    "newPi = newPi + 1/N\n",
    "espilon = 0.00000005\n",
    "count = 0\n",
    "while( np.linalg.norm(newPi-pi) > espilon):\n",
    "    count += 1\n",
    "    print(\"\\rNumber of iteration : \", count , end = '')\n",
    "    pi = newPi\n",
    "    newPi = pi @ G\n",
    "    \n",
    "    \n",
    "print(\"\\n\")"
   ]
  },
  {
   "cell_type": "code",
   "execution_count": 58,
   "metadata": {
    "collapsed": false
   },
   "outputs": [
    {
     "name": "stdout",
     "output_type": "stream",
     "text": [
      "191\n",
      "244\n",
      "279\n",
      "306\n",
      "315\n",
      "332\n",
      "373\n",
      "378\n",
      "382\n",
      "384\n"
     ]
    }
   ],
   "source": [
    "dtype = [('node', int), ('score', float)]\n",
    "\n",
    "values = list(zip(range(N), newPi))\n",
    "a = np.array(values, dtype = dtype)\n",
    "tenBest = np.sort(a, order = 'score')[0:10]\n",
    "for i in range(10):\n",
    "    print(tenBest[i][0])"
   ]
  },
  {
   "cell_type": "markdown",
   "metadata": {},
   "source": [
    "---\n",
    "\n",
    "### 2.4.3 Gaming the system *(Bonus)*\n",
    "\n",
    "#### Exercise 2.15 *(Bonus)*"
   ]
  },
  {
   "cell_type": "code",
   "execution_count": null,
   "metadata": {
    "collapsed": true
   },
   "outputs": [],
   "source": []
  }
 ],
 "metadata": {
  "anaconda-cloud": {},
  "kernelspec": {
   "display_name": "Python 3",
   "language": "python",
   "name": "python3"
  },
  "language_info": {
   "codemirror_mode": {
    "name": "ipython",
    "version": 3
   },
   "file_extension": ".py",
   "mimetype": "text/x-python",
   "name": "python",
   "nbconvert_exporter": "python",
   "pygments_lexer": "ipython3",
   "version": "3.5.2"
  }
 },
 "nbformat": 4,
 "nbformat_minor": 2
}
